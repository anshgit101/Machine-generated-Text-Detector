{
 "cells": [
  {
   "cell_type": "code",
   "execution_count": 1,
   "id": "601f9ae0-7d40-4832-9258-78745fd7bc1f",
   "metadata": {},
   "outputs": [
    {
     "name": "stdout",
     "output_type": "stream",
     "text": [
      "Using device: cuda\n"
     ]
    }
   ],
   "source": [
    "import torch\n",
    "device = torch.device(\"cuda\" if torch.cuda.is_available() else \"cpu\")\n",
    "print(\"Using device:\", device)\n",
    "import torch\n",
    "from torch.utils.data import Dataset, DataLoader\n",
    "import numpy as np\n",
    "import pandas as pd\n",
    "import matplotlib.pyplot as plt"
   ]
  },
  {
   "cell_type": "code",
   "execution_count": 2,
   "id": "36ec0cec-51c0-48dd-8ea1-edb0c37f290a",
   "metadata": {},
   "outputs": [],
   "source": [
    "import os\n",
    "os.environ[\"WANDB_DISABLED\"] = \"true\"\n",
    "seed = 25\n",
    "# random.seed(seed)\n",
    "np.random.seed(seed)\n",
    "torch.manual_seed(seed)\n",
    "torch.cuda.manual_seed_all(seed)"
   ]
  },
  {
   "cell_type": "code",
   "execution_count": 3,
   "id": "4ab57214-3470-47db-b8a6-5367aaa57a2a",
   "metadata": {},
   "outputs": [
    {
     "name": "stdout",
     "output_type": "stream",
     "text": [
      "      id                                               text      label\n",
      "0  12322  you need to stop the engine and wait until it ...  generated\n",
      "1   1682  The Commission shall publish the report; an in...  generated\n",
      "2  22592  I have not been tweeting a lot lately, but I d...  generated\n",
      "3  17390  I pass my exam and really thankgod for that bu...      human\n",
      "4  30453  The template will have 3 parts: a mustache sha...      human\n"
     ]
    }
   ],
   "source": [
    "train_data = pd.read_csv('datasets/subtask_1/en/train.tsv',sep='\\t')\n",
    "train_data = train_data.reset_index(drop=True)\n",
    "print(train_data.head())"
   ]
  },
  {
   "cell_type": "code",
   "execution_count": 4,
   "id": "dd3dbb4a-e636-4ceb-ae28-205c1dea85a2",
   "metadata": {},
   "outputs": [
    {
     "name": "stdout",
     "output_type": "stream",
     "text": [
      "train data size:  27414\n",
      "validation data size:  3046\n",
      "test data size:  3385\n"
     ]
    }
   ],
   "source": [
    "from sklearn.model_selection import train_test_split\n",
    "train_data_texts = train_data['text'].to_list()\n",
    "train_data_labels = train_data['label'].to_list()\n",
    "train_texts, test_texts, train_labels, test_labels = train_test_split(train_data_texts, train_data_labels, test_size=0.1, random_state=25)\n",
    "train_texts, val_texts, train_labels, val_labels = train_test_split(train_texts, train_labels, test_size=0.1, random_state=25)\n",
    "print('train data size: ', len(train_texts))\n",
    "print('validation data size: ', len(val_texts))\n",
    "print('test data size: ', len(test_texts))"
   ]
  },
  {
   "cell_type": "code",
   "execution_count": 5,
   "id": "1586397a-80c3-47c0-b13b-87d8e20e8833",
   "metadata": {},
   "outputs": [
    {
     "name": "stderr",
     "output_type": "stream",
     "text": [
      "Some weights of GPT2ForSequenceClassification were not initialized from the model checkpoint at gpt2 and are newly initialized: ['score.weight']\n",
      "You should probably TRAIN this model on a down-stream task to be able to use it for predictions and inference.\n"
     ]
    },
    {
     "name": "stdout",
     "output_type": "stream",
     "text": [
      "Model Configurations\n",
      "\n",
      "GPT2Config {\n",
      "  \"_name_or_path\": \"gpt2\",\n",
      "  \"activation_function\": \"gelu_new\",\n",
      "  \"architectures\": [\n",
      "    \"GPT2LMHeadModel\"\n",
      "  ],\n",
      "  \"attn_pdrop\": 0.1,\n",
      "  \"bos_token_id\": 50256,\n",
      "  \"embd_pdrop\": 0.1,\n",
      "  \"eos_token_id\": 50256,\n",
      "  \"initializer_range\": 0.02,\n",
      "  \"layer_norm_epsilon\": 1e-05,\n",
      "  \"model_type\": \"gpt2\",\n",
      "  \"n_ctx\": 1024,\n",
      "  \"n_embd\": 768,\n",
      "  \"n_head\": 12,\n",
      "  \"n_inner\": null,\n",
      "  \"n_layer\": 12,\n",
      "  \"n_positions\": 1024,\n",
      "  \"pad_token_id\": 50256,\n",
      "  \"reorder_and_upcast_attn\": false,\n",
      "  \"resid_pdrop\": 0.1,\n",
      "  \"scale_attn_by_inverse_layer_idx\": false,\n",
      "  \"scale_attn_weights\": true,\n",
      "  \"summary_activation\": null,\n",
      "  \"summary_first_dropout\": 0.1,\n",
      "  \"summary_proj_to_labels\": true,\n",
      "  \"summary_type\": \"cls_index\",\n",
      "  \"summary_use_proj\": true,\n",
      "  \"task_specific_params\": {\n",
      "    \"text-generation\": {\n",
      "      \"do_sample\": true,\n",
      "      \"max_length\": 50\n",
      "    }\n",
      "  },\n",
      "  \"transformers_version\": \"4.24.0\",\n",
      "  \"use_cache\": true,\n",
      "  \"vocab_size\": 50257\n",
      "}\n",
      "\n"
     ]
    }
   ],
   "source": [
    "from transformers import AdamW, AutoTokenizer, AutoModelForSequenceClassification, DataCollatorWithPadding\n",
    "from transformers import TrainingArguments, Trainer\n",
    "tokenizer = AutoTokenizer.from_pretrained(\"gpt2\")\n",
    "tokenizer.pad_token = tokenizer.eos_token\n",
    "\n",
    "model = AutoModelForSequenceClassification.from_pretrained(\"gpt2\").to(device)\n",
    "model.config.pad_token_id = model.config.eos_token_id\n",
    "print(\"Model Configurations\")\n",
    "print()\n",
    "print(model.config)"
   ]
  },
  {
   "cell_type": "code",
   "execution_count": 6,
   "id": "8dbc3daf-a5be-403d-ab6d-4d0be34763fd",
   "metadata": {},
   "outputs": [
    {
     "name": "stdout",
     "output_type": "stream",
     "text": [
      "Sample Data Point\n",
      "\n",
      "{'input_ids': tensor([ 7085,  3871,  1998,   517,  2761,   351, 38628, 21545,   618,   484,\n",
      "          423,   281,  5387,  3797, 43332,   287,  1295,    11,   290,   777,\n",
      "         3797,   258,  1010,   389,  4615,  1141,   262,  4905,    13,   471,\n",
      "         7640, 21545,   290,   753,   756, 18386,   460,   635,   307,  4073,\n",
      "          416,   257, 26234, 15050,  5095,    13,   383, 25377,   326,  1630,\n",
      "          262, 34918,   743,   423,   587,  9694,   287,   257,  1097,  5778,\n",
      "          393,   584, 14649,    13,  3457,   756, 18386,  3221,  8833,   618,\n",
      "          262, 25377,   284,   262, 34918,   651, 28472,  2434,   393, 10153,\n",
      "          445,    13,  1318,   318,   645, 13996,   329,   428,  1917,    11,\n",
      "          475, 17638,   460,  3360,   787,   262,  3074,  1365,    13,  3406,\n",
      "         6253, 50256, 50256, 50256, 50256, 50256, 50256, 50256, 50256, 50256,\n",
      "        50256, 50256, 50256, 50256, 50256, 50256, 50256, 50256, 50256, 50256,\n",
      "        50256, 50256, 50256, 50256, 50256, 50256, 50256, 50256, 50256, 50256,\n",
      "        50256, 50256, 50256, 50256, 50256, 50256, 50256]), 'attention_mask': tensor([1, 1, 1, 1, 1, 1, 1, 1, 1, 1, 1, 1, 1, 1, 1, 1, 1, 1, 1, 1, 1, 1, 1, 1,\n",
      "        1, 1, 1, 1, 1, 1, 1, 1, 1, 1, 1, 1, 1, 1, 1, 1, 1, 1, 1, 1, 1, 1, 1, 1,\n",
      "        1, 1, 1, 1, 1, 1, 1, 1, 1, 1, 1, 1, 1, 1, 1, 1, 1, 1, 1, 1, 1, 1, 1, 1,\n",
      "        1, 1, 1, 1, 1, 1, 1, 1, 1, 1, 1, 1, 1, 1, 1, 1, 1, 1, 1, 1, 1, 1, 1, 1,\n",
      "        1, 1, 1, 1, 1, 0, 0, 0, 0, 0, 0, 0, 0, 0, 0, 0, 0, 0, 0, 0, 0, 0, 0, 0,\n",
      "        0, 0, 0, 0, 0, 0, 0, 0, 0, 0, 0, 0, 0, 0, 0, 0, 0]), 'labels': tensor(1)}\n"
     ]
    }
   ],
   "source": [
    "train_encodings = tokenizer(train_texts, truncation=True, padding=True, max_length=256)\n",
    "val_encodings = tokenizer(val_texts, truncation=True, padding=True, max_length=256)\n",
    "test_encodings = tokenizer(test_texts, truncation=True, padding=True, max_length=256)\n",
    "\n",
    "class CustomDataset(torch.utils.data.Dataset):\n",
    "    def __init__(self, encodings, labels):\n",
    "        self.encodings = encodings\n",
    "        self.labels = labels\n",
    "\n",
    "    def __getitem__(self, idx):\n",
    "        item = {key: torch.tensor(val[idx]) for key, val in self.encodings.items()}\n",
    "        if self.labels[idx] == 'human':\n",
    "            item['labels'] = torch.tensor(0)\n",
    "        else:\n",
    "            item['labels'] = torch.tensor(1)\n",
    "        return item\n",
    "\n",
    "    def __len__(self):\n",
    "        return len(self.labels)\n",
    "\n",
    "train_dataset = CustomDataset(train_encodings, train_labels)\n",
    "val_dataset = CustomDataset(val_encodings, val_labels)\n",
    "test_dataset = CustomDataset(test_encodings, test_labels)\n",
    "\n",
    "print(\"Sample Data Point\")\n",
    "print()\n",
    "print(train_dataset[0])"
   ]
  },
  {
   "cell_type": "code",
   "execution_count": 7,
   "id": "638f956e-965e-41af-8577-67da0da28344",
   "metadata": {},
   "outputs": [],
   "source": [
    "from sklearn.metrics import accuracy_score, precision_recall_fscore_support\n",
    "\n",
    "def compute_metrics(eval_pred):\n",
    "    predictions, labels = eval_pred\n",
    "    predictions = np.argmax(predictions, axis=1)\n",
    "    precision, recall, f1, _ = precision_recall_fscore_support(labels, predictions, average='macro')\n",
    "    acc = accuracy_score(labels, predictions)\n",
    "    return {\n",
    "        'accuracy': acc,\n",
    "        'f1': f1,\n",
    "        'precision': precision,\n",
    "        'recall': recall\n",
    "    }\n"
   ]
  },
  {
   "cell_type": "code",
   "execution_count": 8,
   "id": "df6e4dd7-1135-473b-ba32-46cb2fd7b148",
   "metadata": {},
   "outputs": [
    {
     "name": "stderr",
     "output_type": "stream",
     "text": [
      "Using the `WANDB_DISABLED` environment variable is deprecated and will be removed in v5. Use the --report_to flag to control the integrations used for logging result (for instance --report_to none).\n",
      "/home2/harshit.g/miniconda3/envs/pyt/lib/python3.10/site-packages/transformers/optimization.py:306: FutureWarning: This implementation of AdamW is deprecated and will be removed in a future version. Use the PyTorch implementation torch.optim.AdamW instead, or set `no_deprecation_warning=True` to disable this warning\n",
      "  warnings.warn(\n",
      "***** Running training *****\n",
      "  Num examples = 27414\n",
      "  Num Epochs = 4\n",
      "  Instantaneous batch size per device = 32\n",
      "  Total train batch size (w. parallel, distributed & accumulation) = 96\n",
      "  Gradient Accumulation steps = 1\n",
      "  Total optimization steps = 1144\n",
      "  Number of trainable parameters = 124441344\n",
      "/home2/harshit.g/miniconda3/envs/pyt/lib/python3.10/site-packages/torch/nn/parallel/_functions.py:68: UserWarning: Was asked to gather along dimension 0, but all input tensors were scalars; will instead unsqueeze and return a vector.\n",
      "  warnings.warn('Was asked to gather along dimension 0, but all '\n"
     ]
    },
    {
     "data": {
      "text/html": [
       "\n",
       "    <div>\n",
       "      \n",
       "      <progress value='1144' max='1144' style='width:300px; height:20px; vertical-align: middle;'></progress>\n",
       "      [1144/1144 14:35, Epoch 4/4]\n",
       "    </div>\n",
       "    <table border=\"1\" class=\"dataframe\">\n",
       "  <thead>\n",
       " <tr style=\"text-align: left;\">\n",
       "      <th>Epoch</th>\n",
       "      <th>Training Loss</th>\n",
       "      <th>Validation Loss</th>\n",
       "      <th>Accuracy</th>\n",
       "      <th>F1</th>\n",
       "      <th>Precision</th>\n",
       "      <th>Recall</th>\n",
       "    </tr>\n",
       "  </thead>\n",
       "  <tbody>\n",
       "    <tr>\n",
       "      <td>1</td>\n",
       "      <td>0.327900</td>\n",
       "      <td>0.698550</td>\n",
       "      <td>0.773802</td>\n",
       "      <td>0.767092</td>\n",
       "      <td>0.815015</td>\n",
       "      <td>0.776040</td>\n",
       "    </tr>\n",
       "    <tr>\n",
       "      <td>2</td>\n",
       "      <td>0.193100</td>\n",
       "      <td>0.291920</td>\n",
       "      <td>0.896257</td>\n",
       "      <td>0.895886</td>\n",
       "      <td>0.904119</td>\n",
       "      <td>0.897142</td>\n",
       "    </tr>\n",
       "    <tr>\n",
       "      <td>3</td>\n",
       "      <td>0.113400</td>\n",
       "      <td>0.316618</td>\n",
       "      <td>0.896257</td>\n",
       "      <td>0.895713</td>\n",
       "      <td>0.907266</td>\n",
       "      <td>0.897298</td>\n",
       "    </tr>\n",
       "    <tr>\n",
       "      <td>4</td>\n",
       "      <td>0.053100</td>\n",
       "      <td>0.343166</td>\n",
       "      <td>0.903152</td>\n",
       "      <td>0.902728</td>\n",
       "      <td>0.912663</td>\n",
       "      <td>0.904116</td>\n",
       "    </tr>\n",
       "  </tbody>\n",
       "</table><p>"
      ],
      "text/plain": [
       "<IPython.core.display.HTML object>"
      ]
     },
     "metadata": {},
     "output_type": "display_data"
    },
    {
     "name": "stderr",
     "output_type": "stream",
     "text": [
      "***** Running Evaluation *****\n",
      "  Num examples = 3046\n",
      "  Batch size = 96\n",
      "Saving model checkpoint to ./models/english_gpt2_task1/checkpoint-286\n",
      "Configuration saved in ./models/english_gpt2_task1/checkpoint-286/config.json\n",
      "Model weights saved in ./models/english_gpt2_task1/checkpoint-286/pytorch_model.bin\n",
      "/home2/harshit.g/miniconda3/envs/pyt/lib/python3.10/site-packages/torch/nn/parallel/_functions.py:68: UserWarning: Was asked to gather along dimension 0, but all input tensors were scalars; will instead unsqueeze and return a vector.\n",
      "  warnings.warn('Was asked to gather along dimension 0, but all '\n",
      "***** Running Evaluation *****\n",
      "  Num examples = 3046\n",
      "  Batch size = 96\n",
      "Saving model checkpoint to ./models/english_gpt2_task1/checkpoint-572\n",
      "Configuration saved in ./models/english_gpt2_task1/checkpoint-572/config.json\n",
      "Model weights saved in ./models/english_gpt2_task1/checkpoint-572/pytorch_model.bin\n",
      "/home2/harshit.g/miniconda3/envs/pyt/lib/python3.10/site-packages/torch/nn/parallel/_functions.py:68: UserWarning: Was asked to gather along dimension 0, but all input tensors were scalars; will instead unsqueeze and return a vector.\n",
      "  warnings.warn('Was asked to gather along dimension 0, but all '\n",
      "***** Running Evaluation *****\n",
      "  Num examples = 3046\n",
      "  Batch size = 96\n",
      "Saving model checkpoint to ./models/english_gpt2_task1/checkpoint-858\n",
      "Configuration saved in ./models/english_gpt2_task1/checkpoint-858/config.json\n",
      "Model weights saved in ./models/english_gpt2_task1/checkpoint-858/pytorch_model.bin\n",
      "Deleting older checkpoint [models/english_gpt2_task1/checkpoint-286] due to args.save_total_limit\n",
      "/home2/harshit.g/miniconda3/envs/pyt/lib/python3.10/site-packages/torch/nn/parallel/_functions.py:68: UserWarning: Was asked to gather along dimension 0, but all input tensors were scalars; will instead unsqueeze and return a vector.\n",
      "  warnings.warn('Was asked to gather along dimension 0, but all '\n",
      "***** Running Evaluation *****\n",
      "  Num examples = 3046\n",
      "  Batch size = 96\n",
      "Saving model checkpoint to ./models/english_gpt2_task1/checkpoint-1144\n",
      "Configuration saved in ./models/english_gpt2_task1/checkpoint-1144/config.json\n",
      "Model weights saved in ./models/english_gpt2_task1/checkpoint-1144/pytorch_model.bin\n",
      "Deleting older checkpoint [models/english_gpt2_task1/checkpoint-572] due to args.save_total_limit\n",
      "\n",
      "\n",
      "Training completed. Do not forget to share your model on huggingface.co/models =)\n",
      "\n",
      "\n",
      "Loading best model from ./models/english_gpt2_task1/checkpoint-1144 (score: 0.9031516743269862).\n",
      "Deleting older checkpoint [models/english_gpt2_task1/checkpoint-858] due to args.save_total_limit\n",
      "Deleting older checkpoint [models/english_gpt2_task1/checkpoint-1144] due to args.save_total_limit\n"
     ]
    },
    {
     "data": {
      "text/plain": [
       "TrainOutput(global_step=1144, training_loss=0.368081795585739, metrics={'train_runtime': 879.1594, 'train_samples_per_second': 124.728, 'train_steps_per_second': 1.301, 'total_flos': 7666850855780352.0, 'train_loss': 0.368081795585739, 'epoch': 4.0})"
      ]
     },
     "execution_count": 8,
     "metadata": {},
     "output_type": "execute_result"
    }
   ],
   "source": [
    "training_args = TrainingArguments(\n",
    "    output_dir='./models/english_gpt2_task1',       \n",
    "    num_train_epochs=4,\n",
    "    per_device_train_batch_size=32,\n",
    "    per_device_eval_batch_size=32,\n",
    "    warmup_steps=500,\n",
    "    weight_decay=0.01,\n",
    "    logging_dir='./logs',\n",
    "    logging_steps=10,\n",
    "    load_best_model_at_end=True,\n",
    "    metric_for_best_model='accuracy',\n",
    "    evaluation_strategy='epoch',\n",
    "    save_strategy='epoch',\n",
    "    save_total_limit=1,\n",
    ")\n",
    "trainer = Trainer(\n",
    "    model=model,\n",
    "    args=training_args,\n",
    "    train_dataset=train_dataset,\n",
    "    eval_dataset=val_dataset,\n",
    "    compute_metrics=compute_metrics\n",
    ")\n",
    "trainer.train()"
   ]
  },
  {
   "cell_type": "code",
   "execution_count": 9,
   "id": "12835983-88e5-40aa-a671-f0785b323feb",
   "metadata": {},
   "outputs": [
    {
     "name": "stderr",
     "output_type": "stream",
     "text": [
      "***** Running Evaluation *****\n",
      "  Num examples = 3385\n",
      "  Batch size = 96\n",
      "/home2/harshit.g/miniconda3/envs/pyt/lib/python3.10/site-packages/torch/nn/parallel/_functions.py:68: UserWarning: Was asked to gather along dimension 0, but all input tensors were scalars; will instead unsqueeze and return a vector.\n",
      "  warnings.warn('Was asked to gather along dimension 0, but all '\n"
     ]
    },
    {
     "data": {
      "text/html": [],
      "text/plain": [
       "<IPython.core.display.HTML object>"
      ]
     },
     "metadata": {},
     "output_type": "display_data"
    },
    {
     "name": "stderr",
     "output_type": "stream",
     "text": [
      "***** Running Prediction *****\n",
      "  Num examples = 3385\n",
      "  Batch size = 96\n",
      "/home2/harshit.g/miniconda3/envs/pyt/lib/python3.10/site-packages/torch/nn/parallel/_functions.py:68: UserWarning: Was asked to gather along dimension 0, but all input tensors were scalars; will instead unsqueeze and return a vector.\n",
      "  warnings.warn('Was asked to gather along dimension 0, but all '\n"
     ]
    },
    {
     "name": "stdout",
     "output_type": "stream",
     "text": [
      "              precision    recall  f1-score   support\n",
      "\n",
      "           0       0.97      0.81      0.89      1703\n",
      "           1       0.84      0.98      0.90      1682\n",
      "\n",
      "    accuracy                           0.89      3385\n",
      "   macro avg       0.91      0.90      0.89      3385\n",
      "weighted avg       0.91      0.89      0.89      3385\n",
      "\n"
     ]
    }
   ],
   "source": [
    "trainer.evaluate(test_dataset)\n",
    "predictions, labels, _ = trainer.predict(test_dataset)\n",
    "predictions = np.argmax(predictions, axis=1)\n",
    "\n",
    "from sklearn.metrics import classification_report\n",
    "print(classification_report(labels, predictions))"
   ]
  },
  {
   "cell_type": "code",
   "execution_count": 10,
   "id": "37135fe7-660f-4fa8-bd1c-d7895160bffe",
   "metadata": {},
   "outputs": [
    {
     "name": "stderr",
     "output_type": "stream",
     "text": [
      "Saving model checkpoint to ./models/english_gpt2_task1/trained_model\n",
      "Configuration saved in ./models/english_gpt2_task1/trained_model/config.json\n",
      "Model weights saved in ./models/english_gpt2_task1/trained_model/pytorch_model.bin\n"
     ]
    }
   ],
   "source": [
    "trainer.save_model('./models/english_gpt2_task1/trained_model')"
   ]
  },
  {
   "cell_type": "code",
   "execution_count": null,
   "id": "3b7fc5ff-7fdb-4d5f-b704-66aa9c3b2938",
   "metadata": {},
   "outputs": [],
   "source": []
  }
 ],
 "metadata": {
  "kernelspec": {
   "display_name": "pyt",
   "language": "python",
   "name": "pyt"
  },
  "language_info": {
   "codemirror_mode": {
    "name": "ipython",
    "version": 3
   },
   "file_extension": ".py",
   "mimetype": "text/x-python",
   "name": "python",
   "nbconvert_exporter": "python",
   "pygments_lexer": "ipython3",
   "version": "3.10.4"
  }
 },
 "nbformat": 4,
 "nbformat_minor": 5
}
