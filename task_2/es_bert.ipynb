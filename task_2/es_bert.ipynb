{
 "cells": [
  {
   "cell_type": "code",
   "execution_count": 1,
   "id": "4b89ae68-16bd-495b-977a-1384389ca926",
   "metadata": {},
   "outputs": [
    {
     "name": "stdout",
     "output_type": "stream",
     "text": [
      "Using device: cuda:0\n"
     ]
    }
   ],
   "source": [
    "import torch\n",
    "device = torch.device(\"cuda:0\" if torch.cuda.is_available() else \"cpu\")\n",
    "print(\"Using device:\", device)\n",
    "import torch\n",
    "from torch.utils.data import Dataset, DataLoader\n",
    "import numpy as np\n",
    "import pandas as pd\n",
    "import matplotlib.pyplot as plt"
   ]
  },
  {
   "cell_type": "code",
   "execution_count": 2,
   "id": "9e0db76b-a714-46fe-8546-4ca9ddf12e64",
   "metadata": {},
   "outputs": [],
   "source": [
    "import os\n",
    "os.environ[\"WANDB_DISABLED\"] = \"true\""
   ]
  },
  {
   "cell_type": "code",
   "execution_count": 3,
   "id": "2f3893dc-528f-4fc1-840d-e4ff1623bb46",
   "metadata": {},
   "outputs": [],
   "source": [
    "seed = 25\n",
    "# random.seed(seed)\n",
    "np.random.seed(seed)\n",
    "torch.manual_seed(seed)\n",
    "torch.cuda.manual_seed_all(seed)"
   ]
  },
  {
   "cell_type": "code",
   "execution_count": 4,
   "id": "3092c446-2756-4864-9761-9a2a61fce91f",
   "metadata": {},
   "outputs": [
    {
     "name": "stdout",
     "output_type": "stream",
     "text": [
      "      id                                               text label\n",
      "0  12786  Sin embargo, los jóvenes son capaces de recono...     B\n",
      "1  12361  ¿Hay algo más que quieras compartir? ¿Algo sob...     B\n",
      "2   1662  El servicio de sala es bueno, rápido y amabilí...     B\n",
      "3  14729  Para concentrarse en el hablante, trata de des...     F\n",
      "4   9312  Los responsables locales tendrán ahora que esp...     F\n"
     ]
    }
   ],
   "source": [
    "train_data = pd.read_csv('datasets/subtask_2/es/train.tsv',sep='\\t')\n",
    "train_data = train_data.reset_index(drop=True)\n",
    "print(train_data.head())"
   ]
  },
  {
   "cell_type": "code",
   "execution_count": 5,
   "id": "8f0c27a0-ce1b-4058-a542-dccfcd447764",
   "metadata": {},
   "outputs": [
    {
     "name": "stdout",
     "output_type": "stream",
     "text": [
      "Unique labels:  {'C', 'F', 'A', 'E', 'D', 'B'}\n"
     ]
    }
   ],
   "source": [
    "train_data_texts = train_data['text'].to_list()\n",
    "train_data_labels = train_data['label'].to_list()\n",
    "print(\"Unique labels: \", set(train_data_labels))"
   ]
  },
  {
   "cell_type": "code",
   "execution_count": 6,
   "id": "d39aa787-11cc-47af-8814-595691a510f0",
   "metadata": {},
   "outputs": [
    {
     "name": "stdout",
     "output_type": "stream",
     "text": [
      "train data size:  17766\n",
      "validation data size:  1975\n",
      "test data size:  2194\n"
     ]
    }
   ],
   "source": [
    "from sklearn.model_selection import train_test_split\n",
    "train_data_texts = train_data['text'].to_list()\n",
    "train_data_labels = train_data['label'].to_list()\n",
    "train_texts, test_texts, train_labels, test_labels = train_test_split(train_data_texts, train_data_labels, test_size=0.1, random_state=25)\n",
    "train_texts, val_texts, train_labels, val_labels = train_test_split(train_texts, train_labels, test_size=0.1, random_state=25)\n",
    "print('train data size: ', len(train_texts))\n",
    "print('validation data size: ', len(val_texts))\n",
    "print('test data size: ', len(test_texts))"
   ]
  },
  {
   "cell_type": "code",
   "execution_count": 7,
   "id": "07b25590-f81c-4cc3-8767-4f21061e232a",
   "metadata": {},
   "outputs": [
    {
     "name": "stderr",
     "output_type": "stream",
     "text": [
      "Some weights of the model checkpoint at dccuchile/bert-base-spanish-wwm-cased were not used when initializing BertForSequenceClassification: ['cls.predictions.transform.LayerNorm.weight', 'cls.predictions.decoder.bias', 'cls.predictions.decoder.weight', 'cls.predictions.transform.LayerNorm.bias', 'cls.predictions.transform.dense.weight', 'cls.predictions.bias', 'cls.predictions.transform.dense.bias']\n",
      "- This IS expected if you are initializing BertForSequenceClassification from the checkpoint of a model trained on another task or with another architecture (e.g. initializing a BertForSequenceClassification model from a BertForPreTraining model).\n",
      "- This IS NOT expected if you are initializing BertForSequenceClassification from the checkpoint of a model that you expect to be exactly identical (initializing a BertForSequenceClassification model from a BertForSequenceClassification model).\n",
      "Some weights of BertForSequenceClassification were not initialized from the model checkpoint at dccuchile/bert-base-spanish-wwm-cased and are newly initialized: ['bert.pooler.dense.weight', 'classifier.weight', 'classifier.bias', 'bert.pooler.dense.bias']\n",
      "You should probably TRAIN this model on a down-stream task to be able to use it for predictions and inference.\n"
     ]
    },
    {
     "name": "stdout",
     "output_type": "stream",
     "text": [
      "Model Configurations\n",
      "\n",
      "BertConfig {\n",
      "  \"_name_or_path\": \"dccuchile/bert-base-spanish-wwm-cased\",\n",
      "  \"architectures\": [\n",
      "    \"BertForMaskedLM\"\n",
      "  ],\n",
      "  \"attention_probs_dropout_prob\": 0.1,\n",
      "  \"classifier_dropout\": null,\n",
      "  \"gradient_checkpointing\": false,\n",
      "  \"hidden_act\": \"gelu\",\n",
      "  \"hidden_dropout_prob\": 0.1,\n",
      "  \"hidden_size\": 768,\n",
      "  \"id2label\": {\n",
      "    \"0\": \"LABEL_0\",\n",
      "    \"1\": \"LABEL_1\",\n",
      "    \"2\": \"LABEL_2\",\n",
      "    \"3\": \"LABEL_3\",\n",
      "    \"4\": \"LABEL_4\",\n",
      "    \"5\": \"LABEL_5\"\n",
      "  },\n",
      "  \"initializer_range\": 0.02,\n",
      "  \"intermediate_size\": 3072,\n",
      "  \"label2id\": {\n",
      "    \"LABEL_0\": 0,\n",
      "    \"LABEL_1\": 1,\n",
      "    \"LABEL_2\": 2,\n",
      "    \"LABEL_3\": 3,\n",
      "    \"LABEL_4\": 4,\n",
      "    \"LABEL_5\": 5\n",
      "  },\n",
      "  \"layer_norm_eps\": 1e-12,\n",
      "  \"max_position_embeddings\": 512,\n",
      "  \"model_type\": \"bert\",\n",
      "  \"num_attention_heads\": 12,\n",
      "  \"num_hidden_layers\": 12,\n",
      "  \"output_past\": true,\n",
      "  \"pad_token_id\": 1,\n",
      "  \"position_embedding_type\": \"absolute\",\n",
      "  \"transformers_version\": \"4.24.0\",\n",
      "  \"type_vocab_size\": 2,\n",
      "  \"use_cache\": true,\n",
      "  \"vocab_size\": 31002\n",
      "}\n",
      "\n"
     ]
    }
   ],
   "source": [
    "from transformers import AdamW, AutoTokenizer, AutoModelForSequenceClassification, DataCollatorWithPadding\n",
    "from transformers import TrainingArguments, Trainer\n",
    "tokenizer = AutoTokenizer.from_pretrained(\"dccuchile/bert-base-spanish-wwm-cased\")\n",
    "model = AutoModelForSequenceClassification.from_pretrained(\"dccuchile/bert-base-spanish-wwm-cased\", num_labels=6).to(device)\n",
    "print(\"Model Configurations\")\n",
    "print()\n",
    "print(model.config)"
   ]
  },
  {
   "cell_type": "code",
   "execution_count": 8,
   "id": "7da0bc86-1379-4106-95e5-8b9ff15171c0",
   "metadata": {},
   "outputs": [
    {
     "name": "stdout",
     "output_type": "stream",
     "text": [
      "Sample Data Point\n",
      "\n",
      "{'input_ids': tensor([    4,  1094,  1135,  1162,  2655,  1094,  1072,  1735,  1094,  3828,\n",
      "        21178,  1036,  1065,  2847,  5218,  1181,     3,  2346,  1094,  1009,\n",
      "         1147,  1094,  1135,  1162,  4425,  1008,  3842,  1943,  1065,  2120,\n",
      "         1008, 15061, 11262,  7988, 27347,  2218,  1040,  4425, 12112,  6737,\n",
      "         1008,  3842, 11694,  1036,  1065,  5218,  1008,  1365,  2193,  1017,\n",
      "         1038,  1062,  7298, 30957,  1096,  1040,  3673,  1694,  1009,  1115,\n",
      "         1135,  1264, 21392,  1040,  1735,  1115,  1036,  1040,  3385,  5087,\n",
      "         1009,  1244,  1135,  1264, 21392,  1040,  1735,  1244,  1036,  1040,\n",
      "         3385,  2812,  1009,  1338,  1135,  1162,  2655,  1094,  1072,  6075,\n",
      "            5,     1,     1,     1,     1,     1,     1,     1,     1,     1,\n",
      "            1,     1,     1,     1,     1,     1,     1,     1,     1,     1,\n",
      "            1,     1,     1,     1,     1,     1,     1,     1,     1,     1,\n",
      "            1,     1,     1,     1,     1,     1,     1,     1,     1,     1,\n",
      "            1,     1,     1,     1,     1,     1,     1,     1,     1,     1,\n",
      "            1,     1,     1,     1,     1,     1,     1,     1,     1,     1,\n",
      "            1,     1,     1,     1,     1,     1,     1,     1,     1,     1,\n",
      "            1,     1,     1,     1,     1,     1,     1,     1,     1,     1,\n",
      "            1,     1,     1,     1,     1,     1,     1,     1,     1,     1,\n",
      "            1,     1,     1,     1,     1,     1,     1,     1,     1,     1,\n",
      "            1,     1,     1,     1,     1,     1,     1,     1,     1,     1,\n",
      "            1,     1,     1,     1,     1,     1,     1,     1,     1,     1,\n",
      "            1,     1,     1,     1,     1,     1,     1,     1,     1,     1,\n",
      "            1,     1]), 'token_type_ids': tensor([0, 0, 0, 0, 0, 0, 0, 0, 0, 0, 0, 0, 0, 0, 0, 0, 0, 0, 0, 0, 0, 0, 0, 0,\n",
      "        0, 0, 0, 0, 0, 0, 0, 0, 0, 0, 0, 0, 0, 0, 0, 0, 0, 0, 0, 0, 0, 0, 0, 0,\n",
      "        0, 0, 0, 0, 0, 0, 0, 0, 0, 0, 0, 0, 0, 0, 0, 0, 0, 0, 0, 0, 0, 0, 0, 0,\n",
      "        0, 0, 0, 0, 0, 0, 0, 0, 0, 0, 0, 0, 0, 0, 0, 0, 0, 0, 0, 0, 0, 0, 0, 0,\n",
      "        0, 0, 0, 0, 0, 0, 0, 0, 0, 0, 0, 0, 0, 0, 0, 0, 0, 0, 0, 0, 0, 0, 0, 0,\n",
      "        0, 0, 0, 0, 0, 0, 0, 0, 0, 0, 0, 0, 0, 0, 0, 0, 0, 0, 0, 0, 0, 0, 0, 0,\n",
      "        0, 0, 0, 0, 0, 0, 0, 0, 0, 0, 0, 0, 0, 0, 0, 0, 0, 0, 0, 0, 0, 0, 0, 0,\n",
      "        0, 0, 0, 0, 0, 0, 0, 0, 0, 0, 0, 0, 0, 0, 0, 0, 0, 0, 0, 0, 0, 0, 0, 0,\n",
      "        0, 0, 0, 0, 0, 0, 0, 0, 0, 0, 0, 0, 0, 0, 0, 0, 0, 0, 0, 0, 0, 0, 0, 0,\n",
      "        0, 0, 0, 0, 0, 0]), 'attention_mask': tensor([1, 1, 1, 1, 1, 1, 1, 1, 1, 1, 1, 1, 1, 1, 1, 1, 1, 1, 1, 1, 1, 1, 1, 1,\n",
      "        1, 1, 1, 1, 1, 1, 1, 1, 1, 1, 1, 1, 1, 1, 1, 1, 1, 1, 1, 1, 1, 1, 1, 1,\n",
      "        1, 1, 1, 1, 1, 1, 1, 1, 1, 1, 1, 1, 1, 1, 1, 1, 1, 1, 1, 1, 1, 1, 1, 1,\n",
      "        1, 1, 1, 1, 1, 1, 1, 1, 1, 1, 1, 1, 1, 1, 1, 1, 1, 1, 1, 0, 0, 0, 0, 0,\n",
      "        0, 0, 0, 0, 0, 0, 0, 0, 0, 0, 0, 0, 0, 0, 0, 0, 0, 0, 0, 0, 0, 0, 0, 0,\n",
      "        0, 0, 0, 0, 0, 0, 0, 0, 0, 0, 0, 0, 0, 0, 0, 0, 0, 0, 0, 0, 0, 0, 0, 0,\n",
      "        0, 0, 0, 0, 0, 0, 0, 0, 0, 0, 0, 0, 0, 0, 0, 0, 0, 0, 0, 0, 0, 0, 0, 0,\n",
      "        0, 0, 0, 0, 0, 0, 0, 0, 0, 0, 0, 0, 0, 0, 0, 0, 0, 0, 0, 0, 0, 0, 0, 0,\n",
      "        0, 0, 0, 0, 0, 0, 0, 0, 0, 0, 0, 0, 0, 0, 0, 0, 0, 0, 0, 0, 0, 0, 0, 0,\n",
      "        0, 0, 0, 0, 0, 0]), 'labels': tensor(4)}\n"
     ]
    }
   ],
   "source": [
    "train_encodings = tokenizer(train_texts, truncation=True, padding=True, max_length=256)\n",
    "val_encodings = tokenizer(val_texts, truncation=True, padding=True, max_length=256)\n",
    "test_encodings = tokenizer(test_texts, truncation=True, padding=True, max_length=256)\n",
    "\n",
    "class CustomDataset(torch.utils.data.Dataset):\n",
    "    def __init__(self, encodings, labels):\n",
    "        self.encodings = encodings\n",
    "        self.labels = labels\n",
    "\n",
    "    def __getitem__(self, idx):\n",
    "        item = {key: torch.tensor(val[idx]) for key, val in self.encodings.items()}\n",
    "        if self.labels[idx] == 'A':\n",
    "            item['labels'] = torch.tensor(0)\n",
    "        elif self.labels[idx] == 'B':\n",
    "            item['labels'] = torch.tensor(1)\n",
    "        elif self.labels[idx] == 'C':\n",
    "            item['labels'] = torch.tensor(2)\n",
    "        elif self.labels[idx] == 'D':\n",
    "            item['labels'] = torch.tensor(3)\n",
    "        elif self.labels[idx] == 'E':\n",
    "            item['labels'] = torch.tensor(4)\n",
    "        elif self.labels[idx] == 'F':\n",
    "            item['labels'] = torch.tensor(5)\n",
    "        return item\n",
    "\n",
    "    def __len__(self):\n",
    "        return len(self.labels)\n",
    "\n",
    "train_dataset = CustomDataset(train_encodings, train_labels)\n",
    "val_dataset = CustomDataset(val_encodings, val_labels)\n",
    "test_dataset = CustomDataset(test_encodings, test_labels)\n",
    "\n",
    "print(\"Sample Data Point\")\n",
    "print()\n",
    "print(train_dataset[0])"
   ]
  },
  {
   "cell_type": "code",
   "execution_count": 9,
   "id": "1a63cfef-a7b7-4919-b5cf-1543213beaee",
   "metadata": {},
   "outputs": [],
   "source": [
    "from sklearn.metrics import accuracy_score, precision_recall_fscore_support\n",
    "\n",
    "def compute_metrics(eval_pred):\n",
    "    predictions, labels = eval_pred\n",
    "    predictions = np.argmax(predictions, axis=1)\n",
    "    precision, recall, f1, _ = precision_recall_fscore_support(labels, predictions, average='weighted')\n",
    "    acc = accuracy_score(labels, predictions)\n",
    "    return {\n",
    "        'accuracy': acc,\n",
    "        'f1': f1,\n",
    "        'precision': precision,\n",
    "        'recall': recall\n",
    "    }"
   ]
  },
  {
   "cell_type": "code",
   "execution_count": 10,
   "id": "c3ed2014-2f4c-4157-b958-613533624ad5",
   "metadata": {},
   "outputs": [
    {
     "name": "stderr",
     "output_type": "stream",
     "text": [
      "Using the `WANDB_DISABLED` environment variable is deprecated and will be removed in v5. Use the --report_to flag to control the integrations used for logging result (for instance --report_to none).\n",
      "/home2/harshit.g/miniconda3/envs/pyt/lib/python3.10/site-packages/transformers/optimization.py:306: FutureWarning: This implementation of AdamW is deprecated and will be removed in a future version. Use the PyTorch implementation torch.optim.AdamW instead, or set `no_deprecation_warning=True` to disable this warning\n",
      "  warnings.warn(\n",
      "***** Running training *****\n",
      "  Num examples = 17766\n",
      "  Num Epochs = 8\n",
      "  Instantaneous batch size per device = 32\n",
      "  Total train batch size (w. parallel, distributed & accumulation) = 96\n",
      "  Gradient Accumulation steps = 1\n",
      "  Total optimization steps = 1488\n",
      "  Number of trainable parameters = 109855494\n",
      "/home2/harshit.g/miniconda3/envs/pyt/lib/python3.10/site-packages/torch/nn/parallel/_functions.py:68: UserWarning: Was asked to gather along dimension 0, but all input tensors were scalars; will instead unsqueeze and return a vector.\n",
      "  warnings.warn('Was asked to gather along dimension 0, but all '\n"
     ]
    },
    {
     "data": {
      "text/html": [
       "\n",
       "    <div>\n",
       "      \n",
       "      <progress value='1488' max='1488' style='width:300px; height:20px; vertical-align: middle;'></progress>\n",
       "      [1488/1488 23:00, Epoch 8/8]\n",
       "    </div>\n",
       "    <table border=\"1\" class=\"dataframe\">\n",
       "  <thead>\n",
       " <tr style=\"text-align: left;\">\n",
       "      <th>Epoch</th>\n",
       "      <th>Training Loss</th>\n",
       "      <th>Validation Loss</th>\n",
       "      <th>Accuracy</th>\n",
       "      <th>F1</th>\n",
       "      <th>Precision</th>\n",
       "      <th>Recall</th>\n",
       "    </tr>\n",
       "  </thead>\n",
       "  <tbody>\n",
       "    <tr>\n",
       "      <td>1</td>\n",
       "      <td>1.109600</td>\n",
       "      <td>1.116789</td>\n",
       "      <td>0.487595</td>\n",
       "      <td>0.453349</td>\n",
       "      <td>0.486235</td>\n",
       "      <td>0.487595</td>\n",
       "    </tr>\n",
       "    <tr>\n",
       "      <td>2</td>\n",
       "      <td>0.914100</td>\n",
       "      <td>0.924748</td>\n",
       "      <td>0.571646</td>\n",
       "      <td>0.539851</td>\n",
       "      <td>0.572042</td>\n",
       "      <td>0.571646</td>\n",
       "    </tr>\n",
       "    <tr>\n",
       "      <td>3</td>\n",
       "      <td>0.832000</td>\n",
       "      <td>0.901094</td>\n",
       "      <td>0.585823</td>\n",
       "      <td>0.561209</td>\n",
       "      <td>0.615051</td>\n",
       "      <td>0.585823</td>\n",
       "    </tr>\n",
       "    <tr>\n",
       "      <td>4</td>\n",
       "      <td>0.636200</td>\n",
       "      <td>0.915712</td>\n",
       "      <td>0.607089</td>\n",
       "      <td>0.601434</td>\n",
       "      <td>0.603577</td>\n",
       "      <td>0.607089</td>\n",
       "    </tr>\n",
       "    <tr>\n",
       "      <td>5</td>\n",
       "      <td>0.463100</td>\n",
       "      <td>1.090115</td>\n",
       "      <td>0.601519</td>\n",
       "      <td>0.594738</td>\n",
       "      <td>0.601158</td>\n",
       "      <td>0.601519</td>\n",
       "    </tr>\n",
       "    <tr>\n",
       "      <td>6</td>\n",
       "      <td>0.257600</td>\n",
       "      <td>1.376799</td>\n",
       "      <td>0.597975</td>\n",
       "      <td>0.594619</td>\n",
       "      <td>0.616179</td>\n",
       "      <td>0.597975</td>\n",
       "    </tr>\n",
       "    <tr>\n",
       "      <td>7</td>\n",
       "      <td>0.119700</td>\n",
       "      <td>1.599416</td>\n",
       "      <td>0.602025</td>\n",
       "      <td>0.603086</td>\n",
       "      <td>0.633673</td>\n",
       "      <td>0.602025</td>\n",
       "    </tr>\n",
       "    <tr>\n",
       "      <td>8</td>\n",
       "      <td>0.063800</td>\n",
       "      <td>1.736719</td>\n",
       "      <td>0.602532</td>\n",
       "      <td>0.596942</td>\n",
       "      <td>0.630355</td>\n",
       "      <td>0.602532</td>\n",
       "    </tr>\n",
       "  </tbody>\n",
       "</table><p>"
      ],
      "text/plain": [
       "<IPython.core.display.HTML object>"
      ]
     },
     "metadata": {},
     "output_type": "display_data"
    },
    {
     "name": "stderr",
     "output_type": "stream",
     "text": [
      "***** Running Evaluation *****\n",
      "  Num examples = 1975\n",
      "  Batch size = 96\n",
      "Saving model checkpoint to ./models/spanish_bert_task2/checkpoint-186\n",
      "Configuration saved in ./models/spanish_bert_task2/checkpoint-186/config.json\n",
      "Model weights saved in ./models/spanish_bert_task2/checkpoint-186/pytorch_model.bin\n",
      "/home2/harshit.g/miniconda3/envs/pyt/lib/python3.10/site-packages/torch/nn/parallel/_functions.py:68: UserWarning: Was asked to gather along dimension 0, but all input tensors were scalars; will instead unsqueeze and return a vector.\n",
      "  warnings.warn('Was asked to gather along dimension 0, but all '\n",
      "***** Running Evaluation *****\n",
      "  Num examples = 1975\n",
      "  Batch size = 96\n",
      "Saving model checkpoint to ./models/spanish_bert_task2/checkpoint-372\n",
      "Configuration saved in ./models/spanish_bert_task2/checkpoint-372/config.json\n",
      "Model weights saved in ./models/spanish_bert_task2/checkpoint-372/pytorch_model.bin\n",
      "/home2/harshit.g/miniconda3/envs/pyt/lib/python3.10/site-packages/torch/nn/parallel/_functions.py:68: UserWarning: Was asked to gather along dimension 0, but all input tensors were scalars; will instead unsqueeze and return a vector.\n",
      "  warnings.warn('Was asked to gather along dimension 0, but all '\n",
      "***** Running Evaluation *****\n",
      "  Num examples = 1975\n",
      "  Batch size = 96\n",
      "Saving model checkpoint to ./models/spanish_bert_task2/checkpoint-558\n",
      "Configuration saved in ./models/spanish_bert_task2/checkpoint-558/config.json\n",
      "Model weights saved in ./models/spanish_bert_task2/checkpoint-558/pytorch_model.bin\n",
      "Deleting older checkpoint [models/spanish_bert_task2/checkpoint-186] due to args.save_total_limit\n",
      "/home2/harshit.g/miniconda3/envs/pyt/lib/python3.10/site-packages/torch/nn/parallel/_functions.py:68: UserWarning: Was asked to gather along dimension 0, but all input tensors were scalars; will instead unsqueeze and return a vector.\n",
      "  warnings.warn('Was asked to gather along dimension 0, but all '\n",
      "***** Running Evaluation *****\n",
      "  Num examples = 1975\n",
      "  Batch size = 96\n",
      "Saving model checkpoint to ./models/spanish_bert_task2/checkpoint-744\n",
      "Configuration saved in ./models/spanish_bert_task2/checkpoint-744/config.json\n",
      "Model weights saved in ./models/spanish_bert_task2/checkpoint-744/pytorch_model.bin\n",
      "Deleting older checkpoint [models/spanish_bert_task2/checkpoint-372] due to args.save_total_limit\n",
      "/home2/harshit.g/miniconda3/envs/pyt/lib/python3.10/site-packages/torch/nn/parallel/_functions.py:68: UserWarning: Was asked to gather along dimension 0, but all input tensors were scalars; will instead unsqueeze and return a vector.\n",
      "  warnings.warn('Was asked to gather along dimension 0, but all '\n",
      "***** Running Evaluation *****\n",
      "  Num examples = 1975\n",
      "  Batch size = 96\n",
      "Saving model checkpoint to ./models/spanish_bert_task2/checkpoint-930\n",
      "Configuration saved in ./models/spanish_bert_task2/checkpoint-930/config.json\n",
      "Model weights saved in ./models/spanish_bert_task2/checkpoint-930/pytorch_model.bin\n",
      "Deleting older checkpoint [models/spanish_bert_task2/checkpoint-558] due to args.save_total_limit\n",
      "/home2/harshit.g/miniconda3/envs/pyt/lib/python3.10/site-packages/torch/nn/parallel/_functions.py:68: UserWarning: Was asked to gather along dimension 0, but all input tensors were scalars; will instead unsqueeze and return a vector.\n",
      "  warnings.warn('Was asked to gather along dimension 0, but all '\n",
      "***** Running Evaluation *****\n",
      "  Num examples = 1975\n",
      "  Batch size = 96\n",
      "Saving model checkpoint to ./models/spanish_bert_task2/checkpoint-1116\n",
      "Configuration saved in ./models/spanish_bert_task2/checkpoint-1116/config.json\n",
      "Model weights saved in ./models/spanish_bert_task2/checkpoint-1116/pytorch_model.bin\n",
      "Deleting older checkpoint [models/spanish_bert_task2/checkpoint-930] due to args.save_total_limit\n",
      "/home2/harshit.g/miniconda3/envs/pyt/lib/python3.10/site-packages/torch/nn/parallel/_functions.py:68: UserWarning: Was asked to gather along dimension 0, but all input tensors were scalars; will instead unsqueeze and return a vector.\n",
      "  warnings.warn('Was asked to gather along dimension 0, but all '\n",
      "***** Running Evaluation *****\n",
      "  Num examples = 1975\n",
      "  Batch size = 96\n",
      "Saving model checkpoint to ./models/spanish_bert_task2/checkpoint-1302\n",
      "Configuration saved in ./models/spanish_bert_task2/checkpoint-1302/config.json\n",
      "Model weights saved in ./models/spanish_bert_task2/checkpoint-1302/pytorch_model.bin\n",
      "Deleting older checkpoint [models/spanish_bert_task2/checkpoint-1116] due to args.save_total_limit\n",
      "/home2/harshit.g/miniconda3/envs/pyt/lib/python3.10/site-packages/torch/nn/parallel/_functions.py:68: UserWarning: Was asked to gather along dimension 0, but all input tensors were scalars; will instead unsqueeze and return a vector.\n",
      "  warnings.warn('Was asked to gather along dimension 0, but all '\n",
      "***** Running Evaluation *****\n",
      "  Num examples = 1975\n",
      "  Batch size = 96\n",
      "Saving model checkpoint to ./models/spanish_bert_task2/checkpoint-1488\n",
      "Configuration saved in ./models/spanish_bert_task2/checkpoint-1488/config.json\n",
      "Model weights saved in ./models/spanish_bert_task2/checkpoint-1488/pytorch_model.bin\n",
      "Deleting older checkpoint [models/spanish_bert_task2/checkpoint-1302] due to args.save_total_limit\n",
      "\n",
      "\n",
      "Training completed. Do not forget to share your model on huggingface.co/models =)\n",
      "\n",
      "\n",
      "Loading best model from ./models/spanish_bert_task2/checkpoint-744 (score: 0.6070886075949367).\n",
      "Deleting older checkpoint [models/spanish_bert_task2/checkpoint-744] due to args.save_total_limit\n",
      "Deleting older checkpoint [models/spanish_bert_task2/checkpoint-1488] due to args.save_total_limit\n"
     ]
    },
    {
     "data": {
      "text/plain": [
       "TrainOutput(global_step=1488, training_loss=0.6148301084595983, metrics={'train_runtime': 1383.2581, 'train_samples_per_second': 102.749, 'train_steps_per_second': 1.076, 'total_flos': 1.6215014895682176e+16, 'train_loss': 0.6148301084595983, 'epoch': 8.0})"
      ]
     },
     "execution_count": 10,
     "metadata": {},
     "output_type": "execute_result"
    }
   ],
   "source": [
    "training_args = TrainingArguments(\n",
    "    output_dir='./models/spanish_bert_task2',       \n",
    "    num_train_epochs=8,\n",
    "    per_device_train_batch_size=32,\n",
    "    per_device_eval_batch_size=32,\n",
    "    warmup_steps=500,\n",
    "    weight_decay=0.01,\n",
    "    logging_dir='./logs',\n",
    "    logging_steps=10,\n",
    "    load_best_model_at_end=True,\n",
    "    metric_for_best_model='accuracy',\n",
    "    evaluation_strategy='epoch',\n",
    "    save_strategy='epoch',\n",
    "    save_total_limit=1,\n",
    ")\n",
    "trainer = Trainer(\n",
    "    model=model,\n",
    "    args=training_args,\n",
    "    train_dataset=train_dataset,\n",
    "    eval_dataset=val_dataset,\n",
    "    compute_metrics=compute_metrics\n",
    ")\n",
    "trainer.train()"
   ]
  },
  {
   "cell_type": "code",
   "execution_count": 11,
   "id": "63d84596-457a-4002-94db-3988745720e2",
   "metadata": {},
   "outputs": [
    {
     "name": "stderr",
     "output_type": "stream",
     "text": [
      "***** Running Evaluation *****\n",
      "  Num examples = 2194\n",
      "  Batch size = 96\n",
      "/home2/harshit.g/miniconda3/envs/pyt/lib/python3.10/site-packages/torch/nn/parallel/_functions.py:68: UserWarning: Was asked to gather along dimension 0, but all input tensors were scalars; will instead unsqueeze and return a vector.\n",
      "  warnings.warn('Was asked to gather along dimension 0, but all '\n"
     ]
    },
    {
     "data": {
      "text/html": [],
      "text/plain": [
       "<IPython.core.display.HTML object>"
      ]
     },
     "metadata": {},
     "output_type": "display_data"
    },
    {
     "name": "stderr",
     "output_type": "stream",
     "text": [
      "***** Running Prediction *****\n",
      "  Num examples = 2194\n",
      "  Batch size = 96\n",
      "/home2/harshit.g/miniconda3/envs/pyt/lib/python3.10/site-packages/torch/nn/parallel/_functions.py:68: UserWarning: Was asked to gather along dimension 0, but all input tensors were scalars; will instead unsqueeze and return a vector.\n",
      "  warnings.warn('Was asked to gather along dimension 0, but all '\n"
     ]
    },
    {
     "name": "stdout",
     "output_type": "stream",
     "text": [
      "              precision    recall  f1-score   support\n",
      "\n",
      "           0       0.69      0.70      0.69       317\n",
      "           1       0.44      0.47      0.45       354\n",
      "           2       0.49      0.46      0.48       370\n",
      "           3       0.65      0.49      0.56       378\n",
      "           4       0.49      0.53      0.51       369\n",
      "           5       0.80      0.91      0.85       406\n",
      "\n",
      "    accuracy                           0.60      2194\n",
      "   macro avg       0.59      0.59      0.59      2194\n",
      "weighted avg       0.60      0.60      0.59      2194\n",
      "\n"
     ]
    }
   ],
   "source": [
    "trainer.evaluate(test_dataset)\n",
    "predictions, labels, _ = trainer.predict(test_dataset)\n",
    "predictions = np.argmax(predictions, axis=1)\n",
    "\n",
    "from sklearn.metrics import classification_report\n",
    "print(classification_report(labels, predictions))"
   ]
  },
  {
   "cell_type": "code",
   "execution_count": 12,
   "id": "c1f920bb-4610-4d57-b80a-555a3a69e2cc",
   "metadata": {},
   "outputs": [
    {
     "name": "stderr",
     "output_type": "stream",
     "text": [
      "Saving model checkpoint to ./models/spanish_bert_task2/trained_model\n",
      "Configuration saved in ./models/spanish_bert_task2/trained_model/config.json\n",
      "Model weights saved in ./models/spanish_bert_task2/trained_model/pytorch_model.bin\n"
     ]
    }
   ],
   "source": [
    "trainer.save_model('./models/spanish_bert_task2/trained_model')"
   ]
  },
  {
   "cell_type": "code",
   "execution_count": null,
   "id": "e1f5a117-ea02-4c3e-85ff-407f445fd518",
   "metadata": {},
   "outputs": [],
   "source": []
  }
 ],
 "metadata": {
  "kernelspec": {
   "display_name": "pyt",
   "language": "python",
   "name": "pyt"
  },
  "language_info": {
   "codemirror_mode": {
    "name": "ipython",
    "version": 3
   },
   "file_extension": ".py",
   "mimetype": "text/x-python",
   "name": "python",
   "nbconvert_exporter": "python",
   "pygments_lexer": "ipython3",
   "version": "3.10.4"
  }
 },
 "nbformat": 4,
 "nbformat_minor": 5
}
