{
  "nbformat": 4,
  "nbformat_minor": 0,
  "metadata": {
    "colab": {
      "provenance": [],
      "gpuType": "T4",
      "collapsed_sections": [
        "8wNB8EqzRr6L"
      ]
    },
    "kernelspec": {
      "name": "python3",
      "display_name": "Python 3"
    },
    "language_info": {
      "name": "python"
    },
    "accelerator": "GPU",
    "gpuClass": "standard"
  },
  "cells": [
    {
      "cell_type": "code",
      "source": [
        "from google.colab import drive\n",
        "drive.mount('/content/drive')"
      ],
      "metadata": {
        "colab": {
          "base_uri": "https://localhost:8080/"
        },
        "id": "rQFO-3Hr2c4Y",
        "outputId": "a6c3cbe7-9166-4f9b-fb09-1058d68aa5b5"
      },
      "execution_count": null,
      "outputs": [
        {
          "output_type": "stream",
          "name": "stdout",
          "text": [
            "Drive already mounted at /content/drive; to attempt to forcibly remount, call drive.mount(\"/content/drive\", force_remount=True).\n"
          ]
        }
      ]
    },
    {
      "cell_type": "code",
      "execution_count": null,
      "metadata": {
        "id": "94OpNyuGEK46",
        "colab": {
          "base_uri": "https://localhost:8080/"
        },
        "outputId": "bcac7c9b-b223-443e-84ab-f55fb8d158f6"
      },
      "outputs": [
        {
          "output_type": "stream",
          "name": "stdout",
          "text": [
            "Looking in indexes: https://pypi.org/simple, https://us-python.pkg.dev/colab-wheels/public/simple/\n",
            "Requirement already satisfied: transformers in /usr/local/lib/python3.10/dist-packages (4.28.1)\n",
            "Requirement already satisfied: tokenizers!=0.11.3,<0.14,>=0.11.1 in /usr/local/lib/python3.10/dist-packages (from transformers) (0.13.3)\n",
            "Requirement already satisfied: huggingface-hub<1.0,>=0.11.0 in /usr/local/lib/python3.10/dist-packages (from transformers) (0.14.1)\n",
            "Requirement already satisfied: filelock in /usr/local/lib/python3.10/dist-packages (from transformers) (3.12.0)\n",
            "Requirement already satisfied: packaging>=20.0 in /usr/local/lib/python3.10/dist-packages (from transformers) (23.1)\n",
            "Requirement already satisfied: numpy>=1.17 in /usr/local/lib/python3.10/dist-packages (from transformers) (1.22.4)\n",
            "Requirement already satisfied: requests in /usr/local/lib/python3.10/dist-packages (from transformers) (2.27.1)\n",
            "Requirement already satisfied: regex!=2019.12.17 in /usr/local/lib/python3.10/dist-packages (from transformers) (2022.10.31)\n",
            "Requirement already satisfied: pyyaml>=5.1 in /usr/local/lib/python3.10/dist-packages (from transformers) (6.0)\n",
            "Requirement already satisfied: tqdm>=4.27 in /usr/local/lib/python3.10/dist-packages (from transformers) (4.65.0)\n",
            "Requirement already satisfied: typing-extensions>=3.7.4.3 in /usr/local/lib/python3.10/dist-packages (from huggingface-hub<1.0,>=0.11.0->transformers) (4.5.0)\n",
            "Requirement already satisfied: fsspec in /usr/local/lib/python3.10/dist-packages (from huggingface-hub<1.0,>=0.11.0->transformers) (2023.4.0)\n",
            "Requirement already satisfied: charset-normalizer~=2.0.0 in /usr/local/lib/python3.10/dist-packages (from requests->transformers) (2.0.12)\n",
            "Requirement already satisfied: urllib3<1.27,>=1.21.1 in /usr/local/lib/python3.10/dist-packages (from requests->transformers) (1.26.15)\n",
            "Requirement already satisfied: idna<4,>=2.5 in /usr/local/lib/python3.10/dist-packages (from requests->transformers) (3.4)\n",
            "Requirement already satisfied: certifi>=2017.4.17 in /usr/local/lib/python3.10/dist-packages (from requests->transformers) (2022.12.7)\n"
          ]
        }
      ],
      "source": [
        "import numpy as np\n",
        "import nltk\n",
        "import torch\n",
        "import pandas as pd\n",
        "import torch\n",
        "import torch.nn as nn\n",
        "from torch.utils.data import TensorDataset, DataLoader, RandomSampler, SequentialSampler\n",
        "from sklearn.model_selection import train_test_split\n",
        "from sklearn.metrics import classification_report\n",
        "from tqdm import tqdm, trange\n",
        "\n",
        "!pip install transformers\n",
        "import transformers\n",
        "from transformers import AutoModel, BertTokenizerFast, BertTokenizer, BertForSequenceClassification"
      ]
    },
    {
      "cell_type": "code",
      "source": [
        "# create train test and validation\n",
        "\n",
        "trainAmt = 0.7\n",
        "validationTestRatio = 0.5\n",
        "\n",
        "with open('/content/drive/MyDrive/Datasets/Autextification_datasets/subtask_1/en/train.tsv', 'r') as f:\n",
        "  allData = f.readlines()\n",
        "\n",
        "np.random.shuffle(allData)\n",
        "\n",
        "trainIdx = int(np.floor(len(allData) * trainAmt))\n",
        "valIdx = int(np.floor(len(allData) * (1 - trainAmt) * validationTestRatio) + trainIdx)"
      ],
      "metadata": {
        "id": "3WV3TvidFBPf"
      },
      "execution_count": null,
      "outputs": []
    },
    {
      "cell_type": "code",
      "source": [
        "text = []\n",
        "labels = []\n",
        "\n",
        "for datum in tqdm(allData):\n",
        "  _, s, lbl = datum[:-1].split('\\t')\n",
        "  text.append(s)\n",
        "  labels.append(1 if lbl == 'generated' else 0)"
      ],
      "metadata": {
        "colab": {
          "base_uri": "https://localhost:8080/"
        },
        "id": "qKWpsloczsMn",
        "outputId": "d0ecde0d-82ad-45ea-d36f-f477542979f8"
      },
      "execution_count": null,
      "outputs": [
        {
          "output_type": "stream",
          "name": "stderr",
          "text": [
            "100%|██████████| 33846/33846 [00:00<00:00, 757639.42it/s]\n"
          ]
        }
      ]
    },
    {
      "cell_type": "code",
      "source": [
        "token_id = []\n",
        "attention_masks = []\n",
        "\n",
        "def preprocessing(input_text, tokenizer):\n",
        "  '''\n",
        "  Returns <class transformers.tokenization_utils_base.BatchEncoding> with the following fields:\n",
        "    - input_ids: list of token ids\n",
        "    - token_type_ids: list of token type ids\n",
        "    - attention_mask: list of indices (0,1) specifying which tokens should considered by the model (return_attention_mask = True).\n",
        "  '''\n",
        "  return tokenizer.encode_plus(\n",
        "                        input_text,\n",
        "                        add_special_tokens = True,\n",
        "                        max_length = 90,\n",
        "                        pad_to_max_length = True,\n",
        "                        return_attention_mask = True,\n",
        "                        return_tensors = 'pt'\n",
        "                   )\n",
        "\n",
        "\n",
        "tokenizer = BertTokenizer.from_pretrained(\n",
        "    'bert-base-cased',\n",
        "    do_lower_case = True\n",
        "    )\n",
        "\n",
        "for sample in tqdm(text):\n",
        "  encoding_dict = preprocessing(sample, tokenizer)\n",
        "  token_id.append(encoding_dict['input_ids']) \n",
        "  attention_masks.append(encoding_dict['attention_mask'])\n",
        "\n",
        "\n",
        "token_id = torch.cat(token_id, dim = 0)\n",
        "attention_masks = torch.cat(attention_masks, dim = 0)\n",
        "labels = torch.tensor(labels)"
      ],
      "metadata": {
        "colab": {
          "base_uri": "https://localhost:8080/"
        },
        "id": "2uttb92FzhnI",
        "outputId": "1c6ba1d7-d3c9-4f91-ac89-879d5d4a0ae4"
      },
      "execution_count": null,
      "outputs": [
        {
          "output_type": "stream",
          "name": "stderr",
          "text": [
            "  0%|          | 0/33846 [00:00<?, ?it/s]Truncation was not explicitly activated but `max_length` is provided a specific value, please use `truncation=True` to explicitly truncate examples to max length. Defaulting to 'longest_first' truncation strategy. If you encode pairs of sequences (GLUE-style) with the tokenizer you can select this strategy more precisely by providing a specific strategy to `truncation`.\n",
            "/usr/local/lib/python3.10/dist-packages/transformers/tokenization_utils_base.py:2354: FutureWarning: The `pad_to_max_length` argument is deprecated and will be removed in a future version, use `padding=True` or `padding='longest'` to pad to the longest sequence in the batch, or use `padding='max_length'` to pad to a max length. In this case, you can give a specific length with `max_length` (e.g. `max_length=45`) or leave max_length to None to pad to the maximal input size of the model (e.g. 512 for Bert).\n",
            "  warnings.warn(\n",
            "100%|██████████| 33846/33846 [01:06<00:00, 506.18it/s]\n"
          ]
        }
      ]
    },
    {
      "cell_type": "code",
      "source": [
        "# split into train val and test\n",
        "\n",
        "valntest_ratio = 0.3\n",
        "valtest_split = 0.5\n",
        "batch_size = 16\n",
        "\n",
        "# Indices of the train and validation splits stratified by labels\n",
        "train_idx, temp_idx = train_test_split(\n",
        "    np.arange(len(labels)),\n",
        "    test_size = valntest_ratio,\n",
        "    shuffle = True,\n",
        "    stratify = labels)\n",
        "\n",
        "val_idx, test_idx = train_test_split(\n",
        "    np.arange(len(labels[temp_idx])),\n",
        "    test_size = valtest_split,\n",
        "    shuffle = True,\n",
        "    stratify = labels[temp_idx])\n",
        "\n",
        "# Train and validation sets\n",
        "train_set = TensorDataset(token_id[train_idx], \n",
        "                          attention_masks[train_idx], \n",
        "                          labels[train_idx])\n",
        "\n",
        "val_set = TensorDataset(token_id[val_idx], \n",
        "                        attention_masks[val_idx], \n",
        "                        labels[val_idx])\n",
        "\n",
        "test_set = TensorDataset(token_id[test_idx], \n",
        "                        attention_masks[test_idx], \n",
        "                        labels[test_idx])\n",
        "\n",
        "\n",
        "# Prepare DataLoader\n",
        "train_dataloader = DataLoader(\n",
        "            train_set,\n",
        "            sampler = RandomSampler(train_set),\n",
        "            batch_size = batch_size\n",
        "        )\n",
        "\n",
        "validation_dataloader = DataLoader(\n",
        "            val_set,\n",
        "            sampler = SequentialSampler(val_set),\n",
        "            batch_size = batch_size\n",
        "        )\n",
        "\n",
        "validation_dataloader = DataLoader(\n",
        "            test_set,\n",
        "            sampler = SequentialSampler(test_set),\n",
        "            batch_size = batch_size\n",
        "        )"
      ],
      "metadata": {
        "id": "nWE5tNEF1GoS"
      },
      "execution_count": null,
      "outputs": []
    },
    {
      "cell_type": "code",
      "source": [
        "import pandas as pd\n",
        "\n",
        "seq_len = [len(i.split()) for i in text]\n",
        "\n",
        "pd.Series(seq_len).hist(bins = 30)"
      ],
      "metadata": {
        "colab": {
          "base_uri": "https://localhost:8080/",
          "height": 447
        },
        "id": "vdDW8gM3xj00",
        "outputId": "ceef5be9-49e3-438d-ef83-5ce43e48c38c"
      },
      "execution_count": null,
      "outputs": [
        {
          "output_type": "execute_result",
          "data": {
            "text/plain": [
              "<Axes: >"
            ]
          },
          "metadata": {},
          "execution_count": 28
        },
        {
          "output_type": "display_data",
          "data": {
            "text/plain": [
              "<Figure size 640x480 with 1 Axes>"
            ],
            "image/png": "[encoded data removed]"
          },
          "metadata": {}
        }
      ]
    },
    {
      "cell_type": "code",
      "source": [
        "def b_tp(preds, labels):\n",
        "  '''Returns True Positives (TP): count of correct predictions of actual class 1'''\n",
        "  return sum([preds == labels and preds == 1 for preds, labels in zip(preds, labels)])\n",
        "\n",
        "def b_fp(preds, labels):\n",
        "  '''Returns False Positives (FP): count of wrong predictions of actual class 1'''\n",
        "  return sum([preds != labels and preds == 1 for preds, labels in zip(preds, labels)])\n",
        "\n",
        "def b_tn(preds, labels):\n",
        "  '''Returns True Negatives (TN): count of correct predictions of actual class 0'''\n",
        "  return sum([preds == labels and preds == 0 for preds, labels in zip(preds, labels)])\n",
        "\n",
        "def b_fn(preds, labels):\n",
        "  '''Returns False Negatives (FN): count of wrong predictions of actual class 0'''\n",
        "  return sum([preds != labels and preds == 0 for preds, labels in zip(preds, labels)])\n",
        "\n",
        "def b_metrics(preds, labels):\n",
        "  '''\n",
        "  Returns the following metrics:\n",
        "    - accuracy    = (TP + TN) / N\n",
        "    - precision   = TP / (TP + FP)\n",
        "    - recall      = TP / (TP + FN)\n",
        "    - specificity = TN / (TN + FP)\n",
        "  '''\n",
        "  preds = np.argmax(preds, axis = 1).flatten()\n",
        "  labels = labels.flatten()\n",
        "  tp = b_tp(preds, labels)\n",
        "  tn = b_tn(preds, labels)\n",
        "  fp = b_fp(preds, labels)\n",
        "  fn = b_fn(preds, labels)\n",
        "  b_accuracy = (tp + tn) / len(labels)\n",
        "  b_precision = tp / (tp + fp) if (tp + fp) > 0 else 'nan'\n",
        "  b_recall = tp / (tp + fn) if (tp + fn) > 0 else 'nan'\n",
        "  b_specificity = tn / (tn + fp) if (tn + fp) > 0 else 'nan'\n",
        "  return b_accuracy, b_precision, b_recall, b_specificity"
      ],
      "metadata": {
        "id": "HUtPn983S038"
      },
      "execution_count": null,
      "outputs": []
    },
    {
      "cell_type": "code",
      "source": [
        "# Load the BertForSequenceClassification model\n",
        "model = BertForSequenceClassification.from_pretrained(\n",
        "    'bert-base-cased',\n",
        "    num_labels = 2,\n",
        "    output_attentions = False,\n",
        "    output_hidden_states = False,\n",
        ")\n",
        "\n",
        "# Recommended learning rates (Adam): 5e-5, 3e-5, 2e-5. See: https://arxiv.org/pdf/1810.04805.pdf\n",
        "optimizer = torch.optim.AdamW(model.parameters(), \n",
        "                              lr = 5e-5,\n",
        "                              eps = 1e-08\n",
        "                              )\n",
        "\n",
        "lossFn = nn.CrossEntropyLoss()\n",
        "\n",
        "model.to('cuda')"
      ],
      "metadata": {
        "colab": {
          "base_uri": "https://localhost:8080/"
        },
        "id": "NxCyJf0L41ad",
        "outputId": "e3f4fa8e-eb00-40fd-9f65-a66eaedd6434"
      },
      "execution_count": null,
      "outputs": [
        {
          "output_type": "stream",
          "name": "stderr",
          "text": [
            "Some weights of the model checkpoint at bert-base-cased were not used when initializing BertForSequenceClassification: ['cls.predictions.transform.LayerNorm.weight', 'cls.predictions.decoder.weight', 'cls.predictions.transform.dense.weight', 'cls.seq_relationship.weight', 'cls.predictions.transform.LayerNorm.bias', 'cls.predictions.bias', 'cls.predictions.transform.dense.bias', 'cls.seq_relationship.bias']\n",
            "- This IS expected if you are initializing BertForSequenceClassification from the checkpoint of a model trained on another task or with another architecture (e.g. initializing a BertForSequenceClassification model from a BertForPreTraining model).\n",
            "- This IS NOT expected if you are initializing BertForSequenceClassification from the checkpoint of a model that you expect to be exactly identical (initializing a BertForSequenceClassification model from a BertForSequenceClassification model).\n",
            "Some weights of BertForSequenceClassification were not initialized from the model checkpoint at bert-base-cased and are newly initialized: ['classifier.bias', 'classifier.weight']\n",
            "You should probably TRAIN this model on a down-stream task to be able to use it for predictions and inference.\n"
          ]
        },
        {
          "output_type": "execute_result",
          "data": {
            "text/plain": [
              "BertForSequenceClassification(\n",
              "  (bert): BertModel(\n",
              "    (embeddings): BertEmbeddings(\n",
              "      (word_embeddings): Embedding(28996, 768, padding_idx=0)\n",
              "      (position_embeddings): Embedding(512, 768)\n",
              "      (token_type_embeddings): Embedding(2, 768)\n",
              "      (LayerNorm): LayerNorm((768,), eps=1e-12, elementwise_affine=True)\n",
              "      (dropout): Dropout(p=0.1, inplace=False)\n",
              "    )\n",
              "    (encoder): BertEncoder(\n",
              "      (layer): ModuleList(\n",
              "        (0-11): 12 x BertLayer(\n",
              "          (attention): BertAttention(\n",
              "            (self): BertSelfAttention(\n",
              "              (query): Linear(in_features=768, out_features=768, bias=True)\n",
              "              (key): Linear(in_features=768, out_features=768, bias=True)\n",
              "              (value): Linear(in_features=768, out_features=768, bias=True)\n",
              "              (dropout): Dropout(p=0.1, inplace=False)\n",
              "            )\n",
              "            (output): BertSelfOutput(\n",
              "              (dense): Linear(in_features=768, out_features=768, bias=True)\n",
              "              (LayerNorm): LayerNorm((768,), eps=1e-12, elementwise_affine=True)\n",
              "              (dropout): Dropout(p=0.1, inplace=False)\n",
              "            )\n",
              "          )\n",
              "          (intermediate): BertIntermediate(\n",
              "            (dense): Linear(in_features=768, out_features=3072, bias=True)\n",
              "            (intermediate_act_fn): GELUActivation()\n",
              "          )\n",
              "          (output): BertOutput(\n",
              "            (dense): Linear(in_features=3072, out_features=768, bias=True)\n",
              "            (LayerNorm): LayerNorm((768,), eps=1e-12, elementwise_affine=True)\n",
              "            (dropout): Dropout(p=0.1, inplace=False)\n",
              "          )\n",
              "        )\n",
              "      )\n",
              "    )\n",
              "    (pooler): BertPooler(\n",
              "      (dense): Linear(in_features=768, out_features=768, bias=True)\n",
              "      (activation): Tanh()\n",
              "    )\n",
              "  )\n",
              "  (dropout): Dropout(p=0.1, inplace=False)\n",
              "  (classifier): Linear(in_features=768, out_features=2, bias=True)\n",
              ")"
            ]
          },
          "metadata": {},
          "execution_count": 32
        }
      ]
    },
    {
      "cell_type": "markdown",
      "source": [
        "# Train naive single BERT"
      ],
      "metadata": {
        "id": "LAErG9Uz2OD6"
      }
    },
    {
      "cell_type": "code",
      "source": [
        "device = torch.device('cuda' if torch.cuda.is_available() else 'cpu')\n",
        "\n",
        "epochs = 2\n",
        "\n",
        "print(\"Set length: \", len(train_dataloader))\n",
        "for _ in trange(epochs, desc = 'Epoch'):\n",
        "    \n",
        "    # ========== Training ==========\n",
        "    \n",
        "    # Set model to training mode\n",
        "    model.train()\n",
        "    \n",
        "    # Tracking variables\n",
        "    tr_loss = 0\n",
        "    nb_tr_examples, nb_tr_steps = 0, 0\n",
        "\n",
        "    updator = 100\n",
        "    for step, batch in enumerate(train_dataloader):\n",
        "        if (step+1) % updator == 0:\n",
        "          print(\"Step: \", step)\n",
        "\n",
        "        batch = tuple(t.to(device) for t in batch)\n",
        "        b_input_ids, b_input_mask, b_labels = batch\n",
        "        optimizer.zero_grad()\n",
        "        # Forward pass\n",
        "        train_output = model(b_input_ids, \n",
        "                             token_type_ids = None, \n",
        "                             attention_mask = b_input_mask, \n",
        "                             labels = b_labels)\n",
        "        # Backward pass\n",
        "        # print(\"Logits: \", train_output.logits)\n",
        "        # print(\"Labels: \", b_labels)\n",
        "\n",
        "        cntLoss = lossFn(train_output.logits, b_labels)\n",
        "\n",
        "        cntLoss.backward()\n",
        "        optimizer.step()\n",
        "        # Update tracking variables\n",
        "        tr_loss += cntLoss\n",
        "        nb_tr_examples += b_input_ids.size(0)\n",
        "        nb_tr_steps += 1\n",
        "\n",
        "        # print(\"Loss: \", train_output.loss)\n",
        "        # print(\"My loss\", cntLoss)\n",
        "\n",
        "    # ========== Validation ==========\n",
        "\n",
        "    # Set model to evaluation mode\n",
        "    model.eval()\n",
        "\n",
        "    # Tracking variables \n",
        "    val_accuracy = []\n",
        "    val_precision = []\n",
        "    val_recall = []\n",
        "    val_specificity = []\n",
        "\n",
        "    for batch in validation_dataloader:\n",
        "        batch = tuple(t.to(device) for t in batch)\n",
        "        b_input_ids, b_input_mask, b_labels = batch\n",
        "        with torch.no_grad():\n",
        "          # Forward pass\n",
        "          eval_output = model(b_input_ids, \n",
        "                              token_type_ids = None, \n",
        "                              attention_mask = b_input_mask)\n",
        "        logits = eval_output.logits.detach().cpu().numpy()\n",
        "        label_ids = b_labels.to('cpu').numpy()\n",
        "        # Calculate validation metrics\n",
        "        b_accuracy, b_precision, b_recall, b_specificity = b_metrics(logits, label_ids)\n",
        "        val_accuracy.append(b_accuracy)\n",
        "        # Update precision only when (tp + fp) !=0; ignore nan\n",
        "        if b_precision != 'nan': val_precision.append(b_precision)\n",
        "        # Update recall only when (tp + fn) !=0; ignore nan\n",
        "        if b_recall != 'nan': val_recall.append(b_recall)\n",
        "        # Update specificity only when (tn + fp) !=0; ignore nan\n",
        "        if b_specificity != 'nan': val_specificity.append(b_specificity)\n",
        "\n",
        "    print('\\n\\t - Train loss: {:.4f}'.format(tr_loss / nb_tr_steps))\n",
        "    print('\\t - Validation Accuracy: {:.4f}'.format(sum(val_accuracy)/len(val_accuracy)))\n",
        "    print('\\t - Validation Precision: {:.4f}'.format(sum(val_precision)/len(val_precision)) if len(val_precision)>0 else '\\t - Validation Precision: NaN')\n",
        "    print('\\t - Validation Recall: {:.4f}'.format(sum(val_recall)/len(val_recall)) if len(val_recall)>0 else '\\t - Validation Recall: NaN')\n",
        "    print('\\t - Validation Specificity: {:.4f}\\n'.format(sum(val_specificity)/len(val_specificity)) if len(val_specificity)>0 else '\\t - Validation Specificity: NaN')"
      ],
      "metadata": {
        "id": "IrmupI6J4utl",
        "colab": {
          "base_uri": "https://localhost:8080/"
        },
        "outputId": "e1b11285-5b5b-43d9-a26b-c9e7d6e44d4c"
      },
      "execution_count": null,
      "outputs": [
        {
          "output_type": "stream",
          "name": "stdout",
          "text": [
            "Set length:  1481\n"
          ]
        },
        {
          "output_type": "stream",
          "name": "stderr",
          "text": [
            "\rEpoch:   0%|          | 0/2 [00:00<?, ?it/s]"
          ]
        },
        {
          "output_type": "stream",
          "name": "stdout",
          "text": [
            "Step:  99\n",
            "Step:  199\n",
            "Step:  299\n",
            "Step:  399\n",
            "Step:  499\n",
            "Step:  599\n",
            "Step:  699\n",
            "Step:  799\n",
            "Step:  899\n",
            "Step:  999\n",
            "Step:  1099\n",
            "Step:  1199\n",
            "Step:  1299\n",
            "Step:  1399\n"
          ]
        },
        {
          "output_type": "stream",
          "name": "stderr",
          "text": [
            "\rEpoch:  50%|█████     | 1/2 [07:00<07:00, 420.08s/it]"
          ]
        },
        {
          "output_type": "stream",
          "name": "stdout",
          "text": [
            "\n",
            "\t - Train loss: 0.3280\n",
            "\t - Validation Accuracy: 0.8316\n",
            "\t - Validation Precision: 0.7472\n",
            "\t - Validation Recall: 0.9946\n",
            "\t - Validation Specificity: 0.6796\n",
            "\n",
            "Step:  99\n",
            "Step:  199\n",
            "Step:  299\n",
            "Step:  399\n",
            "Step:  499\n",
            "Step:  599\n",
            "Step:  699\n",
            "Step:  799\n",
            "Step:  899\n",
            "Step:  999\n",
            "Step:  1099\n",
            "Step:  1199\n",
            "Step:  1299\n",
            "Step:  1399\n"
          ]
        },
        {
          "output_type": "stream",
          "name": "stderr",
          "text": [
            "Epoch: 100%|██████████| 2/2 [13:58<00:00, 419.19s/it]"
          ]
        },
        {
          "output_type": "stream",
          "name": "stdout",
          "text": [
            "\n",
            "\t - Train loss: 0.1459\n",
            "\t - Validation Accuracy: 0.9625\n",
            "\t - Validation Precision: 0.9552\n",
            "\t - Validation Recall: 0.9710\n",
            "\t - Validation Specificity: 0.9558\n",
            "\n"
          ]
        },
        {
          "output_type": "stream",
          "name": "stderr",
          "text": [
            "\n"
          ]
        }
      ]
    },
    {
      "cell_type": "markdown",
      "source": [
        "# Fine tune ensemble BERTs on subtask B\n",
        "- 6 BERTs, one for each label\n",
        "- Each one performs binary classification\n"
      ],
      "metadata": {
        "id": "1jP78BlS2T9R"
      }
    },
    {
      "cell_type": "code",
      "source": [
        "# preprocess subtask B data\n",
        "\n",
        "trainAmt = 0.7\n",
        "validationTestRatio = 0.5\n",
        "\n",
        "with open('/content/drive/MyDrive/Datasets/Autextification_datasets/subtask_2/en/train.tsv', 'r') as f:\n",
        "  allData = f.readlines()\n",
        "allData = allData[1:]\n",
        "\n",
        "np.random.shuffle(allData)\n",
        "\n",
        "trainIdx = int(np.floor(len(allData) * trainAmt))\n",
        "valIdx = int(np.floor(len(allData) * (1 - trainAmt) * validationTestRatio) + trainIdx)\n",
        "\n",
        "text = []\n",
        "labels = []\n",
        "\n",
        "letter2lbl = {'A': 0, 'B': 1, 'C': 2, 'D': 3, 'E': 4, 'F': 5}\n",
        "\n",
        "for datum in tqdm(allData):\n",
        "  _, s, letter = datum[:-1].split('\\t')\n",
        "  text.append(s)\n",
        "  labels.append(letter2lbl[letter])"
      ],
      "metadata": {
        "colab": {
          "base_uri": "https://localhost:8080/"
        },
        "id": "XUjG-WmN2bb0",
        "outputId": "4dc10bd7-78dd-4174-fdec-66856a3e089b"
      },
      "execution_count": null,
      "outputs": [
        {
          "output_type": "stream",
          "name": "stderr",
          "text": [
            "100%|██████████| 22416/22416 [00:00<00:00, 301564.02it/s]\n"
          ]
        }
      ]
    },
    {
      "cell_type": "code",
      "source": [
        "# preprocess data\n",
        "\n",
        "token_id = []\n",
        "attention_masks = []\n",
        "\n",
        "def preprocessing(input_text, tokenizer):\n",
        "  '''\n",
        "  Returns <class transformers.tokenization_utils_base.BatchEncoding> with the following fields:\n",
        "    - input_ids: list of token ids\n",
        "    - token_type_ids: list of token type ids\n",
        "    - attention_mask: list of indices (0,1) specifying which tokens should considered by the model (return_attention_mask = True).\n",
        "  '''\n",
        "  return tokenizer.encode_plus(\n",
        "                        input_text,\n",
        "                        add_special_tokens = True,\n",
        "                        max_length = 90,\n",
        "                        pad_to_max_length = True,\n",
        "                        return_attention_mask = True,\n",
        "                        return_tensors = 'pt'\n",
        "                   )\n",
        "\n",
        "\n",
        "tokenizer = BertTokenizer.from_pretrained(\n",
        "    'bert-base-cased',\n",
        "    do_lower_case = True\n",
        "    )\n",
        "\n",
        "for sample in tqdm(text):\n",
        "  encoding_dict = preprocessing(sample, tokenizer)\n",
        "  token_id.append(encoding_dict['input_ids']) \n",
        "  attention_masks.append(encoding_dict['attention_mask'])\n",
        "\n",
        "\n",
        "token_id = torch.cat(token_id, dim = 0)\n",
        "attention_masks = torch.cat(attention_masks, dim = 0)\n",
        "labels = torch.tensor(labels)"
      ],
      "metadata": {
        "colab": {
          "base_uri": "https://localhost:8080/"
        },
        "id": "kzx1E7btH5rr",
        "outputId": "71689c70-a664-4240-b847-33c4f3eda7e9"
      },
      "execution_count": null,
      "outputs": [
        {
          "output_type": "stream",
          "name": "stderr",
          "text": [
            "  0%|          | 0/22416 [00:00<?, ?it/s]Truncation was not explicitly activated but `max_length` is provided a specific value, please use `truncation=True` to explicitly truncate examples to max length. Defaulting to 'longest_first' truncation strategy. If you encode pairs of sequences (GLUE-style) with the tokenizer you can select this strategy more precisely by providing a specific strategy to `truncation`.\n",
            "/usr/local/lib/python3.10/dist-packages/transformers/tokenization_utils_base.py:2354: FutureWarning: The `pad_to_max_length` argument is deprecated and will be removed in a future version, use `padding=True` or `padding='longest'` to pad to the longest sequence in the batch, or use `padding='max_length'` to pad to a max length. In this case, you can give a specific length with `max_length` (e.g. `max_length=45`) or leave max_length to None to pad to the maximal input size of the model (e.g. 512 for Bert).\n",
            "  warnings.warn(\n",
            "100%|██████████| 22416/22416 [00:36<00:00, 621.51it/s]\n"
          ]
        }
      ]
    },
    {
      "cell_type": "code",
      "source": [
        "# create dataloaders\n",
        "# split into train val and test\n",
        "\n",
        "numModels = 6 # ONE FOR EACH CLASS\n",
        "\n",
        "valntest_ratio = 0.3\n",
        "valtest_split = 0.5\n",
        "batch_size = 16\n",
        "\n",
        "# Indices of the train and validation splits stratified by labels\n",
        "train_idx, temp_idx = train_test_split(\n",
        "    np.arange(len(labels)),\n",
        "    test_size = valntest_ratio,\n",
        "    shuffle = True,\n",
        "    stratify = labels)\n",
        "\n",
        "val_idx, test_idx = train_test_split(\n",
        "    np.arange(len(labels[temp_idx])),\n",
        "    test_size = valtest_split,\n",
        "    shuffle = True,\n",
        "    stratify = labels[temp_idx])\n",
        "\n",
        "\n",
        "# Train and validation sets\n",
        "train_sets = []\n",
        "val_sets = []\n",
        "test_sets = []\n",
        "\n",
        "train_dataloaders = []\n",
        "validation_dataloaders = []\n",
        "test_dataloaders = []\n",
        "\n",
        "a = 100\n",
        "b = 110\n",
        "\n",
        "print(\"OG   \", end='\\t')\n",
        "print(labels[a:b])\n",
        "\n",
        "# 6 class datasets\n",
        "six_class_train_set = TensorDataset(token_id[train_idx], \n",
        "                          attention_masks[train_idx], \n",
        "                          labels[train_idx])\n",
        "\n",
        "six_class_val_set = TensorDataset(token_id[val_idx], \n",
        "                        attention_masks[val_idx], \n",
        "                        labels[val_idx])\n",
        "\n",
        "six_class_test_set = TensorDataset(token_id[test_idx], \n",
        "                        attention_masks[test_idx], \n",
        "                        labels[test_idx])\n",
        "\n",
        "six_class_train_dataloader = DataLoader(\n",
        "              six_class_train_set,\n",
        "              sampler = RandomSampler(six_class_train_set),\n",
        "              batch_size = batch_size\n",
        "          )\n",
        "\n",
        "six_class_validation_dataloader = DataLoader(\n",
        "            six_class_val_set,\n",
        "            sampler = SequentialSampler(six_class_val_set),\n",
        "            batch_size = batch_size\n",
        "        )\n",
        "\n",
        "six_class_test_dataloader = DataLoader(\n",
        "            six_class_test_set,\n",
        "            sampler = SequentialSampler(six_class_test_set),\n",
        "            batch_size = batch_size\n",
        "        )\n",
        "\n",
        "\n",
        "# binary classification datasets\n",
        "for i in range(numModels):\n",
        "  # label reassignment: i -> 1, not i -> 0\n",
        "  reassignedLabels = torch.tensor(np.where(np.array(labels) == i, 1, 0))\n",
        "\n",
        "  print(\"LABEL %d\" % i, end='\\t')\n",
        "  print(reassignedLabels[a:b])\n",
        "  \n",
        "  train_sets.append(TensorDataset(token_id[train_idx], \n",
        "                            attention_masks[train_idx], \n",
        "                            reassignedLabels[train_idx]))\n",
        "\n",
        "  val_sets.append(TensorDataset(token_id[val_idx], \n",
        "                          attention_masks[val_idx], \n",
        "                          reassignedLabels[val_idx]))\n",
        "\n",
        "  test_sets.append(TensorDataset(token_id[test_idx], \n",
        "                          attention_masks[test_idx], \n",
        "                          reassignedLabels[test_idx]))\n",
        "\n",
        "\n",
        "  # Prepare DataLoader\n",
        "  train_dataloaders.append(DataLoader(\n",
        "              train_sets[i],\n",
        "              sampler = RandomSampler(train_sets[i]),\n",
        "              batch_size = batch_size\n",
        "          ))\n",
        "\n",
        "  validation_dataloaders.append(DataLoader(\n",
        "              val_sets[i],\n",
        "              sampler = SequentialSampler(val_sets[i]),\n",
        "              batch_size = batch_size\n",
        "          ))\n",
        "\n",
        "  test_dataloaders.append(DataLoader(\n",
        "              test_sets[i],\n",
        "              sampler = SequentialSampler(test_sets[i]),\n",
        "              batch_size = batch_size\n",
        "          ))\n",
        "  \n",
        "  print(\"counts: \", end='\\t')\n",
        "  counts = [0,0,0,0,0,0]\n",
        "  for el in tqdm(reassignedLabels):\n",
        "    counts[el] += 1\n",
        "  print(counts)\n",
        "\n",
        "  print(\"lens: \", len(train_dataloaders[i]), len(validation_dataloaders[i]), len(test_dataloaders[i]))\n",
        "  print()\n"
      ],
      "metadata": {
        "id": "xOQVJmD5J6A3",
        "colab": {
          "base_uri": "https://localhost:8080/"
        },
        "outputId": "2bce06ac-12c6-4250-c976-0b9964f2f929"
      },
      "execution_count": null,
      "outputs": [
        {
          "output_type": "stream",
          "name": "stdout",
          "text": [
            "OG   \ttensor([0, 3, 5, 4, 3, 4, 0, 5, 2, 3])\n",
            "LABEL 0\ttensor([1, 0, 0, 0, 0, 0, 1, 0, 0, 0])\n",
            "counts: \t"
          ]
        },
        {
          "output_type": "stream",
          "name": "stderr",
          "text": [
            "100%|██████████| 22416/22416 [00:00<00:00, 102777.61it/s]\n"
          ]
        },
        {
          "output_type": "stream",
          "name": "stdout",
          "text": [
            "[18854, 3562, 0, 0, 0, 0]\n",
            "lens:  981 211 211\n",
            "\n",
            "LABEL 1\ttensor([0, 0, 0, 0, 0, 0, 0, 0, 0, 0])\n",
            "counts: \t"
          ]
        },
        {
          "output_type": "stream",
          "name": "stderr",
          "text": [
            "100%|██████████| 22416/22416 [00:00<00:00, 97604.33it/s]\n"
          ]
        },
        {
          "output_type": "stream",
          "name": "stdout",
          "text": [
            "[18768, 3648, 0, 0, 0, 0]\n",
            "lens:  981 211 211\n",
            "\n",
            "LABEL 2\ttensor([0, 0, 0, 0, 0, 0, 0, 0, 1, 0])\n",
            "counts: \t"
          ]
        },
        {
          "output_type": "stream",
          "name": "stderr",
          "text": [
            "100%|██████████| 22416/22416 [00:00<00:00, 33317.59it/s]\n"
          ]
        },
        {
          "output_type": "stream",
          "name": "stdout",
          "text": [
            "[18729, 3687, 0, 0, 0, 0]\n",
            "lens:  981 211 211\n",
            "\n",
            "LABEL 3\ttensor([0, 1, 0, 0, 1, 0, 0, 0, 0, 1])\n",
            "counts: \t"
          ]
        },
        {
          "output_type": "stream",
          "name": "stderr",
          "text": [
            "100%|██████████| 22416/22416 [00:00<00:00, 68862.83it/s]\n"
          ]
        },
        {
          "output_type": "stream",
          "name": "stdout",
          "text": [
            "[18546, 3870, 0, 0, 0, 0]\n",
            "lens:  981 211 211\n",
            "\n",
            "LABEL 4\ttensor([0, 0, 0, 1, 0, 1, 0, 0, 0, 0])\n",
            "counts: \t"
          ]
        },
        {
          "output_type": "stream",
          "name": "stderr",
          "text": [
            "100%|██████████| 22416/22416 [00:00<00:00, 197195.62it/s]\n"
          ]
        },
        {
          "output_type": "stream",
          "name": "stdout",
          "text": [
            "[18594, 3822, 0, 0, 0, 0]\n",
            "lens:  981 211 211\n",
            "\n",
            "LABEL 5\ttensor([0, 0, 1, 0, 0, 0, 0, 1, 0, 0])\n",
            "counts: \t"
          ]
        },
        {
          "output_type": "stream",
          "name": "stderr",
          "text": [
            "100%|██████████| 22416/22416 [00:00<00:00, 63354.87it/s]"
          ]
        },
        {
          "output_type": "stream",
          "name": "stdout",
          "text": [
            "[18589, 3827, 0, 0, 0, 0]\n",
            "lens:  981 211 211\n",
            "\n"
          ]
        },
        {
          "output_type": "stream",
          "name": "stderr",
          "text": [
            "\n"
          ]
        }
      ]
    },
    {
      "cell_type": "code",
      "source": [
        "# evaluation functions\n",
        "\n",
        "def b_tp(preds, labels):\n",
        "  '''Returns True Positives (TP): count of correct predictions of actual class 1'''\n",
        "  return sum([preds == labels and preds == 1 for preds, labels in zip(preds, labels)])\n",
        "\n",
        "def b_fp(preds, labels):\n",
        "  '''Returns False Positives (FP): count of wrong predictions of actual class 1'''\n",
        "  return sum([preds != labels and preds == 1 for preds, labels in zip(preds, labels)])\n",
        "\n",
        "def b_tn(preds, labels):\n",
        "  '''Returns True Negatives (TN): count of correct predictions of actual class 0'''\n",
        "  return sum([preds == labels and preds == 0 for preds, labels in zip(preds, labels)])\n",
        "\n",
        "def b_fn(preds, labels):\n",
        "  '''Returns False Negatives (FN): count of wrong predictions of actual class 0'''\n",
        "  return sum([preds != labels and preds == 0 for preds, labels in zip(preds, labels)])\n",
        "\n",
        "def b_metrics(preds, labels):\n",
        "  '''\n",
        "  Returns the following metrics:\n",
        "    - accuracy    = (TP + TN) / N\n",
        "    - precision   = TP / (TP + FP)\n",
        "    - recall      = TP / (TP + FN)\n",
        "    - specificity = TN / (TN + FP)\n",
        "  '''\n",
        "  preds = np.argmax(preds, axis = 1).flatten()\n",
        "  labels = labels.flatten()\n",
        "  tp = b_tp(preds, labels)\n",
        "  tn = b_tn(preds, labels)\n",
        "  fp = b_fp(preds, labels)\n",
        "  fn = b_fn(preds, labels)\n",
        "  b_accuracy = (tp + tn) / len(labels)\n",
        "  b_precision = tp / (tp + fp) if (tp + fp) > 0 else 'nan'\n",
        "  b_recall = tp / (tp + fn) if (tp + fn) > 0 else 'nan'\n",
        "  b_specificity = tn / (tn + fp) if (tn + fp) > 0 else 'nan'\n",
        "  return b_accuracy, b_precision, b_recall, b_specificity"
      ],
      "metadata": {
        "id": "D708PbeMPXme"
      },
      "execution_count": null,
      "outputs": []
    },
    {
      "cell_type": "code",
      "source": [
        "# 6 class BERT\n",
        "device = torch.device('cuda' if torch.cuda.is_available() else 'cpu')\n",
        "\n",
        "six_bert = BertForSequenceClassification.from_pretrained(\n",
        "    'bert-base-cased',\n",
        "    num_labels = 6,\n",
        "    output_attentions = False,\n",
        "    output_hidden_states = False,\n",
        "  ).to(device)\n",
        "\n",
        "model = six_bert\n",
        "optimizer = torch.optim.AdamW(model.parameters(), \n",
        "                            lr = 5e-5,\n",
        "                            eps = 1e-08\n",
        "                            )\n",
        "lossFn = nn.CrossEntropyLoss().cuda()\n",
        "epochs = 2\n",
        "\n",
        "for _ in trange(epochs, desc = 'Epoch'):\n",
        "    # ========== Training ==========\n",
        "    \n",
        "    # Set model to training mode\n",
        "    model.train()\n",
        "    \n",
        "    # Tracking variables\n",
        "    tr_loss = 0\n",
        "    nb_tr_examples, nb_tr_steps = 0, 0\n",
        "\n",
        "    updator=100\n",
        "    for step, batch in enumerate(six_class_train_dataloader):\n",
        "        if (step + 1) % 100 == 0:\n",
        "          print(\"Step: \", step)\n",
        "\n",
        "        batch = tuple(t.to(device) for t in batch)\n",
        "        b_input_ids, b_input_mask, b_labels = batch\n",
        "        optimizer.zero_grad()\n",
        "        # Forward pass\n",
        "        train_output = model(b_input_ids, \n",
        "                            token_type_ids = None, \n",
        "                            attention_mask = b_input_mask, \n",
        "                            labels = b_labels)\n",
        "\n",
        "        # Backward pass\n",
        "        cntLoss = lossFn(train_output.logits, b_labels)\n",
        "        cntLoss.backward()\n",
        "\n",
        "        optimizer.step()\n",
        "        # Update tracking variables\n",
        "        tr_loss += cntLoss\n",
        "        nb_tr_examples += b_input_ids.size(0)\n",
        "        nb_tr_steps += 1\n",
        "\n",
        "    # ========== Validation ==========\n",
        "\n",
        "    # Set model to evaluation mode\n",
        "    model.eval()\n",
        "\n",
        "    # Tracking variables \n",
        "    val_accuracy = []\n",
        "    val_precision = []\n",
        "    val_recall = []\n",
        "    val_specificity = []\n",
        "\n",
        "    all_labels = np.array([])\n",
        "    all_preds = np.array([])\n",
        "\n",
        "    for batch in six_class_validation_dataloader:\n",
        "        batch = tuple(t.to(device) for t in batch)\n",
        "        b_input_ids, b_input_mask, b_labels = batch\n",
        "        with torch.no_grad():\n",
        "          # Forward pass\n",
        "          eval_output = model(b_input_ids, \n",
        "                              token_type_ids = None, \n",
        "                              attention_mask = b_input_mask)\n",
        "        logits = eval_output.logits.detach().cpu().numpy()\n",
        "        label_ids = b_labels.to('cpu').numpy()\n",
        "\n",
        "        all_labels = np.append(all_labels, label_ids)\n",
        "        all_preds = np.append(all_preds, np.argmax(logits, axis = 1).flatten())\n",
        "        # Calculate validation metrics\n",
        "        b_accuracy, b_precision, b_recall, b_specificity = b_metrics(logits, label_ids)\n",
        "        val_accuracy.append(b_accuracy)\n",
        "        # Update precision only when (tp + fp) !=0; ignore nan\n",
        "        if b_precision != 'nan': val_precision.append(b_precision)\n",
        "        # Update recall only when (tp + fn) !=0; ignore nan\n",
        "        if b_recall != 'nan': val_recall.append(b_recall)\n",
        "        # Update specificity only when (tn + fp) !=0; ignore nan\n",
        "        if b_specificity != 'nan': val_specificity.append(b_specificity)\n",
        "\n",
        "    print('\\n\\t - Train loss: {:.4f}'.format(tr_loss / nb_tr_steps))\n",
        "    print('\\t - Validation Accuracy: {:.4f}'.format(sum(val_accuracy)/len(val_accuracy)))\n",
        "    print('\\t - Validation Precision: {:.4f}'.format(sum(val_precision)/len(val_precision)) if len(val_precision)>0 else '\\t - Validation Precision: NaN')\n",
        "    print('\\t - Validation Recall: {:.4f}'.format(sum(val_recall)/len(val_recall)) if len(val_recall)>0 else '\\t - Validation Recall: NaN')\n",
        "    print('\\t - Validation Specificity: {:.4f}\\n'.format(sum(val_specificity)/len(val_specificity)) if len(val_specificity)>0 else '\\t - Validation Specificity: NaN')\n",
        "\n",
        "    from sklearn.metrics import classification_report   \n",
        "    print(classification_report(all_labels, all_preds))\n"
      ],
      "metadata": {
        "colab": {
          "base_uri": "https://localhost:8080/"
        },
        "id": "b4hreCeOVuZX",
        "outputId": "bb46e322-0ee5-4182-be29-af76c0b6c089"
      },
      "execution_count": null,
      "outputs": [
        {
          "output_type": "stream",
          "name": "stderr",
          "text": [
            "Some weights of the model checkpoint at bert-base-cased were not used when initializing BertForSequenceClassification: ['cls.predictions.transform.LayerNorm.bias', 'cls.predictions.transform.dense.weight', 'cls.seq_relationship.bias', 'cls.seq_relationship.weight', 'cls.predictions.bias', 'cls.predictions.transform.dense.bias', 'cls.predictions.decoder.weight', 'cls.predictions.transform.LayerNorm.weight']\n",
            "- This IS expected if you are initializing BertForSequenceClassification from the checkpoint of a model trained on another task or with another architecture (e.g. initializing a BertForSequenceClassification model from a BertForPreTraining model).\n",
            "- This IS NOT expected if you are initializing BertForSequenceClassification from the checkpoint of a model that you expect to be exactly identical (initializing a BertForSequenceClassification model from a BertForSequenceClassification model).\n",
            "Some weights of BertForSequenceClassification were not initialized from the model checkpoint at bert-base-cased and are newly initialized: ['classifier.weight', 'classifier.bias']\n",
            "You should probably TRAIN this model on a down-stream task to be able to use it for predictions and inference.\n",
            "Epoch:   0%|          | 0/2 [00:00<?, ?it/s]"
          ]
        },
        {
          "output_type": "stream",
          "name": "stdout",
          "text": [
            "Step:  99\n",
            "Step:  199\n",
            "Step:  299\n",
            "Step:  399\n",
            "Step:  499\n",
            "Step:  599\n",
            "Step:  699\n",
            "Step:  799\n",
            "Step:  899\n"
          ]
        },
        {
          "output_type": "stream",
          "name": "stderr",
          "text": [
            "\rEpoch:  50%|█████     | 1/2 [05:00<05:00, 300.57s/it]"
          ]
        },
        {
          "output_type": "stream",
          "name": "stdout",
          "text": [
            "\n",
            "\t - Train loss: 1.2704\n",
            "\t - Validation Accuracy: 0.2085\n",
            "\t - Validation Precision: 0.4528\n",
            "\t - Validation Recall: 0.7583\n",
            "\t - Validation Specificity: 0.4603\n",
            "\n",
            "              precision    recall  f1-score   support\n",
            "\n",
            "         0.0       0.79      0.64      0.71       540\n",
            "         1.0       0.46      0.65      0.54       541\n",
            "         2.0       0.62      0.40      0.48       573\n",
            "         3.0       0.43      0.65      0.52       569\n",
            "         4.0       0.43      0.34      0.38       537\n",
            "         5.0       0.88      0.73      0.80       602\n",
            "\n",
            "    accuracy                           0.57      3362\n",
            "   macro avg       0.60      0.57      0.57      3362\n",
            "weighted avg       0.60      0.57      0.57      3362\n",
            "\n",
            "Step:  99\n",
            "Step:  199\n",
            "Step:  299\n",
            "Step:  399\n",
            "Step:  499\n",
            "Step:  599\n",
            "Step:  699\n",
            "Step:  799\n",
            "Step:  899\n"
          ]
        },
        {
          "output_type": "stream",
          "name": "stderr",
          "text": [
            "Epoch: 100%|██████████| 2/2 [10:00<00:00, 300.12s/it]"
          ]
        },
        {
          "output_type": "stream",
          "name": "stdout",
          "text": [
            "\n",
            "\t - Train loss: 0.9491\n",
            "\t - Validation Accuracy: 0.1919\n",
            "\t - Validation Precision: 0.5562\n",
            "\t - Validation Recall: 0.8992\n",
            "\t - Validation Specificity: 0.6092\n",
            "\n",
            "              precision    recall  f1-score   support\n",
            "\n",
            "         0.0       0.92      0.65      0.76       540\n",
            "         1.0       0.57      0.54      0.55       541\n",
            "         2.0       0.56      0.68      0.61       573\n",
            "         3.0       0.47      0.15      0.22       569\n",
            "         4.0       0.46      0.64      0.53       537\n",
            "         5.0       0.68      0.95      0.79       602\n",
            "\n",
            "    accuracy                           0.60      3362\n",
            "   macro avg       0.61      0.60      0.58      3362\n",
            "weighted avg       0.61      0.60      0.58      3362\n",
            "\n"
          ]
        },
        {
          "output_type": "stream",
          "name": "stderr",
          "text": [
            "\n"
          ]
        }
      ]
    },
    {
      "cell_type": "markdown",
      "source": [
        "## Ensemble BERT"
      ],
      "metadata": {
        "id": "8wNB8EqzRr6L"
      }
    },
    {
      "cell_type": "code",
      "source": [
        "# define all models\n",
        "\n",
        "BERTs = []\n",
        "for i in range(numModels):\n",
        "  model = BertForSequenceClassification.from_pretrained(\n",
        "    'bert-base-cased',\n",
        "    num_labels = 2,\n",
        "    output_attentions = False,\n",
        "    output_hidden_states = False,\n",
        "  )\n",
        "  model.cuda()\n",
        "\n",
        "  BERTs.append(model)"
      ],
      "metadata": {
        "id": "JyBOaMArQOVE"
      },
      "execution_count": null,
      "outputs": []
    },
    {
      "cell_type": "code",
      "source": [
        "# train each BERT\n",
        "\n",
        "device = torch.device('cuda' if torch.cuda.is_available() else 'cpu')\n",
        "\n",
        "epochs = 2\n",
        "\n",
        "print(\"Trainset length: \", len(train_dataloader))\n",
        "for bertNum in range(numModels):\n",
        "  print(\"TRAINING BERT #%d\" % bertNum)\n",
        "\n",
        "  train_dataloader = train_dataloaders[bertNum]\n",
        "  validation_dataloader = validation_dataloaders[bertNum]\n",
        "\n",
        "\n",
        "  print(train_dataloaders[bertNum])\n",
        "\n",
        "  model = BERTs[bertNum]\n",
        "  optimizer = torch.optim.AdamW(model.parameters(), \n",
        "                              lr = 5e-7,\n",
        "                              eps = 1e-08\n",
        "                              )\n",
        "\n",
        "  classWeights = torch.tensor([1., 100.]).float().cuda()\n",
        "  print(classWeights)\n",
        "  lossFn = nn.CrossEntropyLoss(weight=classWeights)\n",
        "\n",
        "  for _ in trange(epochs, desc = 'Epoch'):\n",
        "      \n",
        "      # ========== Training ==========\n",
        "      \n",
        "      # Set model to training mode\n",
        "      model.train()\n",
        "      \n",
        "      # Tracking variables\n",
        "      tr_loss = 0\n",
        "      nb_tr_examples, nb_tr_steps = 0, 0\n",
        "\n",
        "      updator=100\n",
        "      for step, batch in enumerate(train_dataloader):\n",
        "          if (step + 1) % 100 == 0:\n",
        "            print(\"Step: \", step)\n",
        "\n",
        "          batch = tuple(t.to(device) for t in batch)\n",
        "          b_input_ids, b_input_mask, b_labels = batch\n",
        "          optimizer.zero_grad()\n",
        "          # Forward pass\n",
        "          train_output = model(b_input_ids, \n",
        "                              token_type_ids = None, \n",
        "                              attention_mask = b_input_mask, \n",
        "                              labels = b_labels)\n",
        "          # Backward pass\n",
        "          cntLoss = lossFn(train_output.logits, b_labels)\n",
        "          cntLoss.backward()\n",
        "\n",
        "          optimizer.step()\n",
        "          # Update tracking variables\n",
        "          tr_loss += cntLoss\n",
        "          nb_tr_examples += b_input_ids.size(0)\n",
        "          nb_tr_steps += 1\n",
        "\n",
        "      # ========== Validation ==========\n",
        "\n",
        "      # Set model to evaluation mode\n",
        "      model.eval()\n",
        "\n",
        "      # Tracking variables \n",
        "      val_accuracy = []\n",
        "      val_precision = []\n",
        "      val_recall = []\n",
        "      val_specificity = []\n",
        "\n",
        "      for batch in validation_dataloader:\n",
        "          batch = tuple(t.to(device) for t in batch)\n",
        "          b_input_ids, b_input_mask, b_labels = batch\n",
        "          with torch.no_grad():\n",
        "            # Forward pass\n",
        "            eval_output = model(b_input_ids, \n",
        "                                token_type_ids = None, \n",
        "                                attention_mask = b_input_mask)\n",
        "          logits = eval_output.logits.detach().cpu().numpy()\n",
        "          label_ids = b_labels.to('cpu').numpy()\n",
        "          # Calculate validation metrics\n",
        "          b_accuracy, b_precision, b_recall, b_specificity = b_metrics(logits, label_ids)\n",
        "          val_accuracy.append(b_accuracy)\n",
        "          # Update precision only when (tp + fp) !=0; ignore nan\n",
        "          if b_precision != 'nan': val_precision.append(b_precision)\n",
        "          # Update recall only when (tp + fn) !=0; ignore nan\n",
        "          if b_recall != 'nan': val_recall.append(b_recall)\n",
        "          # Update specificity only when (tn + fp) !=0; ignore nan\n",
        "          if b_specificity != 'nan': val_specificity.append(b_specificity)\n",
        "\n",
        "      print('\\n\\t - Train loss: {:.4f}'.format(tr_loss / nb_tr_steps))\n",
        "      print('\\t - Validation Accuracy: {:.4f}'.format(sum(val_accuracy)/len(val_accuracy)))\n",
        "      print('\\t - Validation Precision: {:.4f}'.format(sum(val_precision)/len(val_precision)) if len(val_precision)>0 else '\\t - Validation Precision: NaN')\n",
        "      print('\\t - Validation Recall: {:.4f}'.format(sum(val_recall)/len(val_recall)) if len(val_recall)>0 else '\\t - Validation Recall: NaN')\n",
        "      print('\\t - Validation Specificity: {:.4f}\\n'.format(sum(val_specificity)/len(val_specificity)) if len(val_specificity)>0 else '\\t - Validation Specificity: NaN')"
      ],
      "metadata": {
        "colab": {
          "base_uri": "https://localhost:8080/",
          "height": 724
        },
        "id": "AuY1AL-XQpAm",
        "outputId": "74538cf0-c1c9-4006-fa28-2b6052096d2d"
      },
      "execution_count": null,
      "outputs": [
        {
          "output_type": "stream",
          "name": "stdout",
          "text": [
            "Trainset length:  981\n",
            "TRAINING BERT #0\n",
            "<torch.utils.data.dataloader.DataLoader object at 0x7f217e3652a0>\n",
            "tensor([  1., 100.], device='cuda:0')\n"
          ]
        },
        {
          "output_type": "stream",
          "name": "stderr",
          "text": [
            "\rEpoch:   0%|          | 0/2 [00:00<?, ?it/s]"
          ]
        },
        {
          "output_type": "stream",
          "name": "stdout",
          "text": [
            "Step:  99\n",
            "Step:  199\n",
            "Step:  299\n",
            "Step:  399\n",
            "Step:  499\n",
            "Step:  599\n",
            "Step:  699\n",
            "Step:  799\n",
            "Step:  899\n"
          ]
        },
        {
          "output_type": "stream",
          "name": "stderr",
          "text": [
            "\rEpoch:  50%|█████     | 1/2 [04:34<04:34, 274.52s/it]"
          ]
        },
        {
          "output_type": "stream",
          "name": "stdout",
          "text": [
            "\n",
            "\t - Train loss: 2.0005\n",
            "\t - Validation Accuracy: 0.8320\n",
            "\t - Validation Precision: NaN\n",
            "\t - Validation Recall: 0.0000\n",
            "\t - Validation Specificity: 1.0000\n",
            "\n"
          ]
        },
        {
          "output_type": "stream",
          "name": "stderr",
          "text": [
            "\rEpoch:  50%|█████     | 1/2 [04:47<04:47, 287.03s/it]\n"
          ]
        },
        {
          "output_type": "error",
          "ename": "KeyboardInterrupt",
          "evalue": "ignored",
          "traceback": [
            "\u001b[0;31m---------------------------------------------------------------------------\u001b[0m",
            "\u001b[0;31mKeyboardInterrupt\u001b[0m                         Traceback (most recent call last)",
            "\u001b[0;32m<ipython-input-50-a0c935d416d8>\u001b[0m in \u001b[0;36m<cell line: 8>\u001b[0;34m()\u001b[0m\n\u001b[1;32m     41\u001b[0m             \u001b[0mprint\u001b[0m\u001b[0;34m(\u001b[0m\u001b[0;34m\"Step: \"\u001b[0m\u001b[0;34m,\u001b[0m \u001b[0mstep\u001b[0m\u001b[0;34m)\u001b[0m\u001b[0;34m\u001b[0m\u001b[0;34m\u001b[0m\u001b[0m\n\u001b[1;32m     42\u001b[0m \u001b[0;34m\u001b[0m\u001b[0m\n\u001b[0;32m---> 43\u001b[0;31m           \u001b[0mbatch\u001b[0m \u001b[0;34m=\u001b[0m \u001b[0mtuple\u001b[0m\u001b[0;34m(\u001b[0m\u001b[0mt\u001b[0m\u001b[0;34m.\u001b[0m\u001b[0mto\u001b[0m\u001b[0;34m(\u001b[0m\u001b[0mdevice\u001b[0m\u001b[0;34m)\u001b[0m \u001b[0;32mfor\u001b[0m \u001b[0mt\u001b[0m \u001b[0;32min\u001b[0m \u001b[0mbatch\u001b[0m\u001b[0;34m)\u001b[0m\u001b[0;34m\u001b[0m\u001b[0;34m\u001b[0m\u001b[0m\n\u001b[0m\u001b[1;32m     44\u001b[0m           \u001b[0mb_input_ids\u001b[0m\u001b[0;34m,\u001b[0m \u001b[0mb_input_mask\u001b[0m\u001b[0;34m,\u001b[0m \u001b[0mb_labels\u001b[0m \u001b[0;34m=\u001b[0m \u001b[0mbatch\u001b[0m\u001b[0;34m\u001b[0m\u001b[0;34m\u001b[0m\u001b[0m\n\u001b[1;32m     45\u001b[0m           \u001b[0moptimizer\u001b[0m\u001b[0;34m.\u001b[0m\u001b[0mzero_grad\u001b[0m\u001b[0;34m(\u001b[0m\u001b[0;34m)\u001b[0m\u001b[0;34m\u001b[0m\u001b[0;34m\u001b[0m\u001b[0m\n",
            "\u001b[0;32m<ipython-input-50-a0c935d416d8>\u001b[0m in \u001b[0;36m<genexpr>\u001b[0;34m(.0)\u001b[0m\n\u001b[1;32m     41\u001b[0m             \u001b[0mprint\u001b[0m\u001b[0;34m(\u001b[0m\u001b[0;34m\"Step: \"\u001b[0m\u001b[0;34m,\u001b[0m \u001b[0mstep\u001b[0m\u001b[0;34m)\u001b[0m\u001b[0;34m\u001b[0m\u001b[0;34m\u001b[0m\u001b[0m\n\u001b[1;32m     42\u001b[0m \u001b[0;34m\u001b[0m\u001b[0m\n\u001b[0;32m---> 43\u001b[0;31m           \u001b[0mbatch\u001b[0m \u001b[0;34m=\u001b[0m \u001b[0mtuple\u001b[0m\u001b[0;34m(\u001b[0m\u001b[0mt\u001b[0m\u001b[0;34m.\u001b[0m\u001b[0mto\u001b[0m\u001b[0;34m(\u001b[0m\u001b[0mdevice\u001b[0m\u001b[0;34m)\u001b[0m \u001b[0;32mfor\u001b[0m \u001b[0mt\u001b[0m \u001b[0;32min\u001b[0m \u001b[0mbatch\u001b[0m\u001b[0;34m)\u001b[0m\u001b[0;34m\u001b[0m\u001b[0;34m\u001b[0m\u001b[0m\n\u001b[0m\u001b[1;32m     44\u001b[0m           \u001b[0mb_input_ids\u001b[0m\u001b[0;34m,\u001b[0m \u001b[0mb_input_mask\u001b[0m\u001b[0;34m,\u001b[0m \u001b[0mb_labels\u001b[0m \u001b[0;34m=\u001b[0m \u001b[0mbatch\u001b[0m\u001b[0;34m\u001b[0m\u001b[0;34m\u001b[0m\u001b[0m\n\u001b[1;32m     45\u001b[0m           \u001b[0moptimizer\u001b[0m\u001b[0;34m.\u001b[0m\u001b[0mzero_grad\u001b[0m\u001b[0;34m(\u001b[0m\u001b[0;34m)\u001b[0m\u001b[0;34m\u001b[0m\u001b[0;34m\u001b[0m\u001b[0m\n",
            "\u001b[0;31mKeyboardInterrupt\u001b[0m: "
          ]
        }
      ]
    },
    {
      "cell_type": "markdown",
      "source": [
        "# Hierarchical training\n",
        "\n",
        "BERT seems to learn how to classify classes 0 and 5 very well, but cant disstinguish between the rest.\n",
        "\n",
        "We will now try a hierarchical approach, first discriminating between (0,5 and not-0-or-5), and then training a separate model to further classify the not-0-or-5 entries into 1,2,3 and 4 "
      ],
      "metadata": {
        "id": "G2HfA4cOlN5U"
      }
    },
    {
      "cell_type": "code",
      "source": [
        "\"\"\"\n",
        "\n",
        "tree so far:\n",
        "\n",
        "    ___\n",
        "   / | \\\n",
        "  0  5  else\n",
        "        -+-\n",
        "      / | | \\\n",
        "     1  2 3  4\n",
        "\n",
        "FIRST BRANCH:\n",
        "remapping \n",
        "1,2,3,4   -> 0\n",
        "0         -> 1\n",
        "5         -> 2\n",
        "\n",
        "\n",
        "SECOND BRANCH:\n",
        "remapping\n",
        "1         -> 0\n",
        "2         -> 1\n",
        "3         -> 2\n",
        "4         -> 3\n",
        "\n",
        "\"\"\"\n",
        "\n",
        "# convert labels to first branch mappings\n",
        "first_node_labels = torch.tensor(np.zeros_like(labels))\n",
        "first_node_labels[(labels == 0).nonzero()] = 1\n",
        "first_node_labels[(labels == 5).nonzero()] = 2\n",
        "\n",
        "\n",
        "first_node_train_set = TensorDataset(token_id[train_idx], \n",
        "                          attention_masks[train_idx], \n",
        "                          first_node_labels[train_idx])\n",
        "\n",
        "first_node_val_set = TensorDataset(token_id[val_idx], \n",
        "                        attention_masks[val_idx], \n",
        "                        first_node_labels[val_idx])\n",
        "\n",
        "first_node_test_set = TensorDataset(token_id[test_idx], \n",
        "                        attention_masks[test_idx], \n",
        "                        first_node_labels[test_idx])\n",
        "\n",
        "first_node_train_dataloader = DataLoader(\n",
        "            first_node_train_set,\n",
        "            sampler = RandomSampler(first_node_train_set),\n",
        "            batch_size = batch_size\n",
        "        )\n",
        "\n",
        "first_node_validation_dataloader = DataLoader(\n",
        "            first_node_val_set,\n",
        "            sampler = SequentialSampler(first_node_val_set),\n",
        "            batch_size = batch_size\n",
        "        )\n",
        "\n",
        "first_node_test_dataloader = DataLoader(\n",
        "            first_node_test_set,\n",
        "            sampler = SequentialSampler(first_node_test_set),\n",
        "            batch_size = batch_size\n",
        "        )\n",
        "  \n",
        "print(\"first branch counts: \", end='\\t')\n",
        "counts = [0,0,0,0,0,0]\n",
        "for el in tqdm(first_node_labels):\n",
        "  counts[el] += 1\n",
        "print(counts)\n",
        "\n",
        "print(\"lens: \", len(first_node_train_dataloader), len(first_node_validation_dataloader), len(first_node_test_dataloader))\n",
        "print()\n",
        "\n",
        "\n",
        "# get only second node branch mappings\n",
        "# second_node_labels = labels[labels != 0]\n",
        "# second_node_labels = second_node_labels[second_node_labels != 5]\n",
        "\n",
        "# temp = np.copy(second_node_labels)\n",
        "# second_node_labels[(temp == 1).nonzero()] = 0\n",
        "# second_node_labels[(temp == 2).nonzero()] = 1\n",
        "# second_node_labels[(temp == 3).nonzero()] = 2\n",
        "# second_node_labels[(temp == 4).nonzero()] = 3\n",
        "\n",
        "second_node_labels = torch.tensor(np.copy(labels))\n",
        "second_node_labels[(labels == 0).nonzero()] = 9\n",
        "second_node_labels[(labels == 1).nonzero()] = 0\n",
        "second_node_labels[(labels == 2).nonzero()] = 1\n",
        "second_node_labels[(labels == 3).nonzero()] = 2\n",
        "second_node_labels[(labels == 4).nonzero()] = 3\n",
        "second_node_labels[(labels == 5).nonzero()] = 9\n",
        "\n",
        "second_node_labels = second_node_labels[second_node_labels != 9]\n",
        "\n",
        "# get second branch indices\n",
        "second_train_idx, second_temp_idx = train_test_split(\n",
        "    np.arange(len(second_node_labels)),\n",
        "    test_size = valntest_ratio,\n",
        "    shuffle = True,\n",
        "    stratify = second_node_labels)\n",
        "\n",
        "second_val_idx, second_test_idx = train_test_split(\n",
        "    np.arange(len(second_node_labels[second_temp_idx])),\n",
        "    test_size = valtest_split,\n",
        "    shuffle = True,\n",
        "    stratify = second_node_labels[second_temp_idx])\n",
        "\n",
        "\n",
        "second_node_train_set = TensorDataset(token_id[second_train_idx], \n",
        "                          attention_masks[second_train_idx], \n",
        "                          second_node_labels[second_train_idx])\n",
        "\n",
        "second_node_val_set = TensorDataset(token_id[second_val_idx], \n",
        "                        attention_masks[second_val_idx], \n",
        "                        second_node_labels[second_val_idx])\n",
        "\n",
        "second_node_test_set = TensorDataset(token_id[second_test_idx], \n",
        "                        attention_masks[second_test_idx], \n",
        "                        second_node_labels[second_test_idx])\n",
        "\n",
        "second_node_train_dataloader = DataLoader(\n",
        "            second_node_train_set,\n",
        "            sampler = RandomSampler(second_node_train_set),\n",
        "            batch_size = batch_size\n",
        "        )\n",
        "\n",
        "second_node_validation_dataloader = DataLoader(\n",
        "            second_node_val_set,\n",
        "            sampler = SequentialSampler(second_node_val_set),\n",
        "            batch_size = batch_size\n",
        "        )\n",
        "\n",
        "second_node_test_dataloader = DataLoader(\n",
        "            second_node_test_set,\n",
        "            sampler = SequentialSampler(second_node_test_set),\n",
        "            batch_size = batch_size\n",
        "        )\n",
        "\n",
        "print(labels)\n",
        "print(first_node_labels)\n",
        "print(second_node_labels)\n",
        "\n",
        "for i in range(0,50):\n",
        "  print(int(labels[i]), end=' ')\n",
        "\n",
        "print()\n",
        "\n",
        "for i in range(0,50):\n",
        "  print(int(second_node_labels[i]), end=' ')\n"
      ],
      "metadata": {
        "colab": {
          "base_uri": "https://localhost:8080/"
        },
        "id": "VXKWuaPDlyfI",
        "outputId": "07eca8e2-af7e-4fd7-eb24-5e7979f10372"
      },
      "execution_count": null,
      "outputs": [
        {
          "output_type": "stream",
          "name": "stdout",
          "text": [
            "first branch counts: \t"
          ]
        },
        {
          "output_type": "stream",
          "name": "stderr",
          "text": [
            "100%|██████████| 22416/22416 [00:00<00:00, 423202.52it/s]"
          ]
        },
        {
          "output_type": "stream",
          "name": "stdout",
          "text": [
            "[15027, 3562, 3827, 0, 0, 0]\n",
            "lens:  981 211 211\n",
            "\n",
            "tensor([3, 0, 4,  ..., 0, 4, 5])\n",
            "tensor([0, 1, 0,  ..., 1, 0, 2])\n",
            "tensor([2, 3, 3,  ..., 1, 2, 3])\n",
            "3 0 4 4 3 5 2 4 1 4 0 1 4 1 2 5 5 3 1 3 4 5 5 1 2 4 5 0 4 5 4 0 0 5 4 4 2 2 4 4 4 2 5 4 3 2 0 4 2 2 \n",
            "2 3 3 2 1 3 0 3 0 3 0 1 2 0 2 3 0 1 3 3 3 3 3 1 1 3 3 3 1 3 2 1 3 1 1 0 0 2 2 3 0 2 3 2 0 1 3 3 2 2 "
          ]
        },
        {
          "output_type": "stream",
          "name": "stderr",
          "text": [
            "\n"
          ]
        }
      ]
    },
    {
      "cell_type": "code",
      "source": [
        "counts = [0,0,0,0]\n",
        "for k in second_node_train_dataloader:\n",
        "  for e in k[-1]:\n",
        "    counts[e] += 1\n",
        "\n",
        "print(counts)"
      ],
      "metadata": {
        "colab": {
          "base_uri": "https://localhost:8080/"
        },
        "id": "HE-iNSIJzqrM",
        "outputId": "c1ee8e2c-bf92-4a63-8da2-8953f8687442"
      },
      "execution_count": null,
      "outputs": [
        {
          "output_type": "stream",
          "name": "stdout",
          "text": [
            "[2553, 2581, 2709, 2675]\n"
          ]
        }
      ]
    },
    {
      "cell_type": "code",
      "source": [
        "# train both BERTs on each dataset separately\n",
        "# during inference, things that first_node_bert classifies as '0' are sent to second_node_bert for further classification\n",
        "# training occurs separately\n",
        "\n",
        "# train first bert\n",
        "device = torch.device('cuda' if torch.cuda.is_available() else 'cpu')\n",
        "\n",
        "first_node_bert = BertForSequenceClassification.from_pretrained(\n",
        "    'bert-base-cased',\n",
        "    num_labels = 3,\n",
        "    output_attentions = False,\n",
        "    output_hidden_states = False,\n",
        "  ).to(device)\n",
        "\n",
        "model = first_node_bert\n",
        "optimizer = torch.optim.AdamW(model.parameters(), \n",
        "                            lr = 5e-5,\n",
        "                            eps = 1e-08\n",
        "                            )\n",
        "lossFn = nn.CrossEntropyLoss().cuda()\n",
        "epochs = 2\n",
        "\n",
        "for _ in trange(epochs, desc = 'Epoch'):\n",
        "    # ========== Training ==========\n",
        "    \n",
        "    # Set model to training mode\n",
        "    model.train()\n",
        "    \n",
        "    # Tracking variables\n",
        "    tr_loss = 0\n",
        "    nb_tr_examples, nb_tr_steps = 0, 0\n",
        "\n",
        "    updator=100\n",
        "    for step, batch in enumerate(first_node_train_dataloader):\n",
        "        if (step + 1) % 100 == 0:\n",
        "          print(\"Step: \", step)\n",
        "\n",
        "        batch = tuple(t.to(device) for t in batch)\n",
        "        b_input_ids, b_input_mask, b_labels = batch\n",
        "        optimizer.zero_grad()\n",
        "        # Forward pass\n",
        "        train_output = model(b_input_ids, \n",
        "                            token_type_ids = None, \n",
        "                            attention_mask = b_input_mask, \n",
        "                            labels = b_labels)\n",
        "\n",
        "        # Backward pass\n",
        "        cntLoss = lossFn(train_output.logits, b_labels)\n",
        "        cntLoss.backward()\n",
        "\n",
        "        optimizer.step()\n",
        "        # Update tracking variables\n",
        "        tr_loss += cntLoss\n",
        "        nb_tr_examples += b_input_ids.size(0)\n",
        "        nb_tr_steps += 1\n",
        "\n",
        "    # ========== Validation ==========\n",
        "\n",
        "    # Set model to evaluation mode\n",
        "    model.eval()\n",
        "\n",
        "    # Tracking variables \n",
        "    val_accuracy = []\n",
        "    val_precision = []\n",
        "    val_recall = []\n",
        "    val_specificity = []\n",
        "\n",
        "    all_labels = np.array([])\n",
        "    all_preds = np.array([])\n",
        "\n",
        "    for batch in first_node_validation_dataloader:\n",
        "        batch = tuple(t.to(device) for t in batch)\n",
        "        b_input_ids, b_input_mask, b_labels = batch\n",
        "        with torch.no_grad():\n",
        "          # Forward pass\n",
        "          eval_output = model(b_input_ids, \n",
        "                              token_type_ids = None, \n",
        "                              attention_mask = b_input_mask)\n",
        "        logits = eval_output.logits.detach().cpu().numpy()\n",
        "        label_ids = b_labels.to('cpu').numpy()\n",
        "\n",
        "        all_labels = np.append(all_labels, label_ids)\n",
        "        all_preds = np.append(all_preds, np.argmax(logits, axis = 1).flatten())\n",
        "        # Calculate validation metrics\n",
        "        b_accuracy, b_precision, b_recall, b_specificity = b_metrics(logits, label_ids)\n",
        "        val_accuracy.append(b_accuracy)\n",
        "        # Update precision only when (tp + fp) !=0; ignore nan\n",
        "        if b_precision != 'nan': val_precision.append(b_precision)\n",
        "        # Update recall only when (tp + fn) !=0; ignore nan\n",
        "        if b_recall != 'nan': val_recall.append(b_recall)\n",
        "        # Update specificity only when (tn + fp) !=0; ignore nan\n",
        "        if b_specificity != 'nan': val_specificity.append(b_specificity)\n",
        "\n",
        "    print('\\n\\t - Train loss: {:.4f}'.format(tr_loss / nb_tr_steps))\n",
        "    print('\\t - Validation Accuracy: {:.4f}'.format(sum(val_accuracy)/len(val_accuracy)))\n",
        "    print('\\t - Validation Precision: {:.4f}'.format(sum(val_precision)/len(val_precision)) if len(val_precision)>0 else '\\t - Validation Precision: NaN')\n",
        "    print('\\t - Validation Recall: {:.4f}'.format(sum(val_recall)/len(val_recall)) if len(val_recall)>0 else '\\t - Validation Recall: NaN')\n",
        "    print('\\t - Validation Specificity: {:.4f}\\n'.format(sum(val_specificity)/len(val_specificity)) if len(val_specificity)>0 else '\\t - Validation Specificity: NaN')\n",
        "\n",
        "    from sklearn.metrics import classification_report   \n",
        "    print(classification_report(all_labels, all_preds))"
      ],
      "metadata": {
        "colab": {
          "base_uri": "https://localhost:8080/"
        },
        "id": "IJZwPzdPqmzb",
        "outputId": "5dfdc73d-a3b5-49a7-8c33-c945c40cdead"
      },
      "execution_count": null,
      "outputs": [
        {
          "output_type": "stream",
          "name": "stderr",
          "text": [
            "Some weights of the model checkpoint at bert-base-cased were not used when initializing BertForSequenceClassification: ['cls.predictions.transform.LayerNorm.bias', 'cls.predictions.transform.dense.weight', 'cls.seq_relationship.bias', 'cls.seq_relationship.weight', 'cls.predictions.bias', 'cls.predictions.transform.dense.bias', 'cls.predictions.decoder.weight', 'cls.predictions.transform.LayerNorm.weight']\n",
            "- This IS expected if you are initializing BertForSequenceClassification from the checkpoint of a model trained on another task or with another architecture (e.g. initializing a BertForSequenceClassification model from a BertForPreTraining model).\n",
            "- This IS NOT expected if you are initializing BertForSequenceClassification from the checkpoint of a model that you expect to be exactly identical (initializing a BertForSequenceClassification model from a BertForSequenceClassification model).\n",
            "Some weights of BertForSequenceClassification were not initialized from the model checkpoint at bert-base-cased and are newly initialized: ['classifier.weight', 'classifier.bias']\n",
            "You should probably TRAIN this model on a down-stream task to be able to use it for predictions and inference.\n",
            "Epoch:   0%|          | 0/2 [00:00<?, ?it/s]"
          ]
        },
        {
          "output_type": "stream",
          "name": "stdout",
          "text": [
            "Step:  99\n",
            "Step:  199\n",
            "Step:  299\n",
            "Step:  399\n",
            "Step:  499\n",
            "Step:  599\n",
            "Step:  699\n",
            "Step:  799\n",
            "Step:  899\n"
          ]
        },
        {
          "output_type": "stream",
          "name": "stderr",
          "text": [
            "\rEpoch:  50%|█████     | 1/2 [04:46<04:46, 286.73s/it]"
          ]
        },
        {
          "output_type": "stream",
          "name": "stdout",
          "text": [
            "\n",
            "\t - Train loss: 0.5838\n",
            "\t - Validation Accuracy: 0.7068\n",
            "\t - Validation Precision: 0.7633\n",
            "\t - Validation Recall: 0.5136\n",
            "\t - Validation Specificity: 0.9480\n",
            "\n",
            "              precision    recall  f1-score   support\n",
            "\n",
            "         0.0       0.86      0.92      0.89      2220\n",
            "         1.0       0.76      0.64      0.69       540\n",
            "         2.0       0.85      0.76      0.80       602\n",
            "\n",
            "    accuracy                           0.84      3362\n",
            "   macro avg       0.82      0.77      0.79      3362\n",
            "weighted avg       0.84      0.84      0.84      3362\n",
            "\n",
            "Step:  99\n",
            "Step:  199\n",
            "Step:  299\n",
            "Step:  399\n",
            "Step:  499\n",
            "Step:  599\n",
            "Step:  699\n",
            "Step:  799\n",
            "Step:  899\n"
          ]
        },
        {
          "output_type": "stream",
          "name": "stderr",
          "text": [
            "Epoch: 100%|██████████| 2/2 [09:46<00:00, 293.12s/it]"
          ]
        },
        {
          "output_type": "stream",
          "name": "stdout",
          "text": [
            "\n",
            "\t - Train loss: 0.3642\n",
            "\t - Validation Accuracy: 0.7453\n",
            "\t - Validation Precision: 0.9334\n",
            "\t - Validation Recall: 0.5089\n",
            "\t - Validation Specificity: 0.9898\n",
            "\n",
            "              precision    recall  f1-score   support\n",
            "\n",
            "         0.0       0.87      0.98      0.92      2220\n",
            "         1.0       0.94      0.62      0.74       540\n",
            "         2.0       0.94      0.80      0.87       602\n",
            "\n",
            "    accuracy                           0.89      3362\n",
            "   macro avg       0.92      0.80      0.84      3362\n",
            "weighted avg       0.89      0.89      0.88      3362\n",
            "\n"
          ]
        },
        {
          "output_type": "stream",
          "name": "stderr",
          "text": [
            "\n"
          ]
        }
      ]
    },
    {
      "cell_type": "code",
      "source": [
        "# train second bert\n",
        "device = torch.device('cuda' if torch.cuda.is_available() else 'cpu')\n",
        "\n",
        "second_node_bert = BertForSequenceClassification.from_pretrained(\n",
        "    'bert-base-cased',\n",
        "    num_labels = 4,\n",
        "    output_attentions = False,\n",
        "    output_hidden_states = False,\n",
        "  ).to(device)\n",
        "\n",
        "model = second_node_bert\n",
        "lossFn = nn.CrossEntropyLoss().cuda()\n",
        "epochs = 4\n",
        "\n",
        "for _ in trange(epochs, desc = 'Epoch'):\n",
        "    # ========== Training ==========\n",
        "    if epochs == 0 or epochs == 1:\n",
        "      optimizer = torch.optim.AdamW(model.parameters(), \n",
        "                                  lr = 1e-5,\n",
        "                                  eps = 1e-08\n",
        "                                  )\n",
        "    elif epochs == 2:\n",
        "      optimizer = torch.optim.AdamW(model.parameters(), \n",
        "                                  lr = 7e-6,\n",
        "                                  eps = 1e-08\n",
        "                                  )\n",
        "    \n",
        "    elif epochs == 3:\n",
        "      optimizer = torch.optim.AdamW(model.parameters(), \n",
        "                                  lr = 3e-6,\n",
        "                                  eps = 1e-08\n",
        "                                  )\n",
        "\n",
        "    # Set model to training mode\n",
        "    model.train()\n",
        "    \n",
        "    # Tracking variables\n",
        "    tr_loss = 0\n",
        "    nb_tr_examples, nb_tr_steps = 0, 0\n",
        "\n",
        "    updator=100\n",
        "    for step, batch in enumerate(second_node_train_dataloader):\n",
        "        if (step + 1) % 100 == 0:\n",
        "          print(\"Step: \", step)\n",
        "\n",
        "        batch = tuple(t.to(device) for t in batch)\n",
        "        b_input_ids, b_input_mask, b_labels = batch\n",
        "        optimizer.zero_grad()\n",
        "        # Forward pass\n",
        "        train_output = model(b_input_ids, \n",
        "                            token_type_ids = None, \n",
        "                            attention_mask = b_input_mask, \n",
        "                            labels = b_labels)\n",
        "\n",
        "        # Backward pass\n",
        "        cntLoss = lossFn(train_output.logits, b_labels)\n",
        "        cntLoss.backward()\n",
        "\n",
        "        optimizer.step()\n",
        "        # Update tracking variables\n",
        "        tr_loss += cntLoss\n",
        "        nb_tr_examples += b_input_ids.size(0)\n",
        "        nb_tr_steps += 1\n",
        "\n",
        "    # ========== Validation ==========\n",
        "\n",
        "    # Set model to evaluation mode\n",
        "    model.eval()\n",
        "\n",
        "    # Tracking variables \n",
        "    val_accuracy = []\n",
        "    val_precision = []\n",
        "    val_recall = []\n",
        "    val_specificity = []\n",
        "\n",
        "    all_labels = np.array([])\n",
        "    all_preds = np.array([])\n",
        "\n",
        "    for batch in second_node_validation_dataloader:\n",
        "        batch = tuple(t.to(device) for t in batch)\n",
        "        b_input_ids, b_input_mask, b_labels = batch\n",
        "        with torch.no_grad():\n",
        "          # Forward pass\n",
        "          eval_output = model(b_input_ids, \n",
        "                              token_type_ids = None, \n",
        "                              attention_mask = b_input_mask)\n",
        "        logits = eval_output.logits.detach().cpu().numpy()\n",
        "        label_ids = b_labels.to('cpu').numpy()\n",
        "\n",
        "        all_labels = np.append(all_labels, label_ids)\n",
        "        all_preds = np.append(all_preds, np.argmax(logits, axis = 1).flatten())\n",
        "        # Calculate validation metrics\n",
        "        b_accuracy, b_precision, b_recall, b_specificity = b_metrics(logits, label_ids)\n",
        "        val_accuracy.append(b_accuracy)\n",
        "        # Update precision only when (tp + fp) !=0; ignore nan\n",
        "        if b_precision != 'nan': val_precision.append(b_precision)\n",
        "        # Update recall only when (tp + fn) !=0; ignore nan\n",
        "        if b_recall != 'nan': val_recall.append(b_recall)\n",
        "        # Update specificity only when (tn + fp) !=0; ignore nan\n",
        "        if b_specificity != 'nan': val_specificity.append(b_specificity)\n",
        "\n",
        "    print('\\n\\t - Train loss: {:.4f}'.format(tr_loss / nb_tr_steps))\n",
        "    print('\\t - Validation Accuracy: {:.4f}'.format(sum(val_accuracy)/len(val_accuracy)))\n",
        "    print('\\t - Validation Precision: {:.4f}'.format(sum(val_precision)/len(val_precision)) if len(val_precision)>0 else '\\t - Validation Precision: NaN')\n",
        "    print('\\t - Validation Recall: {:.4f}'.format(sum(val_recall)/len(val_recall)) if len(val_recall)>0 else '\\t - Validation Recall: NaN')\n",
        "    print('\\t - Validation Specificity: {:.4f}\\n'.format(sum(val_specificity)/len(val_specificity)) if len(val_specificity)>0 else '\\t - Validation Specificity: NaN')\n",
        "\n",
        "    from sklearn.metrics import classification_report   \n",
        "    print(classification_report(all_labels, all_preds))"
      ],
      "metadata": {
        "colab": {
          "base_uri": "https://localhost:8080/"
        },
        "id": "4yqnjtQ2vqJU",
        "outputId": "a015f831-9c7e-491b-8ee4-ba60d449cbab"
      },
      "execution_count": null,
      "outputs": [
        {
          "output_type": "stream",
          "name": "stderr",
          "text": [
            "Some weights of the model checkpoint at bert-base-cased were not used when initializing BertForSequenceClassification: ['cls.predictions.transform.LayerNorm.weight', 'cls.predictions.decoder.weight', 'cls.predictions.transform.dense.weight', 'cls.seq_relationship.weight', 'cls.predictions.transform.LayerNorm.bias', 'cls.predictions.bias', 'cls.predictions.transform.dense.bias', 'cls.seq_relationship.bias']\n",
            "- This IS expected if you are initializing BertForSequenceClassification from the checkpoint of a model trained on another task or with another architecture (e.g. initializing a BertForSequenceClassification model from a BertForPreTraining model).\n",
            "- This IS NOT expected if you are initializing BertForSequenceClassification from the checkpoint of a model that you expect to be exactly identical (initializing a BertForSequenceClassification model from a BertForSequenceClassification model).\n",
            "Some weights of BertForSequenceClassification were not initialized from the model checkpoint at bert-base-cased and are newly initialized: ['classifier.bias', 'classifier.weight']\n",
            "You should probably TRAIN this model on a down-stream task to be able to use it for predictions and inference.\n",
            "Epoch:   0%|          | 0/4 [00:00<?, ?it/s]"
          ]
        },
        {
          "output_type": "stream",
          "name": "stdout",
          "text": [
            "Step:  99\n",
            "Step:  199\n",
            "Step:  299\n",
            "Step:  399\n",
            "Step:  499\n",
            "Step:  599\n"
          ]
        },
        {
          "output_type": "stream",
          "name": "stderr",
          "text": [
            "/usr/local/lib/python3.10/dist-packages/sklearn/metrics/_classification.py:1344: UndefinedMetricWarning: Precision and F-score are ill-defined and being set to 0.0 in labels with no predicted samples. Use `zero_division` parameter to control this behavior.\n",
            "  _warn_prf(average, modifier, msg_start, len(result))\n",
            "/usr/local/lib/python3.10/dist-packages/sklearn/metrics/_classification.py:1344: UndefinedMetricWarning: Precision and F-score are ill-defined and being set to 0.0 in labels with no predicted samples. Use `zero_division` parameter to control this behavior.\n",
            "  _warn_prf(average, modifier, msg_start, len(result))\n",
            "/usr/local/lib/python3.10/dist-packages/sklearn/metrics/_classification.py:1344: UndefinedMetricWarning: Precision and F-score are ill-defined and being set to 0.0 in labels with no predicted samples. Use `zero_division` parameter to control this behavior.\n",
            "  _warn_prf(average, modifier, msg_start, len(result))\n",
            "\rEpoch:  25%|██▌       | 1/4 [02:46<08:20, 166.75s/it]"
          ]
        },
        {
          "output_type": "stream",
          "name": "stdout",
          "text": [
            "\n",
            "\t - Train loss: 1.4412\n",
            "\t - Validation Accuracy: 0.2053\n",
            "\t - Validation Precision: 0.2181\n",
            "\t - Validation Recall: 0.0272\n",
            "\t - Validation Specificity: 0.7640\n",
            "\n",
            "              precision    recall  f1-score   support\n",
            "\n",
            "         0.0       0.23      0.81      0.36       524\n",
            "         1.0       0.24      0.08      0.12       514\n",
            "         2.0       0.00      0.00      0.00       624\n",
            "         3.0       0.27      0.12      0.17       592\n",
            "\n",
            "    accuracy                           0.24      2254\n",
            "   macro avg       0.18      0.25      0.16      2254\n",
            "weighted avg       0.18      0.24      0.15      2254\n",
            "\n",
            "Step:  99\n",
            "Step:  199\n",
            "Step:  299\n",
            "Step:  399\n",
            "Step:  499\n",
            "Step:  599\n"
          ]
        },
        {
          "output_type": "stream",
          "name": "stderr",
          "text": [
            "/usr/local/lib/python3.10/dist-packages/sklearn/metrics/_classification.py:1344: UndefinedMetricWarning: Precision and F-score are ill-defined and being set to 0.0 in labels with no predicted samples. Use `zero_division` parameter to control this behavior.\n",
            "  _warn_prf(average, modifier, msg_start, len(result))\n",
            "/usr/local/lib/python3.10/dist-packages/sklearn/metrics/_classification.py:1344: UndefinedMetricWarning: Precision and F-score are ill-defined and being set to 0.0 in labels with no predicted samples. Use `zero_division` parameter to control this behavior.\n",
            "  _warn_prf(average, modifier, msg_start, len(result))\n",
            "/usr/local/lib/python3.10/dist-packages/sklearn/metrics/_classification.py:1344: UndefinedMetricWarning: Precision and F-score are ill-defined and being set to 0.0 in labels with no predicted samples. Use `zero_division` parameter to control this behavior.\n",
            "  _warn_prf(average, modifier, msg_start, len(result))\n",
            "\rEpoch:  50%|█████     | 2/4 [05:32<05:32, 166.20s/it]"
          ]
        },
        {
          "output_type": "stream",
          "name": "stdout",
          "text": [
            "\n",
            "\t - Train loss: 1.4383\n",
            "\t - Validation Accuracy: 0.2053\n",
            "\t - Validation Precision: 0.2181\n",
            "\t - Validation Recall: 0.0272\n",
            "\t - Validation Specificity: 0.7640\n",
            "\n",
            "              precision    recall  f1-score   support\n",
            "\n",
            "         0.0       0.23      0.81      0.36       524\n",
            "         1.0       0.24      0.08      0.12       514\n",
            "         2.0       0.00      0.00      0.00       624\n",
            "         3.0       0.27      0.12      0.17       592\n",
            "\n",
            "    accuracy                           0.24      2254\n",
            "   macro avg       0.18      0.25      0.16      2254\n",
            "weighted avg       0.18      0.24      0.15      2254\n",
            "\n",
            "Step:  99\n",
            "Step:  199\n",
            "Step:  299\n",
            "Step:  399\n",
            "Step:  499\n",
            "Step:  599\n"
          ]
        },
        {
          "output_type": "stream",
          "name": "stderr",
          "text": [
            "/usr/local/lib/python3.10/dist-packages/sklearn/metrics/_classification.py:1344: UndefinedMetricWarning: Precision and F-score are ill-defined and being set to 0.0 in labels with no predicted samples. Use `zero_division` parameter to control this behavior.\n",
            "  _warn_prf(average, modifier, msg_start, len(result))\n",
            "/usr/local/lib/python3.10/dist-packages/sklearn/metrics/_classification.py:1344: UndefinedMetricWarning: Precision and F-score are ill-defined and being set to 0.0 in labels with no predicted samples. Use `zero_division` parameter to control this behavior.\n",
            "  _warn_prf(average, modifier, msg_start, len(result))\n",
            "/usr/local/lib/python3.10/dist-packages/sklearn/metrics/_classification.py:1344: UndefinedMetricWarning: Precision and F-score are ill-defined and being set to 0.0 in labels with no predicted samples. Use `zero_division` parameter to control this behavior.\n",
            "  _warn_prf(average, modifier, msg_start, len(result))\n",
            "\rEpoch:  75%|███████▌  | 3/4 [08:18<02:45, 165.93s/it]"
          ]
        },
        {
          "output_type": "stream",
          "name": "stdout",
          "text": [
            "\n",
            "\t - Train loss: 1.4381\n",
            "\t - Validation Accuracy: 0.2053\n",
            "\t - Validation Precision: 0.2181\n",
            "\t - Validation Recall: 0.0272\n",
            "\t - Validation Specificity: 0.7640\n",
            "\n",
            "              precision    recall  f1-score   support\n",
            "\n",
            "         0.0       0.23      0.81      0.36       524\n",
            "         1.0       0.24      0.08      0.12       514\n",
            "         2.0       0.00      0.00      0.00       624\n",
            "         3.0       0.27      0.12      0.17       592\n",
            "\n",
            "    accuracy                           0.24      2254\n",
            "   macro avg       0.18      0.25      0.16      2254\n",
            "weighted avg       0.18      0.24      0.15      2254\n",
            "\n",
            "Step:  99\n",
            "Step:  199\n",
            "Step:  299\n",
            "Step:  399\n",
            "Step:  499\n",
            "Step:  599\n"
          ]
        },
        {
          "output_type": "stream",
          "name": "stderr",
          "text": [
            "/usr/local/lib/python3.10/dist-packages/sklearn/metrics/_classification.py:1344: UndefinedMetricWarning: Precision and F-score are ill-defined and being set to 0.0 in labels with no predicted samples. Use `zero_division` parameter to control this behavior.\n",
            "  _warn_prf(average, modifier, msg_start, len(result))\n",
            "/usr/local/lib/python3.10/dist-packages/sklearn/metrics/_classification.py:1344: UndefinedMetricWarning: Precision and F-score are ill-defined and being set to 0.0 in labels with no predicted samples. Use `zero_division` parameter to control this behavior.\n",
            "  _warn_prf(average, modifier, msg_start, len(result))\n",
            "/usr/local/lib/python3.10/dist-packages/sklearn/metrics/_classification.py:1344: UndefinedMetricWarning: Precision and F-score are ill-defined and being set to 0.0 in labels with no predicted samples. Use `zero_division` parameter to control this behavior.\n",
            "  _warn_prf(average, modifier, msg_start, len(result))\n",
            "Epoch: 100%|██████████| 4/4 [11:03<00:00, 165.98s/it]"
          ]
        },
        {
          "output_type": "stream",
          "name": "stdout",
          "text": [
            "\n",
            "\t - Train loss: 1.4362\n",
            "\t - Validation Accuracy: 0.2053\n",
            "\t - Validation Precision: 0.2181\n",
            "\t - Validation Recall: 0.0272\n",
            "\t - Validation Specificity: 0.7640\n",
            "\n",
            "              precision    recall  f1-score   support\n",
            "\n",
            "         0.0       0.23      0.81      0.36       524\n",
            "         1.0       0.24      0.08      0.12       514\n",
            "         2.0       0.00      0.00      0.00       624\n",
            "         3.0       0.27      0.12      0.17       592\n",
            "\n",
            "    accuracy                           0.24      2254\n",
            "   macro avg       0.18      0.25      0.16      2254\n",
            "weighted avg       0.18      0.24      0.15      2254\n",
            "\n"
          ]
        },
        {
          "output_type": "stream",
          "name": "stderr",
          "text": [
            "\n"
          ]
        }
      ]
    }
  ]
}