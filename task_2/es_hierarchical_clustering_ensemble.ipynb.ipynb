{
  "nbformat": 4,
  "nbformat_minor": 0,
  "metadata": {
    "colab": {
      "provenance": [],
      "gpuType": "T4",
      "collapsed_sections": [
        "8wNB8EqzRr6L"
      ]
    },
    "kernelspec": {
      "name": "python3",
      "display_name": "Python 3"
    },
    "language_info": {
      "name": "python"
    },
    "accelerator": "GPU",
    "gpuClass": "standard",
    "widgets": {
      "application/vnd.jupyter.widget-state+json": {
        "da8e020bddab4731af3bfac3e69562b6": {
          "model_module": "@jupyter-widgets/controls",
          "model_name": "HBoxModel",
          "model_module_version": "1.5.0",
          "state": {
            "_dom_classes": [],
            "_model_module": "@jupyter-widgets/controls",
            "_model_module_version": "1.5.0",
            "_model_name": "HBoxModel",
            "_view_count": null,
            "_view_module": "@jupyter-widgets/controls",
            "_view_module_version": "1.5.0",
            "_view_name": "HBoxView",
            "box_style": "",
            "children": [
              "IPY_MODEL_4277963c83b5496bbe79b0db9304d11f",
              "IPY_MODEL_705181a6f0c44141aef16e6d140cc08a",
              "IPY_MODEL_604d1de9d28a49378f4f721936c45c6c"
            ],
            "layout": "IPY_MODEL_dfde6bb3ae964f5da246c9c9eb30c62c"
          }
        },
        "4277963c83b5496bbe79b0db9304d11f": {
          "model_module": "@jupyter-widgets/controls",
          "model_name": "HTMLModel",
          "model_module_version": "1.5.0",
          "state": {
            "_dom_classes": [],
            "_model_module": "@jupyter-widgets/controls",
            "_model_module_version": "1.5.0",
            "_model_name": "HTMLModel",
            "_view_count": null,
            "_view_module": "@jupyter-widgets/controls",
            "_view_module_version": "1.5.0",
            "_view_name": "HTMLView",
            "description": "",
            "description_tooltip": null,
            "layout": "IPY_MODEL_0747840b99dc4f6292d5f2e970fab019",
            "placeholder": "​",
            "style": "IPY_MODEL_90124fdc1484403abb164d9e71dce470",
            "value": "Downloading (…)solve/main/vocab.txt: 100%"
          }
        },
        "705181a6f0c44141aef16e6d140cc08a": {
          "model_module": "@jupyter-widgets/controls",
          "model_name": "FloatProgressModel",
          "model_module_version": "1.5.0",
          "state": {
            "_dom_classes": [],
            "_model_module": "@jupyter-widgets/controls",
            "_model_module_version": "1.5.0",
            "_model_name": "FloatProgressModel",
            "_view_count": null,
            "_view_module": "@jupyter-widgets/controls",
            "_view_module_version": "1.5.0",
            "_view_name": "ProgressView",
            "bar_style": "success",
            "description": "",
            "description_tooltip": null,
            "layout": "IPY_MODEL_938d3764f048432fa9487e5357c96d24",
            "max": 241796,
            "min": 0,
            "orientation": "horizontal",
            "style": "IPY_MODEL_4618962e757c43088b49cead5747c3c6",
            "value": 241796
          }
        },
        "604d1de9d28a49378f4f721936c45c6c": {
          "model_module": "@jupyter-widgets/controls",
          "model_name": "HTMLModel",
          "model_module_version": "1.5.0",
          "state": {
            "_dom_classes": [],
            "_model_module": "@jupyter-widgets/controls",
            "_model_module_version": "1.5.0",
            "_model_name": "HTMLModel",
            "_view_count": null,
            "_view_module": "@jupyter-widgets/controls",
            "_view_module_version": "1.5.0",
            "_view_name": "HTMLView",
            "description": "",
            "description_tooltip": null,
            "layout": "IPY_MODEL_bfbf8261134e4b2d838de09a8d40c16b",
            "placeholder": "​",
            "style": "IPY_MODEL_4febe1586dcd497f95bc88199a216eb7",
            "value": " 242k/242k [00:00&lt;00:00, 1.49MB/s]"
          }
        },
        "dfde6bb3ae964f5da246c9c9eb30c62c": {
          "model_module": "@jupyter-widgets/base",
          "model_name": "LayoutModel",
          "model_module_version": "1.2.0",
          "state": {
            "_model_module": "@jupyter-widgets/base",
            "_model_module_version": "1.2.0",
            "_model_name": "LayoutModel",
            "_view_count": null,
            "_view_module": "@jupyter-widgets/base",
            "_view_module_version": "1.2.0",
            "_view_name": "LayoutView",
            "align_content": null,
            "align_items": null,
            "align_self": null,
            "border": null,
            "bottom": null,
            "display": null,
            "flex": null,
            "flex_flow": null,
            "grid_area": null,
            "grid_auto_columns": null,
            "grid_auto_flow": null,
            "grid_auto_rows": null,
            "grid_column": null,
            "grid_gap": null,
            "grid_row": null,
            "grid_template_areas": null,
            "grid_template_columns": null,
            "grid_template_rows": null,
            "height": null,
            "justify_content": null,
            "justify_items": null,
            "left": null,
            "margin": null,
            "max_height": null,
            "max_width": null,
            "min_height": null,
            "min_width": null,
            "object_fit": null,
            "object_position": null,
            "order": null,
            "overflow": null,
            "overflow_x": null,
            "overflow_y": null,
            "padding": null,
            "right": null,
            "top": null,
            "visibility": null,
            "width": null
          }
        },
        "0747840b99dc4f6292d5f2e970fab019": {
          "model_module": "@jupyter-widgets/base",
          "model_name": "LayoutModel",
          "model_module_version": "1.2.0",
          "state": {
            "_model_module": "@jupyter-widgets/base",
            "_model_module_version": "1.2.0",
            "_model_name": "LayoutModel",
            "_view_count": null,
            "_view_module": "@jupyter-widgets/base",
            "_view_module_version": "1.2.0",
            "_view_name": "LayoutView",
            "align_content": null,
            "align_items": null,
            "align_self": null,
            "border": null,
            "bottom": null,
            "display": null,
            "flex": null,
            "flex_flow": null,
            "grid_area": null,
            "grid_auto_columns": null,
            "grid_auto_flow": null,
            "grid_auto_rows": null,
            "grid_column": null,
            "grid_gap": null,
            "grid_row": null,
            "grid_template_areas": null,
            "grid_template_columns": null,
            "grid_template_rows": null,
            "height": null,
            "justify_content": null,
            "justify_items": null,
            "left": null,
            "margin": null,
            "max_height": null,
            "max_width": null,
            "min_height": null,
            "min_width": null,
            "object_fit": null,
            "object_position": null,
            "order": null,
            "overflow": null,
            "overflow_x": null,
            "overflow_y": null,
            "padding": null,
            "right": null,
            "top": null,
            "visibility": null,
            "width": null
          }
        },
        "90124fdc1484403abb164d9e71dce470": {
          "model_module": "@jupyter-widgets/controls",
          "model_name": "DescriptionStyleModel",
          "model_module_version": "1.5.0",
          "state": {
            "_model_module": "@jupyter-widgets/controls",
            "_model_module_version": "1.5.0",
            "_model_name": "DescriptionStyleModel",
            "_view_count": null,
            "_view_module": "@jupyter-widgets/base",
            "_view_module_version": "1.2.0",
            "_view_name": "StyleView",
            "description_width": ""
          }
        },
        "938d3764f048432fa9487e5357c96d24": {
          "model_module": "@jupyter-widgets/base",
          "model_name": "LayoutModel",
          "model_module_version": "1.2.0",
          "state": {
            "_model_module": "@jupyter-widgets/base",
            "_model_module_version": "1.2.0",
            "_model_name": "LayoutModel",
            "_view_count": null,
            "_view_module": "@jupyter-widgets/base",
            "_view_module_version": "1.2.0",
            "_view_name": "LayoutView",
            "align_content": null,
            "align_items": null,
            "align_self": null,
            "border": null,
            "bottom": null,
            "display": null,
            "flex": null,
            "flex_flow": null,
            "grid_area": null,
            "grid_auto_columns": null,
            "grid_auto_flow": null,
            "grid_auto_rows": null,
            "grid_column": null,
            "grid_gap": null,
            "grid_row": null,
            "grid_template_areas": null,
            "grid_template_columns": null,
            "grid_template_rows": null,
            "height": null,
            "justify_content": null,
            "justify_items": null,
            "left": null,
            "margin": null,
            "max_height": null,
            "max_width": null,
            "min_height": null,
            "min_width": null,
            "object_fit": null,
            "object_position": null,
            "order": null,
            "overflow": null,
            "overflow_x": null,
            "overflow_y": null,
            "padding": null,
            "right": null,
            "top": null,
            "visibility": null,
            "width": null
          }
        },
        "4618962e757c43088b49cead5747c3c6": {
          "model_module": "@jupyter-widgets/controls",
          "model_name": "ProgressStyleModel",
          "model_module_version": "1.5.0",
          "state": {
            "_model_module": "@jupyter-widgets/controls",
            "_model_module_version": "1.5.0",
            "_model_name": "ProgressStyleModel",
            "_view_count": null,
            "_view_module": "@jupyter-widgets/base",
            "_view_module_version": "1.2.0",
            "_view_name": "StyleView",
            "bar_color": null,
            "description_width": ""
          }
        },
        "bfbf8261134e4b2d838de09a8d40c16b": {
          "model_module": "@jupyter-widgets/base",
          "model_name": "LayoutModel",
          "model_module_version": "1.2.0",
          "state": {
            "_model_module": "@jupyter-widgets/base",
            "_model_module_version": "1.2.0",
            "_model_name": "LayoutModel",
            "_view_count": null,
            "_view_module": "@jupyter-widgets/base",
            "_view_module_version": "1.2.0",
            "_view_name": "LayoutView",
            "align_content": null,
            "align_items": null,
            "align_self": null,
            "border": null,
            "bottom": null,
            "display": null,
            "flex": null,
            "flex_flow": null,
            "grid_area": null,
            "grid_auto_columns": null,
            "grid_auto_flow": null,
            "grid_auto_rows": null,
            "grid_column": null,
            "grid_gap": null,
            "grid_row": null,
            "grid_template_areas": null,
            "grid_template_columns": null,
            "grid_template_rows": null,
            "height": null,
            "justify_content": null,
            "justify_items": null,
            "left": null,
            "margin": null,
            "max_height": null,
            "max_width": null,
            "min_height": null,
            "min_width": null,
            "object_fit": null,
            "object_position": null,
            "order": null,
            "overflow": null,
            "overflow_x": null,
            "overflow_y": null,
            "padding": null,
            "right": null,
            "top": null,
            "visibility": null,
            "width": null
          }
        },
        "4febe1586dcd497f95bc88199a216eb7": {
          "model_module": "@jupyter-widgets/controls",
          "model_name": "DescriptionStyleModel",
          "model_module_version": "1.5.0",
          "state": {
            "_model_module": "@jupyter-widgets/controls",
            "_model_module_version": "1.5.0",
            "_model_name": "DescriptionStyleModel",
            "_view_count": null,
            "_view_module": "@jupyter-widgets/base",
            "_view_module_version": "1.2.0",
            "_view_name": "StyleView",
            "description_width": ""
          }
        },
        "b6ba177f9ba7454ca9e522c12d97b229": {
          "model_module": "@jupyter-widgets/controls",
          "model_name": "HBoxModel",
          "model_module_version": "1.5.0",
          "state": {
            "_dom_classes": [],
            "_model_module": "@jupyter-widgets/controls",
            "_model_module_version": "1.5.0",
            "_model_name": "HBoxModel",
            "_view_count": null,
            "_view_module": "@jupyter-widgets/controls",
            "_view_module_version": "1.5.0",
            "_view_name": "HBoxView",
            "box_style": "",
            "children": [
              "IPY_MODEL_fc6bb2a308ea4c49a97d00cfaf5fd683",
              "IPY_MODEL_8e0970bb927a488a8bc6ee1fa0aff7cc",
              "IPY_MODEL_2529a0640eec41a3bc44148e775a4f00"
            ],
            "layout": "IPY_MODEL_4fc886565470464a831a7bdf2dba2f98"
          }
        },
        "fc6bb2a308ea4c49a97d00cfaf5fd683": {
          "model_module": "@jupyter-widgets/controls",
          "model_name": "HTMLModel",
          "model_module_version": "1.5.0",
          "state": {
            "_dom_classes": [],
            "_model_module": "@jupyter-widgets/controls",
            "_model_module_version": "1.5.0",
            "_model_name": "HTMLModel",
            "_view_count": null,
            "_view_module": "@jupyter-widgets/controls",
            "_view_module_version": "1.5.0",
            "_view_name": "HTMLView",
            "description": "",
            "description_tooltip": null,
            "layout": "IPY_MODEL_9a393cdadaee4f5aad71adc58f63636d",
            "placeholder": "​",
            "style": "IPY_MODEL_9325440410344a2eb295753076f95175",
            "value": "Downloading (…)cial_tokens_map.json: 100%"
          }
        },
        "8e0970bb927a488a8bc6ee1fa0aff7cc": {
          "model_module": "@jupyter-widgets/controls",
          "model_name": "FloatProgressModel",
          "model_module_version": "1.5.0",
          "state": {
            "_dom_classes": [],
            "_model_module": "@jupyter-widgets/controls",
            "_model_module_version": "1.5.0",
            "_model_name": "FloatProgressModel",
            "_view_count": null,
            "_view_module": "@jupyter-widgets/controls",
            "_view_module_version": "1.5.0",
            "_view_name": "ProgressView",
            "bar_style": "success",
            "description": "",
            "description_tooltip": null,
            "layout": "IPY_MODEL_6087b182aeec4d9b9c50a8d57941ffd3",
            "max": 134,
            "min": 0,
            "orientation": "horizontal",
            "style": "IPY_MODEL_aa75ada48c9d419eb459133a84e1a668",
            "value": 134
          }
        },
        "2529a0640eec41a3bc44148e775a4f00": {
          "model_module": "@jupyter-widgets/controls",
          "model_name": "HTMLModel",
          "model_module_version": "1.5.0",
          "state": {
            "_dom_classes": [],
            "_model_module": "@jupyter-widgets/controls",
            "_model_module_version": "1.5.0",
            "_model_name": "HTMLModel",
            "_view_count": null,
            "_view_module": "@jupyter-widgets/controls",
            "_view_module_version": "1.5.0",
            "_view_name": "HTMLView",
            "description": "",
            "description_tooltip": null,
            "layout": "IPY_MODEL_4ccb5712dfcb43b9baf42eaf633f9562",
            "placeholder": "​",
            "style": "IPY_MODEL_42ae83404f694ef4a2d00b338ec248d1",
            "value": " 134/134 [00:00&lt;00:00, 7.20kB/s]"
          }
        },
        "4fc886565470464a831a7bdf2dba2f98": {
          "model_module": "@jupyter-widgets/base",
          "model_name": "LayoutModel",
          "model_module_version": "1.2.0",
          "state": {
            "_model_module": "@jupyter-widgets/base",
            "_model_module_version": "1.2.0",
            "_model_name": "LayoutModel",
            "_view_count": null,
            "_view_module": "@jupyter-widgets/base",
            "_view_module_version": "1.2.0",
            "_view_name": "LayoutView",
            "align_content": null,
            "align_items": null,
            "align_self": null,
            "border": null,
            "bottom": null,
            "display": null,
            "flex": null,
            "flex_flow": null,
            "grid_area": null,
            "grid_auto_columns": null,
            "grid_auto_flow": null,
            "grid_auto_rows": null,
            "grid_column": null,
            "grid_gap": null,
            "grid_row": null,
            "grid_template_areas": null,
            "grid_template_columns": null,
            "grid_template_rows": null,
            "height": null,
            "justify_content": null,
            "justify_items": null,
            "left": null,
            "margin": null,
            "max_height": null,
            "max_width": null,
            "min_height": null,
            "min_width": null,
            "object_fit": null,
            "object_position": null,
            "order": null,
            "overflow": null,
            "overflow_x": null,
            "overflow_y": null,
            "padding": null,
            "right": null,
            "top": null,
            "visibility": null,
            "width": null
          }
        },
        "9a393cdadaee4f5aad71adc58f63636d": {
          "model_module": "@jupyter-widgets/base",
          "model_name": "LayoutModel",
          "model_module_version": "1.2.0",
          "state": {
            "_model_module": "@jupyter-widgets/base",
            "_model_module_version": "1.2.0",
            "_model_name": "LayoutModel",
            "_view_count": null,
            "_view_module": "@jupyter-widgets/base",
            "_view_module_version": "1.2.0",
            "_view_name": "LayoutView",
            "align_content": null,
            "align_items": null,
            "align_self": null,
            "border": null,
            "bottom": null,
            "display": null,
            "flex": null,
            "flex_flow": null,
            "grid_area": null,
            "grid_auto_columns": null,
            "grid_auto_flow": null,
            "grid_auto_rows": null,
            "grid_column": null,
            "grid_gap": null,
            "grid_row": null,
            "grid_template_areas": null,
            "grid_template_columns": null,
            "grid_template_rows": null,
            "height": null,
            "justify_content": null,
            "justify_items": null,
            "left": null,
            "margin": null,
            "max_height": null,
            "max_width": null,
            "min_height": null,
            "min_width": null,
            "object_fit": null,
            "object_position": null,
            "order": null,
            "overflow": null,
            "overflow_x": null,
            "overflow_y": null,
            "padding": null,
            "right": null,
            "top": null,
            "visibility": null,
            "width": null
          }
        },
        "9325440410344a2eb295753076f95175": {
          "model_module": "@jupyter-widgets/controls",
          "model_name": "DescriptionStyleModel",
          "model_module_version": "1.5.0",
          "state": {
            "_model_module": "@jupyter-widgets/controls",
            "_model_module_version": "1.5.0",
            "_model_name": "DescriptionStyleModel",
            "_view_count": null,
            "_view_module": "@jupyter-widgets/base",
            "_view_module_version": "1.2.0",
            "_view_name": "StyleView",
            "description_width": ""
          }
        },
        "6087b182aeec4d9b9c50a8d57941ffd3": {
          "model_module": "@jupyter-widgets/base",
          "model_name": "LayoutModel",
          "model_module_version": "1.2.0",
          "state": {
            "_model_module": "@jupyter-widgets/base",
            "_model_module_version": "1.2.0",
            "_model_name": "LayoutModel",
            "_view_count": null,
            "_view_module": "@jupyter-widgets/base",
            "_view_module_version": "1.2.0",
            "_view_name": "LayoutView",
            "align_content": null,
            "align_items": null,
            "align_self": null,
            "border": null,
            "bottom": null,
            "display": null,
            "flex": null,
            "flex_flow": null,
            "grid_area": null,
            "grid_auto_columns": null,
            "grid_auto_flow": null,
            "grid_auto_rows": null,
            "grid_column": null,
            "grid_gap": null,
            "grid_row": null,
            "grid_template_areas": null,
            "grid_template_columns": null,
            "grid_template_rows": null,
            "height": null,
            "justify_content": null,
            "justify_items": null,
            "left": null,
            "margin": null,
            "max_height": null,
            "max_width": null,
            "min_height": null,
            "min_width": null,
            "object_fit": null,
            "object_position": null,
            "order": null,
            "overflow": null,
            "overflow_x": null,
            "overflow_y": null,
            "padding": null,
            "right": null,
            "top": null,
            "visibility": null,
            "width": null
          }
        },
        "aa75ada48c9d419eb459133a84e1a668": {
          "model_module": "@jupyter-widgets/controls",
          "model_name": "ProgressStyleModel",
          "model_module_version": "1.5.0",
          "state": {
            "_model_module": "@jupyter-widgets/controls",
            "_model_module_version": "1.5.0",
            "_model_name": "ProgressStyleModel",
            "_view_count": null,
            "_view_module": "@jupyter-widgets/base",
            "_view_module_version": "1.2.0",
            "_view_name": "StyleView",
            "bar_color": null,
            "description_width": ""
          }
        },
        "4ccb5712dfcb43b9baf42eaf633f9562": {
          "model_module": "@jupyter-widgets/base",
          "model_name": "LayoutModel",
          "model_module_version": "1.2.0",
          "state": {
            "_model_module": "@jupyter-widgets/base",
            "_model_module_version": "1.2.0",
            "_model_name": "LayoutModel",
            "_view_count": null,
            "_view_module": "@jupyter-widgets/base",
            "_view_module_version": "1.2.0",
            "_view_name": "LayoutView",
            "align_content": null,
            "align_items": null,
            "align_self": null,
            "border": null,
            "bottom": null,
            "display": null,
            "flex": null,
            "flex_flow": null,
            "grid_area": null,
            "grid_auto_columns": null,
            "grid_auto_flow": null,
            "grid_auto_rows": null,
            "grid_column": null,
            "grid_gap": null,
            "grid_row": null,
            "grid_template_areas": null,
            "grid_template_columns": null,
            "grid_template_rows": null,
            "height": null,
            "justify_content": null,
            "justify_items": null,
            "left": null,
            "margin": null,
            "max_height": null,
            "max_width": null,
            "min_height": null,
            "min_width": null,
            "object_fit": null,
            "object_position": null,
            "order": null,
            "overflow": null,
            "overflow_x": null,
            "overflow_y": null,
            "padding": null,
            "right": null,
            "top": null,
            "visibility": null,
            "width": null
          }
        },
        "42ae83404f694ef4a2d00b338ec248d1": {
          "model_module": "@jupyter-widgets/controls",
          "model_name": "DescriptionStyleModel",
          "model_module_version": "1.5.0",
          "state": {
            "_model_module": "@jupyter-widgets/controls",
            "_model_module_version": "1.5.0",
            "_model_name": "DescriptionStyleModel",
            "_view_count": null,
            "_view_module": "@jupyter-widgets/base",
            "_view_module_version": "1.2.0",
            "_view_name": "StyleView",
            "description_width": ""
          }
        },
        "1c192d547a3541189a5dbffa8a94c8ea": {
          "model_module": "@jupyter-widgets/controls",
          "model_name": "HBoxModel",
          "model_module_version": "1.5.0",
          "state": {
            "_dom_classes": [],
            "_model_module": "@jupyter-widgets/controls",
            "_model_module_version": "1.5.0",
            "_model_name": "HBoxModel",
            "_view_count": null,
            "_view_module": "@jupyter-widgets/controls",
            "_view_module_version": "1.5.0",
            "_view_name": "HBoxView",
            "box_style": "",
            "children": [
              "IPY_MODEL_2c6017aa138e42bb8c0bf74b092c3d11",
              "IPY_MODEL_ab80b5e0172b4929a9f0d11b061dc2bc",
              "IPY_MODEL_c226f4eb22cd4215bb193f4a6a01bd31"
            ],
            "layout": "IPY_MODEL_ac9b79868bf045f999e727cd9b3047fd"
          }
        },
        "2c6017aa138e42bb8c0bf74b092c3d11": {
          "model_module": "@jupyter-widgets/controls",
          "model_name": "HTMLModel",
          "model_module_version": "1.5.0",
          "state": {
            "_dom_classes": [],
            "_model_module": "@jupyter-widgets/controls",
            "_model_module_version": "1.5.0",
            "_model_name": "HTMLModel",
            "_view_count": null,
            "_view_module": "@jupyter-widgets/controls",
            "_view_module_version": "1.5.0",
            "_view_name": "HTMLView",
            "description": "",
            "description_tooltip": null,
            "layout": "IPY_MODEL_72837460d8704c938562ad5d4ce03c63",
            "placeholder": "​",
            "style": "IPY_MODEL_d23d534a3ea9443ebd36657b663554d3",
            "value": "Downloading (…)okenizer_config.json: 100%"
          }
        },
        "ab80b5e0172b4929a9f0d11b061dc2bc": {
          "model_module": "@jupyter-widgets/controls",
          "model_name": "FloatProgressModel",
          "model_module_version": "1.5.0",
          "state": {
            "_dom_classes": [],
            "_model_module": "@jupyter-widgets/controls",
            "_model_module_version": "1.5.0",
            "_model_name": "FloatProgressModel",
            "_view_count": null,
            "_view_module": "@jupyter-widgets/controls",
            "_view_module_version": "1.5.0",
            "_view_name": "ProgressView",
            "bar_style": "success",
            "description": "",
            "description_tooltip": null,
            "layout": "IPY_MODEL_6e2b6f9c46414e00b8b65c3e9b5e0edf",
            "max": 364,
            "min": 0,
            "orientation": "horizontal",
            "style": "IPY_MODEL_d6848d95b4284ccfb66bc2c0657ba9c5",
            "value": 364
          }
        },
        "c226f4eb22cd4215bb193f4a6a01bd31": {
          "model_module": "@jupyter-widgets/controls",
          "model_name": "HTMLModel",
          "model_module_version": "1.5.0",
          "state": {
            "_dom_classes": [],
            "_model_module": "@jupyter-widgets/controls",
            "_model_module_version": "1.5.0",
            "_model_name": "HTMLModel",
            "_view_count": null,
            "_view_module": "@jupyter-widgets/controls",
            "_view_module_version": "1.5.0",
            "_view_name": "HTMLView",
            "description": "",
            "description_tooltip": null,
            "layout": "IPY_MODEL_72d6fe8a6ac44d20912ebc91ed6c04fc",
            "placeholder": "​",
            "style": "IPY_MODEL_56b8b347252b47d7b34f9bc27b9de084",
            "value": " 364/364 [00:00&lt;00:00, 15.9kB/s]"
          }
        },
        "ac9b79868bf045f999e727cd9b3047fd": {
          "model_module": "@jupyter-widgets/base",
          "model_name": "LayoutModel",
          "model_module_version": "1.2.0",
          "state": {
            "_model_module": "@jupyter-widgets/base",
            "_model_module_version": "1.2.0",
            "_model_name": "LayoutModel",
            "_view_count": null,
            "_view_module": "@jupyter-widgets/base",
            "_view_module_version": "1.2.0",
            "_view_name": "LayoutView",
            "align_content": null,
            "align_items": null,
            "align_self": null,
            "border": null,
            "bottom": null,
            "display": null,
            "flex": null,
            "flex_flow": null,
            "grid_area": null,
            "grid_auto_columns": null,
            "grid_auto_flow": null,
            "grid_auto_rows": null,
            "grid_column": null,
            "grid_gap": null,
            "grid_row": null,
            "grid_template_areas": null,
            "grid_template_columns": null,
            "grid_template_rows": null,
            "height": null,
            "justify_content": null,
            "justify_items": null,
            "left": null,
            "margin": null,
            "max_height": null,
            "max_width": null,
            "min_height": null,
            "min_width": null,
            "object_fit": null,
            "object_position": null,
            "order": null,
            "overflow": null,
            "overflow_x": null,
            "overflow_y": null,
            "padding": null,
            "right": null,
            "top": null,
            "visibility": null,
            "width": null
          }
        },
        "72837460d8704c938562ad5d4ce03c63": {
          "model_module": "@jupyter-widgets/base",
          "model_name": "LayoutModel",
          "model_module_version": "1.2.0",
          "state": {
            "_model_module": "@jupyter-widgets/base",
            "_model_module_version": "1.2.0",
            "_model_name": "LayoutModel",
            "_view_count": null,
            "_view_module": "@jupyter-widgets/base",
            "_view_module_version": "1.2.0",
            "_view_name": "LayoutView",
            "align_content": null,
            "align_items": null,
            "align_self": null,
            "border": null,
            "bottom": null,
            "display": null,
            "flex": null,
            "flex_flow": null,
            "grid_area": null,
            "grid_auto_columns": null,
            "grid_auto_flow": null,
            "grid_auto_rows": null,
            "grid_column": null,
            "grid_gap": null,
            "grid_row": null,
            "grid_template_areas": null,
            "grid_template_columns": null,
            "grid_template_rows": null,
            "height": null,
            "justify_content": null,
            "justify_items": null,
            "left": null,
            "margin": null,
            "max_height": null,
            "max_width": null,
            "min_height": null,
            "min_width": null,
            "object_fit": null,
            "object_position": null,
            "order": null,
            "overflow": null,
            "overflow_x": null,
            "overflow_y": null,
            "padding": null,
            "right": null,
            "top": null,
            "visibility": null,
            "width": null
          }
        },
        "d23d534a3ea9443ebd36657b663554d3": {
          "model_module": "@jupyter-widgets/controls",
          "model_name": "DescriptionStyleModel",
          "model_module_version": "1.5.0",
          "state": {
            "_model_module": "@jupyter-widgets/controls",
            "_model_module_version": "1.5.0",
            "_model_name": "DescriptionStyleModel",
            "_view_count": null,
            "_view_module": "@jupyter-widgets/base",
            "_view_module_version": "1.2.0",
            "_view_name": "StyleView",
            "description_width": ""
          }
        },
        "6e2b6f9c46414e00b8b65c3e9b5e0edf": {
          "model_module": "@jupyter-widgets/base",
          "model_name": "LayoutModel",
          "model_module_version": "1.2.0",
          "state": {
            "_model_module": "@jupyter-widgets/base",
            "_model_module_version": "1.2.0",
            "_model_name": "LayoutModel",
            "_view_count": null,
            "_view_module": "@jupyter-widgets/base",
            "_view_module_version": "1.2.0",
            "_view_name": "LayoutView",
            "align_content": null,
            "align_items": null,
            "align_self": null,
            "border": null,
            "bottom": null,
            "display": null,
            "flex": null,
            "flex_flow": null,
            "grid_area": null,
            "grid_auto_columns": null,
            "grid_auto_flow": null,
            "grid_auto_rows": null,
            "grid_column": null,
            "grid_gap": null,
            "grid_row": null,
            "grid_template_areas": null,
            "grid_template_columns": null,
            "grid_template_rows": null,
            "height": null,
            "justify_content": null,
            "justify_items": null,
            "left": null,
            "margin": null,
            "max_height": null,
            "max_width": null,
            "min_height": null,
            "min_width": null,
            "object_fit": null,
            "object_position": null,
            "order": null,
            "overflow": null,
            "overflow_x": null,
            "overflow_y": null,
            "padding": null,
            "right": null,
            "top": null,
            "visibility": null,
            "width": null
          }
        },
        "d6848d95b4284ccfb66bc2c0657ba9c5": {
          "model_module": "@jupyter-widgets/controls",
          "model_name": "ProgressStyleModel",
          "model_module_version": "1.5.0",
          "state": {
            "_model_module": "@jupyter-widgets/controls",
            "_model_module_version": "1.5.0",
            "_model_name": "ProgressStyleModel",
            "_view_count": null,
            "_view_module": "@jupyter-widgets/base",
            "_view_module_version": "1.2.0",
            "_view_name": "StyleView",
            "bar_color": null,
            "description_width": ""
          }
        },
        "72d6fe8a6ac44d20912ebc91ed6c04fc": {
          "model_module": "@jupyter-widgets/base",
          "model_name": "LayoutModel",
          "model_module_version": "1.2.0",
          "state": {
            "_model_module": "@jupyter-widgets/base",
            "_model_module_version": "1.2.0",
            "_model_name": "LayoutModel",
            "_view_count": null,
            "_view_module": "@jupyter-widgets/base",
            "_view_module_version": "1.2.0",
            "_view_name": "LayoutView",
            "align_content": null,
            "align_items": null,
            "align_self": null,
            "border": null,
            "bottom": null,
            "display": null,
            "flex": null,
            "flex_flow": null,
            "grid_area": null,
            "grid_auto_columns": null,
            "grid_auto_flow": null,
            "grid_auto_rows": null,
            "grid_column": null,
            "grid_gap": null,
            "grid_row": null,
            "grid_template_areas": null,
            "grid_template_columns": null,
            "grid_template_rows": null,
            "height": null,
            "justify_content": null,
            "justify_items": null,
            "left": null,
            "margin": null,
            "max_height": null,
            "max_width": null,
            "min_height": null,
            "min_width": null,
            "object_fit": null,
            "object_position": null,
            "order": null,
            "overflow": null,
            "overflow_x": null,
            "overflow_y": null,
            "padding": null,
            "right": null,
            "top": null,
            "visibility": null,
            "width": null
          }
        },
        "56b8b347252b47d7b34f9bc27b9de084": {
          "model_module": "@jupyter-widgets/controls",
          "model_name": "DescriptionStyleModel",
          "model_module_version": "1.5.0",
          "state": {
            "_model_module": "@jupyter-widgets/controls",
            "_model_module_version": "1.5.0",
            "_model_name": "DescriptionStyleModel",
            "_view_count": null,
            "_view_module": "@jupyter-widgets/base",
            "_view_module_version": "1.2.0",
            "_view_name": "StyleView",
            "description_width": ""
          }
        },
        "615ad996d7864d7e8d5f366459934808": {
          "model_module": "@jupyter-widgets/controls",
          "model_name": "HBoxModel",
          "model_module_version": "1.5.0",
          "state": {
            "_dom_classes": [],
            "_model_module": "@jupyter-widgets/controls",
            "_model_module_version": "1.5.0",
            "_model_name": "HBoxModel",
            "_view_count": null,
            "_view_module": "@jupyter-widgets/controls",
            "_view_module_version": "1.5.0",
            "_view_name": "HBoxView",
            "box_style": "",
            "children": [
              "IPY_MODEL_916435804995426685918ec7a1f10ad0",
              "IPY_MODEL_31ba86241f884c49ae765fa1a7eb9162",
              "IPY_MODEL_145169dc39c0401eaf55475760dfa25a"
            ],
            "layout": "IPY_MODEL_c573b7d513e9499aadb77e08d30f7772"
          }
        },
        "916435804995426685918ec7a1f10ad0": {
          "model_module": "@jupyter-widgets/controls",
          "model_name": "HTMLModel",
          "model_module_version": "1.5.0",
          "state": {
            "_dom_classes": [],
            "_model_module": "@jupyter-widgets/controls",
            "_model_module_version": "1.5.0",
            "_model_name": "HTMLModel",
            "_view_count": null,
            "_view_module": "@jupyter-widgets/controls",
            "_view_module_version": "1.5.0",
            "_view_name": "HTMLView",
            "description": "",
            "description_tooltip": null,
            "layout": "IPY_MODEL_8c40dfe18626434f8cff05db89092543",
            "placeholder": "​",
            "style": "IPY_MODEL_aea27c89bcda425eb3bbdf35d5e58037",
            "value": "Downloading (…)lve/main/config.json: 100%"
          }
        },
        "31ba86241f884c49ae765fa1a7eb9162": {
          "model_module": "@jupyter-widgets/controls",
          "model_name": "FloatProgressModel",
          "model_module_version": "1.5.0",
          "state": {
            "_dom_classes": [],
            "_model_module": "@jupyter-widgets/controls",
            "_model_module_version": "1.5.0",
            "_model_name": "FloatProgressModel",
            "_view_count": null,
            "_view_module": "@jupyter-widgets/controls",
            "_view_module_version": "1.5.0",
            "_view_name": "ProgressView",
            "bar_style": "success",
            "description": "",
            "description_tooltip": null,
            "layout": "IPY_MODEL_0be0f9dcabaf4da0a4d16b9c40b1ef44",
            "max": 648,
            "min": 0,
            "orientation": "horizontal",
            "style": "IPY_MODEL_238f07b2d3f049f2ae3ef7dc0aa4b779",
            "value": 648
          }
        },
        "145169dc39c0401eaf55475760dfa25a": {
          "model_module": "@jupyter-widgets/controls",
          "model_name": "HTMLModel",
          "model_module_version": "1.5.0",
          "state": {
            "_dom_classes": [],
            "_model_module": "@jupyter-widgets/controls",
            "_model_module_version": "1.5.0",
            "_model_name": "HTMLModel",
            "_view_count": null,
            "_view_module": "@jupyter-widgets/controls",
            "_view_module_version": "1.5.0",
            "_view_name": "HTMLView",
            "description": "",
            "description_tooltip": null,
            "layout": "IPY_MODEL_17542a07a71a42c4af1739c1a05731cd",
            "placeholder": "​",
            "style": "IPY_MODEL_4030894b8f6b4da5896b4ea296986d12",
            "value": " 648/648 [00:00&lt;00:00, 25.5kB/s]"
          }
        },
        "c573b7d513e9499aadb77e08d30f7772": {
          "model_module": "@jupyter-widgets/base",
          "model_name": "LayoutModel",
          "model_module_version": "1.2.0",
          "state": {
            "_model_module": "@jupyter-widgets/base",
            "_model_module_version": "1.2.0",
            "_model_name": "LayoutModel",
            "_view_count": null,
            "_view_module": "@jupyter-widgets/base",
            "_view_module_version": "1.2.0",
            "_view_name": "LayoutView",
            "align_content": null,
            "align_items": null,
            "align_self": null,
            "border": null,
            "bottom": null,
            "display": null,
            "flex": null,
            "flex_flow": null,
            "grid_area": null,
            "grid_auto_columns": null,
            "grid_auto_flow": null,
            "grid_auto_rows": null,
            "grid_column": null,
            "grid_gap": null,
            "grid_row": null,
            "grid_template_areas": null,
            "grid_template_columns": null,
            "grid_template_rows": null,
            "height": null,
            "justify_content": null,
            "justify_items": null,
            "left": null,
            "margin": null,
            "max_height": null,
            "max_width": null,
            "min_height": null,
            "min_width": null,
            "object_fit": null,
            "object_position": null,
            "order": null,
            "overflow": null,
            "overflow_x": null,
            "overflow_y": null,
            "padding": null,
            "right": null,
            "top": null,
            "visibility": null,
            "width": null
          }
        },
        "8c40dfe18626434f8cff05db89092543": {
          "model_module": "@jupyter-widgets/base",
          "model_name": "LayoutModel",
          "model_module_version": "1.2.0",
          "state": {
            "_model_module": "@jupyter-widgets/base",
            "_model_module_version": "1.2.0",
            "_model_name": "LayoutModel",
            "_view_count": null,
            "_view_module": "@jupyter-widgets/base",
            "_view_module_version": "1.2.0",
            "_view_name": "LayoutView",
            "align_content": null,
            "align_items": null,
            "align_self": null,
            "border": null,
            "bottom": null,
            "display": null,
            "flex": null,
            "flex_flow": null,
            "grid_area": null,
            "grid_auto_columns": null,
            "grid_auto_flow": null,
            "grid_auto_rows": null,
            "grid_column": null,
            "grid_gap": null,
            "grid_row": null,
            "grid_template_areas": null,
            "grid_template_columns": null,
            "grid_template_rows": null,
            "height": null,
            "justify_content": null,
            "justify_items": null,
            "left": null,
            "margin": null,
            "max_height": null,
            "max_width": null,
            "min_height": null,
            "min_width": null,
            "object_fit": null,
            "object_position": null,
            "order": null,
            "overflow": null,
            "overflow_x": null,
            "overflow_y": null,
            "padding": null,
            "right": null,
            "top": null,
            "visibility": null,
            "width": null
          }
        },
        "aea27c89bcda425eb3bbdf35d5e58037": {
          "model_module": "@jupyter-widgets/controls",
          "model_name": "DescriptionStyleModel",
          "model_module_version": "1.5.0",
          "state": {
            "_model_module": "@jupyter-widgets/controls",
            "_model_module_version": "1.5.0",
            "_model_name": "DescriptionStyleModel",
            "_view_count": null,
            "_view_module": "@jupyter-widgets/base",
            "_view_module_version": "1.2.0",
            "_view_name": "StyleView",
            "description_width": ""
          }
        },
        "0be0f9dcabaf4da0a4d16b9c40b1ef44": {
          "model_module": "@jupyter-widgets/base",
          "model_name": "LayoutModel",
          "model_module_version": "1.2.0",
          "state": {
            "_model_module": "@jupyter-widgets/base",
            "_model_module_version": "1.2.0",
            "_model_name": "LayoutModel",
            "_view_count": null,
            "_view_module": "@jupyter-widgets/base",
            "_view_module_version": "1.2.0",
            "_view_name": "LayoutView",
            "align_content": null,
            "align_items": null,
            "align_self": null,
            "border": null,
            "bottom": null,
            "display": null,
            "flex": null,
            "flex_flow": null,
            "grid_area": null,
            "grid_auto_columns": null,
            "grid_auto_flow": null,
            "grid_auto_rows": null,
            "grid_column": null,
            "grid_gap": null,
            "grid_row": null,
            "grid_template_areas": null,
            "grid_template_columns": null,
            "grid_template_rows": null,
            "height": null,
            "justify_content": null,
            "justify_items": null,
            "left": null,
            "margin": null,
            "max_height": null,
            "max_width": null,
            "min_height": null,
            "min_width": null,
            "object_fit": null,
            "object_position": null,
            "order": null,
            "overflow": null,
            "overflow_x": null,
            "overflow_y": null,
            "padding": null,
            "right": null,
            "top": null,
            "visibility": null,
            "width": null
          }
        },
        "238f07b2d3f049f2ae3ef7dc0aa4b779": {
          "model_module": "@jupyter-widgets/controls",
          "model_name": "ProgressStyleModel",
          "model_module_version": "1.5.0",
          "state": {
            "_model_module": "@jupyter-widgets/controls",
            "_model_module_version": "1.5.0",
            "_model_name": "ProgressStyleModel",
            "_view_count": null,
            "_view_module": "@jupyter-widgets/base",
            "_view_module_version": "1.2.0",
            "_view_name": "StyleView",
            "bar_color": null,
            "description_width": ""
          }
        },
        "17542a07a71a42c4af1739c1a05731cd": {
          "model_module": "@jupyter-widgets/base",
          "model_name": "LayoutModel",
          "model_module_version": "1.2.0",
          "state": {
            "_model_module": "@jupyter-widgets/base",
            "_model_module_version": "1.2.0",
            "_model_name": "LayoutModel",
            "_view_count": null,
            "_view_module": "@jupyter-widgets/base",
            "_view_module_version": "1.2.0",
            "_view_name": "LayoutView",
            "align_content": null,
            "align_items": null,
            "align_self": null,
            "border": null,
            "bottom": null,
            "display": null,
            "flex": null,
            "flex_flow": null,
            "grid_area": null,
            "grid_auto_columns": null,
            "grid_auto_flow": null,
            "grid_auto_rows": null,
            "grid_column": null,
            "grid_gap": null,
            "grid_row": null,
            "grid_template_areas": null,
            "grid_template_columns": null,
            "grid_template_rows": null,
            "height": null,
            "justify_content": null,
            "justify_items": null,
            "left": null,
            "margin": null,
            "max_height": null,
            "max_width": null,
            "min_height": null,
            "min_width": null,
            "object_fit": null,
            "object_position": null,
            "order": null,
            "overflow": null,
            "overflow_x": null,
            "overflow_y": null,
            "padding": null,
            "right": null,
            "top": null,
            "visibility": null,
            "width": null
          }
        },
        "4030894b8f6b4da5896b4ea296986d12": {
          "model_module": "@jupyter-widgets/controls",
          "model_name": "DescriptionStyleModel",
          "model_module_version": "1.5.0",
          "state": {
            "_model_module": "@jupyter-widgets/controls",
            "_model_module_version": "1.5.0",
            "_model_name": "DescriptionStyleModel",
            "_view_count": null,
            "_view_module": "@jupyter-widgets/base",
            "_view_module_version": "1.2.0",
            "_view_name": "StyleView",
            "description_width": ""
          }
        },
        "04673a53f66847bc92f72cc924ab279d": {
          "model_module": "@jupyter-widgets/controls",
          "model_name": "HBoxModel",
          "model_module_version": "1.5.0",
          "state": {
            "_dom_classes": [],
            "_model_module": "@jupyter-widgets/controls",
            "_model_module_version": "1.5.0",
            "_model_name": "HBoxModel",
            "_view_count": null,
            "_view_module": "@jupyter-widgets/controls",
            "_view_module_version": "1.5.0",
            "_view_name": "HBoxView",
            "box_style": "",
            "children": [
              "IPY_MODEL_589fb5200968439c9db7731834fd1f62",
              "IPY_MODEL_18d1749f8fb44bfd9dd09c488d09220e",
              "IPY_MODEL_5076dbd9eb544136b2c71d6cefcf0148"
            ],
            "layout": "IPY_MODEL_f8c9efbdc3b8485cb66eb3f8a9ce3241"
          }
        },
        "589fb5200968439c9db7731834fd1f62": {
          "model_module": "@jupyter-widgets/controls",
          "model_name": "HTMLModel",
          "model_module_version": "1.5.0",
          "state": {
            "_dom_classes": [],
            "_model_module": "@jupyter-widgets/controls",
            "_model_module_version": "1.5.0",
            "_model_name": "HTMLModel",
            "_view_count": null,
            "_view_module": "@jupyter-widgets/controls",
            "_view_module_version": "1.5.0",
            "_view_name": "HTMLView",
            "description": "",
            "description_tooltip": null,
            "layout": "IPY_MODEL_7e67efd334d540f48ee6a118d2766455",
            "placeholder": "​",
            "style": "IPY_MODEL_080357867fa3458fb46c11d0c7853200",
            "value": "Downloading pytorch_model.bin: 100%"
          }
        },
        "18d1749f8fb44bfd9dd09c488d09220e": {
          "model_module": "@jupyter-widgets/controls",
          "model_name": "FloatProgressModel",
          "model_module_version": "1.5.0",
          "state": {
            "_dom_classes": [],
            "_model_module": "@jupyter-widgets/controls",
            "_model_module_version": "1.5.0",
            "_model_name": "FloatProgressModel",
            "_view_count": null,
            "_view_module": "@jupyter-widgets/controls",
            "_view_module_version": "1.5.0",
            "_view_name": "ProgressView",
            "bar_style": "success",
            "description": "",
            "description_tooltip": null,
            "layout": "IPY_MODEL_649b88c99e344f63ad664372fbde60bf",
            "max": 439621341,
            "min": 0,
            "orientation": "horizontal",
            "style": "IPY_MODEL_ecd41d28b9454db485f909098517de85",
            "value": 439621341
          }
        },
        "5076dbd9eb544136b2c71d6cefcf0148": {
          "model_module": "@jupyter-widgets/controls",
          "model_name": "HTMLModel",
          "model_module_version": "1.5.0",
          "state": {
            "_dom_classes": [],
            "_model_module": "@jupyter-widgets/controls",
            "_model_module_version": "1.5.0",
            "_model_name": "HTMLModel",
            "_view_count": null,
            "_view_module": "@jupyter-widgets/controls",
            "_view_module_version": "1.5.0",
            "_view_name": "HTMLView",
            "description": "",
            "description_tooltip": null,
            "layout": "IPY_MODEL_c88e7bb31dc44941bedc840335744700",
            "placeholder": "​",
            "style": "IPY_MODEL_25ede8a54034407dbd243716122f5e05",
            "value": " 440M/440M [00:01&lt;00:00, 230MB/s]"
          }
        },
        "f8c9efbdc3b8485cb66eb3f8a9ce3241": {
          "model_module": "@jupyter-widgets/base",
          "model_name": "LayoutModel",
          "model_module_version": "1.2.0",
          "state": {
            "_model_module": "@jupyter-widgets/base",
            "_model_module_version": "1.2.0",
            "_model_name": "LayoutModel",
            "_view_count": null,
            "_view_module": "@jupyter-widgets/base",
            "_view_module_version": "1.2.0",
            "_view_name": "LayoutView",
            "align_content": null,
            "align_items": null,
            "align_self": null,
            "border": null,
            "bottom": null,
            "display": null,
            "flex": null,
            "flex_flow": null,
            "grid_area": null,
            "grid_auto_columns": null,
            "grid_auto_flow": null,
            "grid_auto_rows": null,
            "grid_column": null,
            "grid_gap": null,
            "grid_row": null,
            "grid_template_areas": null,
            "grid_template_columns": null,
            "grid_template_rows": null,
            "height": null,
            "justify_content": null,
            "justify_items": null,
            "left": null,
            "margin": null,
            "max_height": null,
            "max_width": null,
            "min_height": null,
            "min_width": null,
            "object_fit": null,
            "object_position": null,
            "order": null,
            "overflow": null,
            "overflow_x": null,
            "overflow_y": null,
            "padding": null,
            "right": null,
            "top": null,
            "visibility": null,
            "width": null
          }
        },
        "7e67efd334d540f48ee6a118d2766455": {
          "model_module": "@jupyter-widgets/base",
          "model_name": "LayoutModel",
          "model_module_version": "1.2.0",
          "state": {
            "_model_module": "@jupyter-widgets/base",
            "_model_module_version": "1.2.0",
            "_model_name": "LayoutModel",
            "_view_count": null,
            "_view_module": "@jupyter-widgets/base",
            "_view_module_version": "1.2.0",
            "_view_name": "LayoutView",
            "align_content": null,
            "align_items": null,
            "align_self": null,
            "border": null,
            "bottom": null,
            "display": null,
            "flex": null,
            "flex_flow": null,
            "grid_area": null,
            "grid_auto_columns": null,
            "grid_auto_flow": null,
            "grid_auto_rows": null,
            "grid_column": null,
            "grid_gap": null,
            "grid_row": null,
            "grid_template_areas": null,
            "grid_template_columns": null,
            "grid_template_rows": null,
            "height": null,
            "justify_content": null,
            "justify_items": null,
            "left": null,
            "margin": null,
            "max_height": null,
            "max_width": null,
            "min_height": null,
            "min_width": null,
            "object_fit": null,
            "object_position": null,
            "order": null,
            "overflow": null,
            "overflow_x": null,
            "overflow_y": null,
            "padding": null,
            "right": null,
            "top": null,
            "visibility": null,
            "width": null
          }
        },
        "080357867fa3458fb46c11d0c7853200": {
          "model_module": "@jupyter-widgets/controls",
          "model_name": "DescriptionStyleModel",
          "model_module_version": "1.5.0",
          "state": {
            "_model_module": "@jupyter-widgets/controls",
            "_model_module_version": "1.5.0",
            "_model_name": "DescriptionStyleModel",
            "_view_count": null,
            "_view_module": "@jupyter-widgets/base",
            "_view_module_version": "1.2.0",
            "_view_name": "StyleView",
            "description_width": ""
          }
        },
        "649b88c99e344f63ad664372fbde60bf": {
          "model_module": "@jupyter-widgets/base",
          "model_name": "LayoutModel",
          "model_module_version": "1.2.0",
          "state": {
            "_model_module": "@jupyter-widgets/base",
            "_model_module_version": "1.2.0",
            "_model_name": "LayoutModel",
            "_view_count": null,
            "_view_module": "@jupyter-widgets/base",
            "_view_module_version": "1.2.0",
            "_view_name": "LayoutView",
            "align_content": null,
            "align_items": null,
            "align_self": null,
            "border": null,
            "bottom": null,
            "display": null,
            "flex": null,
            "flex_flow": null,
            "grid_area": null,
            "grid_auto_columns": null,
            "grid_auto_flow": null,
            "grid_auto_rows": null,
            "grid_column": null,
            "grid_gap": null,
            "grid_row": null,
            "grid_template_areas": null,
            "grid_template_columns": null,
            "grid_template_rows": null,
            "height": null,
            "justify_content": null,
            "justify_items": null,
            "left": null,
            "margin": null,
            "max_height": null,
            "max_width": null,
            "min_height": null,
            "min_width": null,
            "object_fit": null,
            "object_position": null,
            "order": null,
            "overflow": null,
            "overflow_x": null,
            "overflow_y": null,
            "padding": null,
            "right": null,
            "top": null,
            "visibility": null,
            "width": null
          }
        },
        "ecd41d28b9454db485f909098517de85": {
          "model_module": "@jupyter-widgets/controls",
          "model_name": "ProgressStyleModel",
          "model_module_version": "1.5.0",
          "state": {
            "_model_module": "@jupyter-widgets/controls",
            "_model_module_version": "1.5.0",
            "_model_name": "ProgressStyleModel",
            "_view_count": null,
            "_view_module": "@jupyter-widgets/base",
            "_view_module_version": "1.2.0",
            "_view_name": "StyleView",
            "bar_color": null,
            "description_width": ""
          }
        },
        "c88e7bb31dc44941bedc840335744700": {
          "model_module": "@jupyter-widgets/base",
          "model_name": "LayoutModel",
          "model_module_version": "1.2.0",
          "state": {
            "_model_module": "@jupyter-widgets/base",
            "_model_module_version": "1.2.0",
            "_model_name": "LayoutModel",
            "_view_count": null,
            "_view_module": "@jupyter-widgets/base",
            "_view_module_version": "1.2.0",
            "_view_name": "LayoutView",
            "align_content": null,
            "align_items": null,
            "align_self": null,
            "border": null,
            "bottom": null,
            "display": null,
            "flex": null,
            "flex_flow": null,
            "grid_area": null,
            "grid_auto_columns": null,
            "grid_auto_flow": null,
            "grid_auto_rows": null,
            "grid_column": null,
            "grid_gap": null,
            "grid_row": null,
            "grid_template_areas": null,
            "grid_template_columns": null,
            "grid_template_rows": null,
            "height": null,
            "justify_content": null,
            "justify_items": null,
            "left": null,
            "margin": null,
            "max_height": null,
            "max_width": null,
            "min_height": null,
            "min_width": null,
            "object_fit": null,
            "object_position": null,
            "order": null,
            "overflow": null,
            "overflow_x": null,
            "overflow_y": null,
            "padding": null,
            "right": null,
            "top": null,
            "visibility": null,
            "width": null
          }
        },
        "25ede8a54034407dbd243716122f5e05": {
          "model_module": "@jupyter-widgets/controls",
          "model_name": "DescriptionStyleModel",
          "model_module_version": "1.5.0",
          "state": {
            "_model_module": "@jupyter-widgets/controls",
            "_model_module_version": "1.5.0",
            "_model_name": "DescriptionStyleModel",
            "_view_count": null,
            "_view_module": "@jupyter-widgets/base",
            "_view_module_version": "1.2.0",
            "_view_name": "StyleView",
            "description_width": ""
          }
        }
      }
    }
  },
  "cells": [
    {
      "cell_type": "code",
      "source": [
        "from google.colab import drive\n",
        "drive.mount('/content/drive')"
      ],
      "metadata": {
        "colab": {
          "base_uri": "https://localhost:8080/"
        },
        "id": "rQFO-3Hr2c4Y",
        "outputId": "22d58f15-27ea-43dd-ef90-d53d13a47476"
      },
      "execution_count": 2,
      "outputs": [
        {
          "output_type": "stream",
          "name": "stdout",
          "text": [
            "Drive already mounted at /content/drive; to attempt to forcibly remount, call drive.mount(\"/content/drive\", force_remount=True).\n"
          ]
        }
      ]
    },
    {
      "cell_type": "code",
      "execution_count": 3,
      "metadata": {
        "id": "94OpNyuGEK46",
        "colab": {
          "base_uri": "https://localhost:8080/"
        },
        "outputId": "06b30ac3-a270-430e-a1d9-995f6d44255d"
      },
      "outputs": [
        {
          "output_type": "stream",
          "name": "stdout",
          "text": [
            "Looking in indexes: https://pypi.org/simple, https://us-python.pkg.dev/colab-wheels/public/simple/\n",
            "Collecting transformers\n",
            "  Downloading transformers-4.28.1-py3-none-any.whl (7.0 MB)\n",
            "\u001b[2K     \u001b[90m━━━━━━━━━━━━━━━━━━━━━━━━━━━━━━━━━━━━━━━━\u001b[0m \u001b[32m7.0/7.0 MB\u001b[0m \u001b[31m71.5 MB/s\u001b[0m eta \u001b[36m0:00:00\u001b[0m\n",
            "\u001b[?25hRequirement already satisfied: pyyaml>=5.1 in /usr/local/lib/python3.10/dist-packages (from transformers) (6.0)\n",
            "Requirement already satisfied: tqdm>=4.27 in /usr/local/lib/python3.10/dist-packages (from transformers) (4.65.0)\n",
            "Requirement already satisfied: numpy>=1.17 in /usr/local/lib/python3.10/dist-packages (from transformers) (1.22.4)\n",
            "Collecting huggingface-hub<1.0,>=0.11.0\n",
            "  Downloading huggingface_hub-0.14.1-py3-none-any.whl (224 kB)\n",
            "\u001b[2K     \u001b[90m━━━━━━━━━━━━━━━━━━━━━━━━━━━━━━━━━━━━━━\u001b[0m \u001b[32m224.5/224.5 kB\u001b[0m \u001b[31m27.7 MB/s\u001b[0m eta \u001b[36m0:00:00\u001b[0m\n",
            "\u001b[?25hRequirement already satisfied: regex!=2019.12.17 in /usr/local/lib/python3.10/dist-packages (from transformers) (2022.10.31)\n",
            "Requirement already satisfied: filelock in /usr/local/lib/python3.10/dist-packages (from transformers) (3.12.0)\n",
            "Requirement already satisfied: packaging>=20.0 in /usr/local/lib/python3.10/dist-packages (from transformers) (23.1)\n",
            "Collecting tokenizers!=0.11.3,<0.14,>=0.11.1\n",
            "  Downloading tokenizers-0.13.3-cp310-cp310-manylinux_2_17_x86_64.manylinux2014_x86_64.whl (7.8 MB)\n",
            "\u001b[2K     \u001b[90m━━━━━━━━━━━━━━━━━━━━━━━━━━━━━━━━━━━━━━━━\u001b[0m \u001b[32m7.8/7.8 MB\u001b[0m \u001b[31m101.1 MB/s\u001b[0m eta \u001b[36m0:00:00\u001b[0m\n",
            "\u001b[?25hRequirement already satisfied: requests in /usr/local/lib/python3.10/dist-packages (from transformers) (2.27.1)\n",
            "Requirement already satisfied: fsspec in /usr/local/lib/python3.10/dist-packages (from huggingface-hub<1.0,>=0.11.0->transformers) (2023.4.0)\n",
            "Requirement already satisfied: typing-extensions>=3.7.4.3 in /usr/local/lib/python3.10/dist-packages (from huggingface-hub<1.0,>=0.11.0->transformers) (4.5.0)\n",
            "Requirement already satisfied: certifi>=2017.4.17 in /usr/local/lib/python3.10/dist-packages (from requests->transformers) (2022.12.7)\n",
            "Requirement already satisfied: urllib3<1.27,>=1.21.1 in /usr/local/lib/python3.10/dist-packages (from requests->transformers) (1.26.15)\n",
            "Requirement already satisfied: idna<4,>=2.5 in /usr/local/lib/python3.10/dist-packages (from requests->transformers) (3.4)\n",
            "Requirement already satisfied: charset-normalizer~=2.0.0 in /usr/local/lib/python3.10/dist-packages (from requests->transformers) (2.0.12)\n",
            "Installing collected packages: tokenizers, huggingface-hub, transformers\n",
            "Successfully installed huggingface-hub-0.14.1 tokenizers-0.13.3 transformers-4.28.1\n"
          ]
        }
      ],
      "source": [
        "import numpy as np\n",
        "import nltk\n",
        "import torch\n",
        "import pandas as pd\n",
        "import torch\n",
        "import torch.nn as nn\n",
        "from torch.utils.data import TensorDataset, DataLoader, RandomSampler, SequentialSampler\n",
        "from sklearn.model_selection import train_test_split\n",
        "from sklearn.metrics import classification_report\n",
        "from tqdm import tqdm, trange\n",
        "\n",
        "!pip install transformers\n",
        "import transformers\n",
        "from transformers import AutoModel, BertTokenizerFast, BertTokenizer, BertForSequenceClassification"
      ]
    },
    {
      "cell_type": "code",
      "source": [
        "# create train test and validation\n",
        "\n",
        "trainAmt = 0.7\n",
        "validationTestRatio = 0.5\n",
        "\n",
        "with open('/content/drive/MyDrive/Datasets/Autextification_datasets/subtask_1/es/train.tsv', 'r') as f:\n",
        "  allData = f.readlines()\n",
        "\n",
        "np.random.shuffle(allData)\n",
        "\n",
        "trainIdx = int(np.floor(len(allData) * trainAmt))\n",
        "valIdx = int(np.floor(len(allData) * (1 - trainAmt) * validationTestRatio) + trainIdx)"
      ],
      "metadata": {
        "id": "3WV3TvidFBPf"
      },
      "execution_count": 4,
      "outputs": []
    },
    {
      "cell_type": "code",
      "source": [
        "text = []\n",
        "labels = []\n",
        "\n",
        "for datum in tqdm(allData):\n",
        "  _, s, lbl = datum[:-1].split('\\t')\n",
        "  text.append(s)\n",
        "  labels.append(1 if lbl == 'generated' else 0)"
      ],
      "metadata": {
        "colab": {
          "base_uri": "https://localhost:8080/"
        },
        "id": "qKWpsloczsMn",
        "outputId": "6b95e41e-2cbd-492d-c9f0-790bbaeddefe"
      },
      "execution_count": 5,
      "outputs": [
        {
          "output_type": "stream",
          "name": "stderr",
          "text": [
            "100%|██████████| 32063/32063 [00:00<00:00, 404807.68it/s]\n"
          ]
        }
      ]
    },
    {
      "cell_type": "code",
      "source": [
        "token_id = []\n",
        "attention_masks = []\n",
        "\n",
        "def preprocessing(input_text, tokenizer):\n",
        "  '''\n",
        "  Returns <class transformers.tokenization_utils_base.BatchEncoding> with the following fields:\n",
        "    - input_ids: list of token ids\n",
        "    - token_type_ids: list of token type ids\n",
        "    - attention_mask: list of indices (0,1) specifying which tokens should considered by the model (return_attention_mask = True).\n",
        "  '''\n",
        "  return tokenizer.encode_plus(\n",
        "                        input_text,\n",
        "                        add_special_tokens = True,\n",
        "                        max_length = 90,\n",
        "                        pad_to_max_length = True,\n",
        "                        return_attention_mask = True,\n",
        "                        return_tensors = 'pt'\n",
        "                   )\n",
        "\n",
        "\n",
        "tokenizer = BertTokenizer.from_pretrained(\n",
        "    'dccuchile/bert-base-spanish-wwm-cased',\n",
        "    do_lower_case = True\n",
        "    )\n",
        "\n",
        "for sample in tqdm(text):\n",
        "  encoding_dict = preprocessing(sample, tokenizer)\n",
        "  token_id.append(encoding_dict['input_ids']) \n",
        "  attention_masks.append(encoding_dict['attention_mask'])\n",
        "\n",
        "\n",
        "token_id = torch.cat(token_id, dim = 0)\n",
        "attention_masks = torch.cat(attention_masks, dim = 0)\n",
        "labels = torch.tensor(labels)"
      ],
      "metadata": {
        "colab": {
          "base_uri": "https://localhost:8080/",
          "height": 234,
          "referenced_widgets": [
            "da8e020bddab4731af3bfac3e69562b6",
            "4277963c83b5496bbe79b0db9304d11f",
            "705181a6f0c44141aef16e6d140cc08a",
            "604d1de9d28a49378f4f721936c45c6c",
            "dfde6bb3ae964f5da246c9c9eb30c62c",
            "0747840b99dc4f6292d5f2e970fab019",
            "90124fdc1484403abb164d9e71dce470",
            "938d3764f048432fa9487e5357c96d24",
            "4618962e757c43088b49cead5747c3c6",
            "bfbf8261134e4b2d838de09a8d40c16b",
            "4febe1586dcd497f95bc88199a216eb7",
            "b6ba177f9ba7454ca9e522c12d97b229",
            "fc6bb2a308ea4c49a97d00cfaf5fd683",
            "8e0970bb927a488a8bc6ee1fa0aff7cc",
            "2529a0640eec41a3bc44148e775a4f00",
            "4fc886565470464a831a7bdf2dba2f98",
            "9a393cdadaee4f5aad71adc58f63636d",
            "9325440410344a2eb295753076f95175",
            "6087b182aeec4d9b9c50a8d57941ffd3",
            "aa75ada48c9d419eb459133a84e1a668",
            "4ccb5712dfcb43b9baf42eaf633f9562",
            "42ae83404f694ef4a2d00b338ec248d1",
            "1c192d547a3541189a5dbffa8a94c8ea",
            "2c6017aa138e42bb8c0bf74b092c3d11",
            "ab80b5e0172b4929a9f0d11b061dc2bc",
            "c226f4eb22cd4215bb193f4a6a01bd31",
            "ac9b79868bf045f999e727cd9b3047fd",
            "72837460d8704c938562ad5d4ce03c63",
            "d23d534a3ea9443ebd36657b663554d3",
            "6e2b6f9c46414e00b8b65c3e9b5e0edf",
            "d6848d95b4284ccfb66bc2c0657ba9c5",
            "72d6fe8a6ac44d20912ebc91ed6c04fc",
            "56b8b347252b47d7b34f9bc27b9de084",
            "615ad996d7864d7e8d5f366459934808",
            "916435804995426685918ec7a1f10ad0",
            "31ba86241f884c49ae765fa1a7eb9162",
            "145169dc39c0401eaf55475760dfa25a",
            "c573b7d513e9499aadb77e08d30f7772",
            "8c40dfe18626434f8cff05db89092543",
            "aea27c89bcda425eb3bbdf35d5e58037",
            "0be0f9dcabaf4da0a4d16b9c40b1ef44",
            "238f07b2d3f049f2ae3ef7dc0aa4b779",
            "17542a07a71a42c4af1739c1a05731cd",
            "4030894b8f6b4da5896b4ea296986d12"
          ]
        },
        "id": "2uttb92FzhnI",
        "outputId": "c9682928-5212-469c-c94f-11a4892161a4"
      },
      "execution_count": 6,
      "outputs": [
        {
          "output_type": "display_data",
          "data": {
            "text/plain": [
              "Downloading (…)solve/main/vocab.txt:   0%|          | 0.00/242k [00:00<?, ?B/s]"
            ],
            "application/vnd.jupyter.widget-view+json": {
              "version_major": 2,
              "version_minor": 0,
              "model_id": "da8e020bddab4731af3bfac3e69562b6"
            }
          },
          "metadata": {}
        },
        {
          "output_type": "display_data",
          "data": {
            "text/plain": [
              "Downloading (…)cial_tokens_map.json:   0%|          | 0.00/134 [00:00<?, ?B/s]"
            ],
            "application/vnd.jupyter.widget-view+json": {
              "version_major": 2,
              "version_minor": 0,
              "model_id": "b6ba177f9ba7454ca9e522c12d97b229"
            }
          },
          "metadata": {}
        },
        {
          "output_type": "display_data",
          "data": {
            "text/plain": [
              "Downloading (…)okenizer_config.json:   0%|          | 0.00/364 [00:00<?, ?B/s]"
            ],
            "application/vnd.jupyter.widget-view+json": {
              "version_major": 2,
              "version_minor": 0,
              "model_id": "1c192d547a3541189a5dbffa8a94c8ea"
            }
          },
          "metadata": {}
        },
        {
          "output_type": "display_data",
          "data": {
            "text/plain": [
              "Downloading (…)lve/main/config.json:   0%|          | 0.00/648 [00:00<?, ?B/s]"
            ],
            "application/vnd.jupyter.widget-view+json": {
              "version_major": 2,
              "version_minor": 0,
              "model_id": "615ad996d7864d7e8d5f366459934808"
            }
          },
          "metadata": {}
        },
        {
          "output_type": "stream",
          "name": "stderr",
          "text": [
            "  0%|          | 0/32063 [00:00<?, ?it/s]Truncation was not explicitly activated but `max_length` is provided a specific value, please use `truncation=True` to explicitly truncate examples to max length. Defaulting to 'longest_first' truncation strategy. If you encode pairs of sequences (GLUE-style) with the tokenizer you can select this strategy more precisely by providing a specific strategy to `truncation`.\n",
            "/usr/local/lib/python3.10/dist-packages/transformers/tokenization_utils_base.py:2354: FutureWarning: The `pad_to_max_length` argument is deprecated and will be removed in a future version, use `padding=True` or `padding='longest'` to pad to the longest sequence in the batch, or use `padding='max_length'` to pad to a max length. In this case, you can give a specific length with `max_length` (e.g. `max_length=45`) or leave max_length to None to pad to the maximal input size of the model (e.g. 512 for Bert).\n",
            "  warnings.warn(\n",
            "100%|██████████| 32063/32063 [00:59<00:00, 541.10it/s]\n"
          ]
        }
      ]
    },
    {
      "cell_type": "code",
      "source": [
        "# split into train val and test\n",
        "\n",
        "valntest_ratio = 0.3\n",
        "valtest_split = 0.5\n",
        "batch_size = 16\n",
        "\n",
        "# Indices of the train and validation splits stratified by labels\n",
        "train_idx, temp_idx = train_test_split(\n",
        "    np.arange(len(labels)),\n",
        "    test_size = valntest_ratio,\n",
        "    shuffle = True,\n",
        "    stratify = labels)\n",
        "\n",
        "val_idx, test_idx = train_test_split(\n",
        "    np.arange(len(labels[temp_idx])),\n",
        "    test_size = valtest_split,\n",
        "    shuffle = True,\n",
        "    stratify = labels[temp_idx])\n",
        "\n",
        "# Train and validation sets\n",
        "train_set = TensorDataset(token_id[train_idx], \n",
        "                          attention_masks[train_idx], \n",
        "                          labels[train_idx])\n",
        "\n",
        "val_set = TensorDataset(token_id[val_idx], \n",
        "                        attention_masks[val_idx], \n",
        "                        labels[val_idx])\n",
        "\n",
        "test_set = TensorDataset(token_id[test_idx], \n",
        "                        attention_masks[test_idx], \n",
        "                        labels[test_idx])\n",
        "\n",
        "\n",
        "# Prepare DataLoader\n",
        "train_dataloader = DataLoader(\n",
        "            train_set,\n",
        "            sampler = RandomSampler(train_set),\n",
        "            batch_size = batch_size\n",
        "        )\n",
        "\n",
        "validation_dataloader = DataLoader(\n",
        "            val_set,\n",
        "            sampler = SequentialSampler(val_set),\n",
        "            batch_size = batch_size\n",
        "        )\n",
        "\n",
        "validation_dataloader = DataLoader(\n",
        "            test_set,\n",
        "            sampler = SequentialSampler(test_set),\n",
        "            batch_size = batch_size\n",
        "        )"
      ],
      "metadata": {
        "id": "nWE5tNEF1GoS"
      },
      "execution_count": 7,
      "outputs": []
    },
    {
      "cell_type": "code",
      "source": [
        "import pandas as pd\n",
        "\n",
        "seq_len = [len(i.split()) for i in text]\n",
        "\n",
        "pd.Series(seq_len).hist(bins = 30)"
      ],
      "metadata": {
        "colab": {
          "base_uri": "https://localhost:8080/",
          "height": 447
        },
        "id": "vdDW8gM3xj00",
        "outputId": "a061fc44-9da5-4b7c-aa98-fd2bb0ec6bff"
      },
      "execution_count": 8,
      "outputs": [
        {
          "output_type": "execute_result",
          "data": {
            "text/plain": [
              "<Axes: >"
            ]
          },
          "metadata": {},
          "execution_count": 8
        },
        {
          "output_type": "display_data",
          "data": {
            "text/plain": [
              "<Figure size 640x480 with 1 Axes>"
            ],
            "image/png": "[encoded data removed]"
          },
          "metadata": {}
        }
      ]
    },
    {
      "cell_type": "code",
      "source": [
        "def b_tp(preds, labels):\n",
        "  '''Returns True Positives (TP): count of correct predictions of actual class 1'''\n",
        "  return sum([preds == labels and preds == 1 for preds, labels in zip(preds, labels)])\n",
        "\n",
        "def b_fp(preds, labels):\n",
        "  '''Returns False Positives (FP): count of wrong predictions of actual class 1'''\n",
        "  return sum([preds != labels and preds == 1 for preds, labels in zip(preds, labels)])\n",
        "\n",
        "def b_tn(preds, labels):\n",
        "  '''Returns True Negatives (TN): count of correct predictions of actual class 0'''\n",
        "  return sum([preds == labels and preds == 0 for preds, labels in zip(preds, labels)])\n",
        "\n",
        "def b_fn(preds, labels):\n",
        "  '''Returns False Negatives (FN): count of wrong predictions of actual class 0'''\n",
        "  return sum([preds != labels and preds == 0 for preds, labels in zip(preds, labels)])\n",
        "\n",
        "def b_metrics(preds, labels):\n",
        "  '''\n",
        "  Returns the following metrics:\n",
        "    - accuracy    = (TP + TN) / N\n",
        "    - precision   = TP / (TP + FP)\n",
        "    - recall      = TP / (TP + FN)\n",
        "    - specificity = TN / (TN + FP)\n",
        "  '''\n",
        "  preds = np.argmax(preds, axis = 1).flatten()\n",
        "  labels = labels.flatten()\n",
        "  tp = b_tp(preds, labels)\n",
        "  tn = b_tn(preds, labels)\n",
        "  fp = b_fp(preds, labels)\n",
        "  fn = b_fn(preds, labels)\n",
        "  b_accuracy = (tp + tn) / len(labels)\n",
        "  b_precision = tp / (tp + fp) if (tp + fp) > 0 else 'nan'\n",
        "  b_recall = tp / (tp + fn) if (tp + fn) > 0 else 'nan'\n",
        "  b_specificity = tn / (tn + fp) if (tn + fp) > 0 else 'nan'\n",
        "  return b_accuracy, b_precision, b_recall, b_specificity"
      ],
      "metadata": {
        "id": "HUtPn983S038"
      },
      "execution_count": 9,
      "outputs": []
    },
    {
      "cell_type": "code",
      "source": [
        "# Load the BertForSequenceClassification model\n",
        "model = BertForSequenceClassification.from_pretrained(\n",
        "    'dccuchile/bert-base-spanish-wwm-cased',\n",
        "    num_labels = 2,\n",
        "    output_attentions = False,\n",
        "    output_hidden_states = False,\n",
        ")\n",
        "\n",
        "# Recommended learning rates (Adam): 5e-5, 3e-5, 2e-5. See: https://arxiv.org/pdf/1810.04805.pdf\n",
        "optimizer = torch.optim.AdamW(model.parameters(), \n",
        "                              lr = 5e-5,\n",
        "                              eps = 1e-08\n",
        "                              )\n",
        "\n",
        "lossFn = nn.CrossEntropyLoss()\n",
        "\n",
        "model.to('cuda')"
      ],
      "metadata": {
        "colab": {
          "base_uri": "https://localhost:8080/",
          "height": 937,
          "referenced_widgets": [
            "04673a53f66847bc92f72cc924ab279d",
            "589fb5200968439c9db7731834fd1f62",
            "18d1749f8fb44bfd9dd09c488d09220e",
            "5076dbd9eb544136b2c71d6cefcf0148",
            "f8c9efbdc3b8485cb66eb3f8a9ce3241",
            "7e67efd334d540f48ee6a118d2766455",
            "080357867fa3458fb46c11d0c7853200",
            "649b88c99e344f63ad664372fbde60bf",
            "ecd41d28b9454db485f909098517de85",
            "c88e7bb31dc44941bedc840335744700",
            "25ede8a54034407dbd243716122f5e05"
          ]
        },
        "id": "NxCyJf0L41ad",
        "outputId": "5a77e112-848f-42ad-c11d-e1a75821dd68"
      },
      "execution_count": 10,
      "outputs": [
        {
          "output_type": "display_data",
          "data": {
            "text/plain": [
              "Downloading pytorch_model.bin:   0%|          | 0.00/440M [00:00<?, ?B/s]"
            ],
            "application/vnd.jupyter.widget-view+json": {
              "version_major": 2,
              "version_minor": 0,
              "model_id": "04673a53f66847bc92f72cc924ab279d"
            }
          },
          "metadata": {}
        },
        {
          "output_type": "stream",
          "name": "stderr",
          "text": [
            "Some weights of the model checkpoint at dccuchile/bert-base-spanish-wwm-cased were not used when initializing BertForSequenceClassification: ['cls.predictions.transform.dense.weight', 'cls.predictions.decoder.bias', 'cls.predictions.bias', 'cls.predictions.transform.LayerNorm.bias', 'cls.predictions.transform.dense.bias', 'cls.predictions.decoder.weight', 'cls.predictions.transform.LayerNorm.weight']\n",
            "- This IS expected if you are initializing BertForSequenceClassification from the checkpoint of a model trained on another task or with another architecture (e.g. initializing a BertForSequenceClassification model from a BertForPreTraining model).\n",
            "- This IS NOT expected if you are initializing BertForSequenceClassification from the checkpoint of a model that you expect to be exactly identical (initializing a BertForSequenceClassification model from a BertForSequenceClassification model).\n",
            "Some weights of BertForSequenceClassification were not initialized from the model checkpoint at dccuchile/bert-base-spanish-wwm-cased and are newly initialized: ['bert.pooler.dense.bias', 'classifier.weight', 'classifier.bias', 'bert.pooler.dense.weight']\n",
            "You should probably TRAIN this model on a down-stream task to be able to use it for predictions and inference.\n"
          ]
        },
        {
          "output_type": "execute_result",
          "data": {
            "text/plain": [
              "BertForSequenceClassification(\n",
              "  (bert): BertModel(\n",
              "    (embeddings): BertEmbeddings(\n",
              "      (word_embeddings): Embedding(31002, 768, padding_idx=1)\n",
              "      (position_embeddings): Embedding(512, 768)\n",
              "      (token_type_embeddings): Embedding(2, 768)\n",
              "      (LayerNorm): LayerNorm((768,), eps=1e-12, elementwise_affine=True)\n",
              "      (dropout): Dropout(p=0.1, inplace=False)\n",
              "    )\n",
              "    (encoder): BertEncoder(\n",
              "      (layer): ModuleList(\n",
              "        (0-11): 12 x BertLayer(\n",
              "          (attention): BertAttention(\n",
              "            (self): BertSelfAttention(\n",
              "              (query): Linear(in_features=768, out_features=768, bias=True)\n",
              "              (key): Linear(in_features=768, out_features=768, bias=True)\n",
              "              (value): Linear(in_features=768, out_features=768, bias=True)\n",
              "              (dropout): Dropout(p=0.1, inplace=False)\n",
              "            )\n",
              "            (output): BertSelfOutput(\n",
              "              (dense): Linear(in_features=768, out_features=768, bias=True)\n",
              "              (LayerNorm): LayerNorm((768,), eps=1e-12, elementwise_affine=True)\n",
              "              (dropout): Dropout(p=0.1, inplace=False)\n",
              "            )\n",
              "          )\n",
              "          (intermediate): BertIntermediate(\n",
              "            (dense): Linear(in_features=768, out_features=3072, bias=True)\n",
              "            (intermediate_act_fn): GELUActivation()\n",
              "          )\n",
              "          (output): BertOutput(\n",
              "            (dense): Linear(in_features=3072, out_features=768, bias=True)\n",
              "            (LayerNorm): LayerNorm((768,), eps=1e-12, elementwise_affine=True)\n",
              "            (dropout): Dropout(p=0.1, inplace=False)\n",
              "          )\n",
              "        )\n",
              "      )\n",
              "    )\n",
              "    (pooler): BertPooler(\n",
              "      (dense): Linear(in_features=768, out_features=768, bias=True)\n",
              "      (activation): Tanh()\n",
              "    )\n",
              "  )\n",
              "  (dropout): Dropout(p=0.1, inplace=False)\n",
              "  (classifier): Linear(in_features=768, out_features=2, bias=True)\n",
              ")"
            ]
          },
          "metadata": {},
          "execution_count": 10
        }
      ]
    },
    {
      "cell_type": "markdown",
      "source": [
        "# Train naive single BERT"
      ],
      "metadata": {
        "id": "LAErG9Uz2OD6"
      }
    },
    {
      "cell_type": "code",
      "source": [
        "device = torch.device('cuda' if torch.cuda.is_available() else 'cpu')\n",
        "\n",
        "epochs = 2\n",
        "\n",
        "print(\"Set length: \", len(train_dataloader))\n",
        "for _ in trange(epochs, desc = 'Epoch'):\n",
        "    \n",
        "    # ========== Training ==========\n",
        "    \n",
        "    # Set model to training mode\n",
        "    model.train()\n",
        "    \n",
        "    # Tracking variables\n",
        "    tr_loss = 0\n",
        "    nb_tr_examples, nb_tr_steps = 0, 0\n",
        "\n",
        "    updator = 100\n",
        "    for step, batch in enumerate(train_dataloader):\n",
        "        if (step+1) % updator == 0:\n",
        "          print(\"Step: \", step)\n",
        "\n",
        "        batch = tuple(t.to(device) for t in batch)\n",
        "        b_input_ids, b_input_mask, b_labels = batch\n",
        "        optimizer.zero_grad()\n",
        "        # Forward pass\n",
        "        train_output = model(b_input_ids, \n",
        "                             token_type_ids = None, \n",
        "                             attention_mask = b_input_mask, \n",
        "                             labels = b_labels)\n",
        "        # Backward pass\n",
        "        # print(\"Logits: \", train_output.logits)\n",
        "        # print(\"Labels: \", b_labels)\n",
        "\n",
        "        cntLoss = lossFn(train_output.logits, b_labels)\n",
        "\n",
        "        cntLoss.backward()\n",
        "        optimizer.step()\n",
        "        # Update tracking variables\n",
        "        tr_loss += cntLoss\n",
        "        nb_tr_examples += b_input_ids.size(0)\n",
        "        nb_tr_steps += 1\n",
        "\n",
        "        # print(\"Loss: \", train_output.loss)\n",
        "        # print(\"My loss\", cntLoss)\n",
        "\n",
        "    # ========== Validation ==========\n",
        "\n",
        "    # Set model to evaluation mode\n",
        "    model.eval()\n",
        "\n",
        "    # Tracking variables \n",
        "    val_accuracy = []\n",
        "    val_precision = []\n",
        "    val_recall = []\n",
        "    val_specificity = []\n",
        "\n",
        "    for batch in validation_dataloader:\n",
        "        batch = tuple(t.to(device) for t in batch)\n",
        "        b_input_ids, b_input_mask, b_labels = batch\n",
        "        with torch.no_grad():\n",
        "          # Forward pass\n",
        "          eval_output = model(b_input_ids, \n",
        "                              token_type_ids = None, \n",
        "                              attention_mask = b_input_mask)\n",
        "        logits = eval_output.logits.detach().cpu().numpy()\n",
        "        label_ids = b_labels.to('cpu').numpy()\n",
        "        # Calculate validation metrics\n",
        "        b_accuracy, b_precision, b_recall, b_specificity = b_metrics(logits, label_ids)\n",
        "        val_accuracy.append(b_accuracy)\n",
        "        # Update precision only when (tp + fp) !=0; ignore nan\n",
        "        if b_precision != 'nan': val_precision.append(b_precision)\n",
        "        # Update recall only when (tp + fn) !=0; ignore nan\n",
        "        if b_recall != 'nan': val_recall.append(b_recall)\n",
        "        # Update specificity only when (tn + fp) !=0; ignore nan\n",
        "        if b_specificity != 'nan': val_specificity.append(b_specificity)\n",
        "\n",
        "    print('\\n\\t - Train loss: {:.4f}'.format(tr_loss / nb_tr_steps))\n",
        "    print('\\t - Validation Accuracy: {:.4f}'.format(sum(val_accuracy)/len(val_accuracy)))\n",
        "    print('\\t - Validation Precision: {:.4f}'.format(sum(val_precision)/len(val_precision)) if len(val_precision)>0 else '\\t - Validation Precision: NaN')\n",
        "    print('\\t - Validation Recall: {:.4f}'.format(sum(val_recall)/len(val_recall)) if len(val_recall)>0 else '\\t - Validation Recall: NaN')\n",
        "    print('\\t - Validation Specificity: {:.4f}\\n'.format(sum(val_specificity)/len(val_specificity)) if len(val_specificity)>0 else '\\t - Validation Specificity: NaN')"
      ],
      "metadata": {
        "id": "IrmupI6J4utl",
        "colab": {
          "base_uri": "https://localhost:8080/"
        },
        "outputId": "d7d687f2-296a-4feb-c468-8cbbdc8cafe9"
      },
      "execution_count": 11,
      "outputs": [
        {
          "output_type": "stream",
          "name": "stdout",
          "text": [
            "Set length:  1403\n"
          ]
        },
        {
          "output_type": "stream",
          "name": "stderr",
          "text": [
            "\rEpoch:   0%|          | 0/2 [00:00<?, ?it/s]"
          ]
        },
        {
          "output_type": "stream",
          "name": "stdout",
          "text": [
            "Step:  99\n",
            "Step:  199\n",
            "Step:  299\n",
            "Step:  399\n",
            "Step:  499\n",
            "Step:  599\n",
            "Step:  699\n",
            "Step:  799\n",
            "Step:  899\n",
            "Step:  999\n",
            "Step:  1099\n",
            "Step:  1199\n",
            "Step:  1299\n",
            "Step:  1399\n"
          ]
        },
        {
          "output_type": "stream",
          "name": "stderr",
          "text": [
            "\rEpoch:  50%|█████     | 1/2 [06:20<06:20, 380.28s/it]"
          ]
        },
        {
          "output_type": "stream",
          "name": "stdout",
          "text": [
            "\n",
            "\t - Train loss: 0.3086\n",
            "\t - Validation Accuracy: 0.9006\n",
            "\t - Validation Precision: 0.8421\n",
            "\t - Validation Recall: 0.9942\n",
            "\t - Validation Specificity: 0.8021\n",
            "\n",
            "Step:  99\n",
            "Step:  199\n",
            "Step:  299\n",
            "Step:  399\n",
            "Step:  499\n",
            "Step:  599\n",
            "Step:  699\n",
            "Step:  799\n",
            "Step:  899\n",
            "Step:  999\n",
            "Step:  1099\n",
            "Step:  1199\n",
            "Step:  1299\n",
            "Step:  1399\n"
          ]
        },
        {
          "output_type": "stream",
          "name": "stderr",
          "text": [
            "Epoch: 100%|██████████| 2/2 [12:44<00:00, 382.32s/it]"
          ]
        },
        {
          "output_type": "stream",
          "name": "stdout",
          "text": [
            "\n",
            "\t - Train loss: 0.1244\n",
            "\t - Validation Accuracy: 0.9633\n",
            "\t - Validation Precision: 0.9581\n",
            "\t - Validation Recall: 0.9691\n",
            "\t - Validation Specificity: 0.9576\n",
            "\n"
          ]
        },
        {
          "output_type": "stream",
          "name": "stderr",
          "text": [
            "\n"
          ]
        }
      ]
    },
    {
      "cell_type": "markdown",
      "source": [
        "# Fine tune ensemble BERTs on subtask B\n",
        "- 6 BERTs, one for each label\n",
        "- Each one performs binary classification\n"
      ],
      "metadata": {
        "id": "1jP78BlS2T9R"
      }
    },
    {
      "cell_type": "code",
      "source": [
        "# preprocess subtask B data\n",
        "\n",
        "trainAmt = 0.7\n",
        "validationTestRatio = 0.5\n",
        "\n",
        "with open('/content/drive/MyDrive/Datasets/Autextification_datasets/subtask_2/es/train.tsv', 'r') as f:\n",
        "  allData = f.readlines()\n",
        "allData = allData[1:]\n",
        "\n",
        "np.random.shuffle(allData)\n",
        "\n",
        "trainIdx = int(np.floor(len(allData) * trainAmt))\n",
        "valIdx = int(np.floor(len(allData) * (1 - trainAmt) * validationTestRatio) + trainIdx)\n",
        "\n",
        "text = []\n",
        "labels = []\n",
        "\n",
        "letter2lbl = {'A': 0, 'B': 1, 'C': 2, 'D': 3, 'E': 4, 'F': 5}\n",
        "\n",
        "for datum in tqdm(allData):\n",
        "  _, s, letter = datum[:-1].split('\\t')\n",
        "  text.append(s)\n",
        "  labels.append(letter2lbl[letter])"
      ],
      "metadata": {
        "colab": {
          "base_uri": "https://localhost:8080/"
        },
        "id": "XUjG-WmN2bb0",
        "outputId": "4b4f42f0-6d2a-4168-8dde-db1bf285f5ad"
      },
      "execution_count": 12,
      "outputs": [
        {
          "output_type": "stream",
          "name": "stderr",
          "text": [
            "100%|██████████| 21935/21935 [00:00<00:00, 356728.48it/s]\n"
          ]
        }
      ]
    },
    {
      "cell_type": "code",
      "source": [
        "# preprocess data\n",
        "\n",
        "token_id = []\n",
        "attention_masks = []\n",
        "\n",
        "def preprocessing(input_text, tokenizer):\n",
        "  '''\n",
        "  Returns <class transformers.tokenization_utils_base.BatchEncoding> with the following fields:\n",
        "    - input_ids: list of token ids\n",
        "    - token_type_ids: list of token type ids\n",
        "    - attention_mask: list of indices (0,1) specifying which tokens should considered by the model (return_attention_mask = True).\n",
        "  '''\n",
        "  return tokenizer.encode_plus(\n",
        "                        input_text,\n",
        "                        add_special_tokens = True,\n",
        "                        max_length = 90,\n",
        "                        pad_to_max_length = True,\n",
        "                        return_attention_mask = True,\n",
        "                        return_tensors = 'pt'\n",
        "                   )\n",
        "\n",
        "\n",
        "tokenizer = BertTokenizer.from_pretrained(\n",
        "    'dccuchile/bert-base-spanish-wwm-cased',\n",
        "    do_lower_case = True\n",
        "    )\n",
        "\n",
        "for sample in tqdm(text):\n",
        "  encoding_dict = preprocessing(sample, tokenizer)\n",
        "  token_id.append(encoding_dict['input_ids']) \n",
        "  attention_masks.append(encoding_dict['attention_mask'])\n",
        "\n",
        "\n",
        "token_id = torch.cat(token_id, dim = 0)\n",
        "attention_masks = torch.cat(attention_masks, dim = 0)\n",
        "labels = torch.tensor(labels)"
      ],
      "metadata": {
        "colab": {
          "base_uri": "https://localhost:8080/"
        },
        "id": "kzx1E7btH5rr",
        "outputId": "9dea6da7-93b0-4ef8-ab68-446c3e8af0de"
      },
      "execution_count": 13,
      "outputs": [
        {
          "output_type": "stream",
          "name": "stderr",
          "text": [
            "  0%|          | 0/21935 [00:00<?, ?it/s]Truncation was not explicitly activated but `max_length` is provided a specific value, please use `truncation=True` to explicitly truncate examples to max length. Defaulting to 'longest_first' truncation strategy. If you encode pairs of sequences (GLUE-style) with the tokenizer you can select this strategy more precisely by providing a specific strategy to `truncation`.\n",
            "/usr/local/lib/python3.10/dist-packages/transformers/tokenization_utils_base.py:2354: FutureWarning: The `pad_to_max_length` argument is deprecated and will be removed in a future version, use `padding=True` or `padding='longest'` to pad to the longest sequence in the batch, or use `padding='max_length'` to pad to a max length. In this case, you can give a specific length with `max_length` (e.g. `max_length=45`) or leave max_length to None to pad to the maximal input size of the model (e.g. 512 for Bert).\n",
            "  warnings.warn(\n",
            "100%|██████████| 21935/21935 [00:30<00:00, 712.40it/s]\n"
          ]
        }
      ]
    },
    {
      "cell_type": "code",
      "source": [
        "# create dataloaders\n",
        "# split into train val and test\n",
        "\n",
        "numModels = 6 # ONE FOR EACH CLASS\n",
        "\n",
        "valntest_ratio = 0.3\n",
        "valtest_split = 0.5\n",
        "batch_size = 16\n",
        "\n",
        "# Indices of the train and validation splits stratified by labels\n",
        "train_idx, temp_idx = train_test_split(\n",
        "    np.arange(len(labels)),\n",
        "    test_size = valntest_ratio,\n",
        "    shuffle = True,\n",
        "    stratify = labels)\n",
        "\n",
        "val_idx, test_idx = train_test_split(\n",
        "    np.arange(len(labels[temp_idx])),\n",
        "    test_size = valtest_split,\n",
        "    shuffle = True,\n",
        "    stratify = labels[temp_idx])\n",
        "\n",
        "\n",
        "# Train and validation sets\n",
        "train_sets = []\n",
        "val_sets = []\n",
        "test_sets = []\n",
        "\n",
        "train_dataloaders = []\n",
        "validation_dataloaders = []\n",
        "test_dataloaders = []\n",
        "\n",
        "a = 100\n",
        "b = 110\n",
        "\n",
        "print(\"OG   \", end='\\t')\n",
        "print(labels[a:b])\n",
        "\n",
        "# 6 class datasets\n",
        "six_class_train_set = TensorDataset(token_id[train_idx], \n",
        "                          attention_masks[train_idx], \n",
        "                          labels[train_idx])\n",
        "\n",
        "six_class_val_set = TensorDataset(token_id[val_idx], \n",
        "                        attention_masks[val_idx], \n",
        "                        labels[val_idx])\n",
        "\n",
        "six_class_test_set = TensorDataset(token_id[test_idx], \n",
        "                        attention_masks[test_idx], \n",
        "                        labels[test_idx])\n",
        "\n",
        "six_class_train_dataloader = DataLoader(\n",
        "              six_class_train_set,\n",
        "              sampler = RandomSampler(six_class_train_set),\n",
        "              batch_size = batch_size\n",
        "          )\n",
        "\n",
        "six_class_validation_dataloader = DataLoader(\n",
        "            six_class_val_set,\n",
        "            sampler = SequentialSampler(six_class_val_set),\n",
        "            batch_size = batch_size\n",
        "        )\n",
        "\n",
        "six_class_test_dataloader = DataLoader(\n",
        "            six_class_test_set,\n",
        "            sampler = SequentialSampler(six_class_test_set),\n",
        "            batch_size = batch_size\n",
        "        )\n",
        "\n",
        "\n",
        "# binary classification datasets\n",
        "for i in range(numModels):\n",
        "  # label reassignment: i -> 1, not i -> 0\n",
        "  reassignedLabels = torch.tensor(np.where(np.array(labels) == i, 1, 0))\n",
        "\n",
        "  print(\"LABEL %d\" % i, end='\\t')\n",
        "  print(reassignedLabels[a:b])\n",
        "  \n",
        "  train_sets.append(TensorDataset(token_id[train_idx], \n",
        "                            attention_masks[train_idx], \n",
        "                            reassignedLabels[train_idx]))\n",
        "\n",
        "  val_sets.append(TensorDataset(token_id[val_idx], \n",
        "                          attention_masks[val_idx], \n",
        "                          reassignedLabels[val_idx]))\n",
        "\n",
        "  test_sets.append(TensorDataset(token_id[test_idx], \n",
        "                          attention_masks[test_idx], \n",
        "                          reassignedLabels[test_idx]))\n",
        "\n",
        "\n",
        "  # Prepare DataLoader\n",
        "  train_dataloaders.append(DataLoader(\n",
        "              train_sets[i],\n",
        "              sampler = RandomSampler(train_sets[i]),\n",
        "              batch_size = batch_size\n",
        "          ))\n",
        "\n",
        "  validation_dataloaders.append(DataLoader(\n",
        "              val_sets[i],\n",
        "              sampler = SequentialSampler(val_sets[i]),\n",
        "              batch_size = batch_size\n",
        "          ))\n",
        "\n",
        "  test_dataloaders.append(DataLoader(\n",
        "              test_sets[i],\n",
        "              sampler = SequentialSampler(test_sets[i]),\n",
        "              batch_size = batch_size\n",
        "          ))\n",
        "  \n",
        "  print(\"counts: \", end='\\t')\n",
        "  counts = [0,0,0,0,0,0]\n",
        "  for el in tqdm(reassignedLabels):\n",
        "    counts[el] += 1\n",
        "  print(counts)\n",
        "\n",
        "  print(\"lens: \", len(train_dataloaders[i]), len(validation_dataloaders[i]), len(test_dataloaders[i]))\n",
        "  print()\n"
      ],
      "metadata": {
        "id": "xOQVJmD5J6A3",
        "colab": {
          "base_uri": "https://localhost:8080/"
        },
        "outputId": "b99ac82e-dd47-4f78-8f45-a7f0999ca772"
      },
      "execution_count": 14,
      "outputs": [
        {
          "output_type": "stream",
          "name": "stdout",
          "text": [
            "OG   \ttensor([3, 0, 0, 0, 4, 0, 2, 0, 3, 2])\n",
            "LABEL 0\ttensor([0, 1, 1, 1, 0, 1, 0, 1, 0, 0])\n",
            "counts: \t"
          ]
        },
        {
          "output_type": "stream",
          "name": "stderr",
          "text": [
            "100%|██████████| 21935/21935 [00:00<00:00, 137454.99it/s]\n"
          ]
        },
        {
          "output_type": "stream",
          "name": "stdout",
          "text": [
            "[18513, 3422, 0, 0, 0, 0]\n",
            "lens:  960 206 206\n",
            "\n",
            "LABEL 1\ttensor([0, 0, 0, 0, 0, 0, 0, 0, 0, 0])\n",
            "counts: \t"
          ]
        },
        {
          "output_type": "stream",
          "name": "stderr",
          "text": [
            "100%|██████████| 21935/21935 [00:00<00:00, 162424.98it/s]\n"
          ]
        },
        {
          "output_type": "stream",
          "name": "stdout",
          "text": [
            "[18421, 3514, 0, 0, 0, 0]\n",
            "lens:  960 206 206\n",
            "\n",
            "LABEL 2\ttensor([0, 0, 0, 0, 0, 0, 1, 0, 0, 1])\n",
            "counts: \t"
          ]
        },
        {
          "output_type": "stream",
          "name": "stderr",
          "text": [
            "100%|██████████| 21935/21935 [00:00<00:00, 61235.71it/s]\n"
          ]
        },
        {
          "output_type": "stream",
          "name": "stdout",
          "text": [
            "[18360, 3575, 0, 0, 0, 0]\n",
            "lens:  960 206 206\n",
            "\n",
            "LABEL 3\ttensor([1, 0, 0, 0, 0, 0, 0, 0, 1, 0])\n",
            "counts: \t"
          ]
        },
        {
          "output_type": "stream",
          "name": "stderr",
          "text": [
            "100%|██████████| 21935/21935 [00:00<00:00, 163665.71it/s]\n"
          ]
        },
        {
          "output_type": "stream",
          "name": "stdout",
          "text": [
            "[18147, 3788, 0, 0, 0, 0]\n",
            "lens:  960 206 206\n",
            "\n",
            "LABEL 4\ttensor([0, 0, 0, 0, 1, 0, 0, 0, 0, 0])\n",
            "counts: \t"
          ]
        },
        {
          "output_type": "stream",
          "name": "stderr",
          "text": [
            "100%|██████████| 21935/21935 [00:00<00:00, 170701.04it/s]\n"
          ]
        },
        {
          "output_type": "stream",
          "name": "stdout",
          "text": [
            "[18165, 3770, 0, 0, 0, 0]\n",
            "lens:  960 206 206\n",
            "\n",
            "LABEL 5\ttensor([0, 0, 0, 0, 0, 0, 0, 0, 0, 0])\n",
            "counts: \t"
          ]
        },
        {
          "output_type": "stream",
          "name": "stderr",
          "text": [
            "100%|██████████| 21935/21935 [00:00<00:00, 165314.04it/s]"
          ]
        },
        {
          "output_type": "stream",
          "name": "stdout",
          "text": [
            "[18069, 3866, 0, 0, 0, 0]\n",
            "lens:  960 206 206\n",
            "\n"
          ]
        },
        {
          "output_type": "stream",
          "name": "stderr",
          "text": [
            "\n"
          ]
        }
      ]
    },
    {
      "cell_type": "code",
      "source": [
        "# evaluation functions\n",
        "\n",
        "def b_tp(preds, labels):\n",
        "  '''Returns True Positives (TP): count of correct predictions of actual class 1'''\n",
        "  return sum([preds == labels and preds == 1 for preds, labels in zip(preds, labels)])\n",
        "\n",
        "def b_fp(preds, labels):\n",
        "  '''Returns False Positives (FP): count of wrong predictions of actual class 1'''\n",
        "  return sum([preds != labels and preds == 1 for preds, labels in zip(preds, labels)])\n",
        "\n",
        "def b_tn(preds, labels):\n",
        "  '''Returns True Negatives (TN): count of correct predictions of actual class 0'''\n",
        "  return sum([preds == labels and preds == 0 for preds, labels in zip(preds, labels)])\n",
        "\n",
        "def b_fn(preds, labels):\n",
        "  '''Returns False Negatives (FN): count of wrong predictions of actual class 0'''\n",
        "  return sum([preds != labels and preds == 0 for preds, labels in zip(preds, labels)])\n",
        "\n",
        "def b_metrics(preds, labels):\n",
        "  '''\n",
        "  Returns the following metrics:\n",
        "    - accuracy    = (TP + TN) / N\n",
        "    - precision   = TP / (TP + FP)\n",
        "    - recall      = TP / (TP + FN)\n",
        "    - specificity = TN / (TN + FP)\n",
        "  '''\n",
        "  preds = np.argmax(preds, axis = 1).flatten()\n",
        "  labels = labels.flatten()\n",
        "  tp = b_tp(preds, labels)\n",
        "  tn = b_tn(preds, labels)\n",
        "  fp = b_fp(preds, labels)\n",
        "  fn = b_fn(preds, labels)\n",
        "  b_accuracy = (tp + tn) / len(labels)\n",
        "  b_precision = tp / (tp + fp) if (tp + fp) > 0 else 'nan'\n",
        "  b_recall = tp / (tp + fn) if (tp + fn) > 0 else 'nan'\n",
        "  b_specificity = tn / (tn + fp) if (tn + fp) > 0 else 'nan'\n",
        "  return b_accuracy, b_precision, b_recall, b_specificity"
      ],
      "metadata": {
        "id": "D708PbeMPXme"
      },
      "execution_count": 15,
      "outputs": []
    },
    {
      "cell_type": "code",
      "source": [
        "# 6 class BERT\n",
        "device = torch.device('cuda' if torch.cuda.is_available() else 'cpu')\n",
        "\n",
        "six_bert = BertForSequenceClassification.from_pretrained(\n",
        "    'dccuchile/bert-base-spanish-wwm-cased',\n",
        "    num_labels = 6,\n",
        "    output_attentions = False,\n",
        "    output_hidden_states = False,\n",
        "  ).to(device)\n",
        "\n",
        "model = six_bert\n",
        "optimizer = torch.optim.AdamW(model.parameters(), \n",
        "                            lr = 5e-5,\n",
        "                            eps = 1e-08\n",
        "                            )\n",
        "lossFn = nn.CrossEntropyLoss().cuda()\n",
        "epochs = 2\n",
        "\n",
        "for _ in trange(epochs, desc = 'Epoch'):\n",
        "    # ========== Training ==========\n",
        "    \n",
        "    # Set model to training mode\n",
        "    model.train()\n",
        "    \n",
        "    # Tracking variables\n",
        "    tr_loss = 0\n",
        "    nb_tr_examples, nb_tr_steps = 0, 0\n",
        "\n",
        "    updator=100\n",
        "    for step, batch in enumerate(six_class_train_dataloader):\n",
        "        if (step + 1) % 100 == 0:\n",
        "          print(\"Step: \", step)\n",
        "\n",
        "        batch = tuple(t.to(device) for t in batch)\n",
        "        b_input_ids, b_input_mask, b_labels = batch\n",
        "        optimizer.zero_grad()\n",
        "        # Forward pass\n",
        "        train_output = model(b_input_ids, \n",
        "                            token_type_ids = None, \n",
        "                            attention_mask = b_input_mask, \n",
        "                            labels = b_labels)\n",
        "\n",
        "        # Backward pass\n",
        "        cntLoss = lossFn(train_output.logits, b_labels)\n",
        "        cntLoss.backward()\n",
        "\n",
        "        optimizer.step()\n",
        "        # Update tracking variables\n",
        "        tr_loss += cntLoss\n",
        "        nb_tr_examples += b_input_ids.size(0)\n",
        "        nb_tr_steps += 1\n",
        "\n",
        "    # ========== Validation ==========\n",
        "\n",
        "    # Set model to evaluation mode\n",
        "    model.eval()\n",
        "\n",
        "    # Tracking variables \n",
        "    val_accuracy = []\n",
        "    val_precision = []\n",
        "    val_recall = []\n",
        "    val_specificity = []\n",
        "\n",
        "    all_labels = np.array([])\n",
        "    all_preds = np.array([])\n",
        "\n",
        "    for batch in six_class_validation_dataloader:\n",
        "        batch = tuple(t.to(device) for t in batch)\n",
        "        b_input_ids, b_input_mask, b_labels = batch\n",
        "        with torch.no_grad():\n",
        "          # Forward pass\n",
        "          eval_output = model(b_input_ids, \n",
        "                              token_type_ids = None, \n",
        "                              attention_mask = b_input_mask)\n",
        "        logits = eval_output.logits.detach().cpu().numpy()\n",
        "        label_ids = b_labels.to('cpu').numpy()\n",
        "\n",
        "        all_labels = np.append(all_labels, label_ids)\n",
        "        all_preds = np.append(all_preds, np.argmax(logits, axis = 1).flatten())\n",
        "        # Calculate validation metrics\n",
        "        b_accuracy, b_precision, b_recall, b_specificity = b_metrics(logits, label_ids)\n",
        "        val_accuracy.append(b_accuracy)\n",
        "        # Update precision only when (tp + fp) !=0; ignore nan\n",
        "        if b_precision != 'nan': val_precision.append(b_precision)\n",
        "        # Update recall only when (tp + fn) !=0; ignore nan\n",
        "        if b_recall != 'nan': val_recall.append(b_recall)\n",
        "        # Update specificity only when (tn + fp) !=0; ignore nan\n",
        "        if b_specificity != 'nan': val_specificity.append(b_specificity)\n",
        "\n",
        "    print('\\n\\t - Train loss: {:.4f}'.format(tr_loss / nb_tr_steps))\n",
        "    print('\\t - Validation Accuracy: {:.4f}'.format(sum(val_accuracy)/len(val_accuracy)))\n",
        "    print('\\t - Validation Precision: {:.4f}'.format(sum(val_precision)/len(val_precision)) if len(val_precision)>0 else '\\t - Validation Precision: NaN')\n",
        "    print('\\t - Validation Recall: {:.4f}'.format(sum(val_recall)/len(val_recall)) if len(val_recall)>0 else '\\t - Validation Recall: NaN')\n",
        "    print('\\t - Validation Specificity: {:.4f}\\n'.format(sum(val_specificity)/len(val_specificity)) if len(val_specificity)>0 else '\\t - Validation Specificity: NaN')\n",
        "\n",
        "    from sklearn.metrics import classification_report   \n",
        "    print(classification_report(all_labels, all_preds))\n"
      ],
      "metadata": {
        "colab": {
          "base_uri": "https://localhost:8080/"
        },
        "id": "b4hreCeOVuZX",
        "outputId": "86289de2-e1f0-4f53-b03f-c67f296b11e3"
      },
      "execution_count": 16,
      "outputs": [
        {
          "output_type": "stream",
          "name": "stderr",
          "text": [
            "Some weights of the model checkpoint at dccuchile/bert-base-spanish-wwm-cased were not used when initializing BertForSequenceClassification: ['cls.predictions.transform.dense.weight', 'cls.predictions.decoder.bias', 'cls.predictions.bias', 'cls.predictions.transform.LayerNorm.bias', 'cls.predictions.transform.dense.bias', 'cls.predictions.decoder.weight', 'cls.predictions.transform.LayerNorm.weight']\n",
            "- This IS expected if you are initializing BertForSequenceClassification from the checkpoint of a model trained on another task or with another architecture (e.g. initializing a BertForSequenceClassification model from a BertForPreTraining model).\n",
            "- This IS NOT expected if you are initializing BertForSequenceClassification from the checkpoint of a model that you expect to be exactly identical (initializing a BertForSequenceClassification model from a BertForSequenceClassification model).\n",
            "Some weights of BertForSequenceClassification were not initialized from the model checkpoint at dccuchile/bert-base-spanish-wwm-cased and are newly initialized: ['bert.pooler.dense.bias', 'classifier.weight', 'classifier.bias', 'bert.pooler.dense.weight']\n",
            "You should probably TRAIN this model on a down-stream task to be able to use it for predictions and inference.\n",
            "Epoch:   0%|          | 0/2 [00:00<?, ?it/s]"
          ]
        },
        {
          "output_type": "stream",
          "name": "stdout",
          "text": [
            "Step:  99\n",
            "Step:  199\n",
            "Step:  299\n",
            "Step:  399\n",
            "Step:  499\n",
            "Step:  599\n",
            "Step:  699\n",
            "Step:  799\n",
            "Step:  899\n"
          ]
        },
        {
          "output_type": "stream",
          "name": "stderr",
          "text": [
            "\rEpoch:  50%|█████     | 1/2 [04:24<04:24, 264.31s/it]"
          ]
        },
        {
          "output_type": "stream",
          "name": "stdout",
          "text": [
            "\n",
            "\t - Train loss: 1.1444\n",
            "\t - Validation Accuracy: 0.1810\n",
            "\t - Validation Precision: 0.4337\n",
            "\t - Validation Recall: 0.8761\n",
            "\t - Validation Specificity: 0.3722\n",
            "\n",
            "              precision    recall  f1-score   support\n",
            "\n",
            "         0.0       0.84      0.52      0.64       485\n",
            "         1.0       0.43      0.63      0.51       545\n",
            "         2.0       0.53      0.41      0.46       512\n",
            "         3.0       0.70      0.19      0.31       513\n",
            "         4.0       0.55      0.76      0.64       624\n",
            "         5.0       0.73      0.95      0.82       611\n",
            "\n",
            "    accuracy                           0.60      3290\n",
            "   macro avg       0.63      0.58      0.56      3290\n",
            "weighted avg       0.63      0.60      0.57      3290\n",
            "\n",
            "Step:  99\n",
            "Step:  199\n",
            "Step:  299\n",
            "Step:  399\n",
            "Step:  499\n",
            "Step:  599\n",
            "Step:  699\n",
            "Step:  799\n",
            "Step:  899\n"
          ]
        },
        {
          "output_type": "stream",
          "name": "stderr",
          "text": [
            "Epoch: 100%|██████████| 2/2 [08:48<00:00, 264.12s/it]"
          ]
        },
        {
          "output_type": "stream",
          "name": "stdout",
          "text": [
            "\n",
            "\t - Train loss: 0.8174\n",
            "\t - Validation Accuracy: 0.1908\n",
            "\t - Validation Precision: 0.6179\n",
            "\t - Validation Recall: 0.4905\n",
            "\t - Validation Specificity: 0.7888\n",
            "\n",
            "              precision    recall  f1-score   support\n",
            "\n",
            "         0.0       0.67      0.89      0.76       485\n",
            "         1.0       0.61      0.37      0.46       545\n",
            "         2.0       0.50      0.71      0.59       512\n",
            "         3.0       0.67      0.67      0.67       513\n",
            "         4.0       0.73      0.45      0.56       624\n",
            "         5.0       0.80      0.92      0.86       611\n",
            "\n",
            "    accuracy                           0.66      3290\n",
            "   macro avg       0.67      0.67      0.65      3290\n",
            "weighted avg       0.67      0.66      0.65      3290\n",
            "\n"
          ]
        },
        {
          "output_type": "stream",
          "name": "stderr",
          "text": [
            "\n"
          ]
        }
      ]
    },
    {
      "cell_type": "markdown",
      "source": [
        "## Ensemble BERT"
      ],
      "metadata": {
        "id": "8wNB8EqzRr6L"
      }
    },
    {
      "cell_type": "code",
      "source": [
        "# define all models\n",
        "\n",
        "BERTs = []\n",
        "for i in range(numModels):\n",
        "  model = BertForSequenceClassification.from_pretrained(\n",
        "    'dccuchile/bert-base-spanish-wwm-cased',\n",
        "    num_labels = 2,\n",
        "    output_attentions = False,\n",
        "    output_hidden_states = False,\n",
        "  )\n",
        "  model.cuda()\n",
        "\n",
        "  BERTs.append(model)"
      ],
      "metadata": {
        "id": "JyBOaMArQOVE",
        "colab": {
          "base_uri": "https://localhost:8080/"
        },
        "outputId": "635caad2-f115-44d0-b14b-4e46b36b6c19"
      },
      "execution_count": 17,
      "outputs": [
        {
          "output_type": "stream",
          "name": "stderr",
          "text": [
            "Some weights of the model checkpoint at dccuchile/bert-base-spanish-wwm-cased were not used when initializing BertForSequenceClassification: ['cls.predictions.transform.dense.weight', 'cls.predictions.decoder.bias', 'cls.predictions.bias', 'cls.predictions.transform.LayerNorm.bias', 'cls.predictions.transform.dense.bias', 'cls.predictions.decoder.weight', 'cls.predictions.transform.LayerNorm.weight']\n",
            "- This IS expected if you are initializing BertForSequenceClassification from the checkpoint of a model trained on another task or with another architecture (e.g. initializing a BertForSequenceClassification model from a BertForPreTraining model).\n",
            "- This IS NOT expected if you are initializing BertForSequenceClassification from the checkpoint of a model that you expect to be exactly identical (initializing a BertForSequenceClassification model from a BertForSequenceClassification model).\n",
            "Some weights of BertForSequenceClassification were not initialized from the model checkpoint at dccuchile/bert-base-spanish-wwm-cased and are newly initialized: ['bert.pooler.dense.bias', 'classifier.weight', 'classifier.bias', 'bert.pooler.dense.weight']\n",
            "You should probably TRAIN this model on a down-stream task to be able to use it for predictions and inference.\n",
            "Some weights of the model checkpoint at dccuchile/bert-base-spanish-wwm-cased were not used when initializing BertForSequenceClassification: ['cls.predictions.transform.dense.weight', 'cls.predictions.decoder.bias', 'cls.predictions.bias', 'cls.predictions.transform.LayerNorm.bias', 'cls.predictions.transform.dense.bias', 'cls.predictions.decoder.weight', 'cls.predictions.transform.LayerNorm.weight']\n",
            "- This IS expected if you are initializing BertForSequenceClassification from the checkpoint of a model trained on another task or with another architecture (e.g. initializing a BertForSequenceClassification model from a BertForPreTraining model).\n",
            "- This IS NOT expected if you are initializing BertForSequenceClassification from the checkpoint of a model that you expect to be exactly identical (initializing a BertForSequenceClassification model from a BertForSequenceClassification model).\n",
            "Some weights of BertForSequenceClassification were not initialized from the model checkpoint at dccuchile/bert-base-spanish-wwm-cased and are newly initialized: ['bert.pooler.dense.bias', 'classifier.weight', 'classifier.bias', 'bert.pooler.dense.weight']\n",
            "You should probably TRAIN this model on a down-stream task to be able to use it for predictions and inference.\n",
            "Some weights of the model checkpoint at dccuchile/bert-base-spanish-wwm-cased were not used when initializing BertForSequenceClassification: ['cls.predictions.transform.dense.weight', 'cls.predictions.decoder.bias', 'cls.predictions.bias', 'cls.predictions.transform.LayerNorm.bias', 'cls.predictions.transform.dense.bias', 'cls.predictions.decoder.weight', 'cls.predictions.transform.LayerNorm.weight']\n",
            "- This IS expected if you are initializing BertForSequenceClassification from the checkpoint of a model trained on another task or with another architecture (e.g. initializing a BertForSequenceClassification model from a BertForPreTraining model).\n",
            "- This IS NOT expected if you are initializing BertForSequenceClassification from the checkpoint of a model that you expect to be exactly identical (initializing a BertForSequenceClassification model from a BertForSequenceClassification model).\n",
            "Some weights of BertForSequenceClassification were not initialized from the model checkpoint at dccuchile/bert-base-spanish-wwm-cased and are newly initialized: ['bert.pooler.dense.bias', 'classifier.weight', 'classifier.bias', 'bert.pooler.dense.weight']\n",
            "You should probably TRAIN this model on a down-stream task to be able to use it for predictions and inference.\n",
            "Some weights of the model checkpoint at dccuchile/bert-base-spanish-wwm-cased were not used when initializing BertForSequenceClassification: ['cls.predictions.transform.dense.weight', 'cls.predictions.decoder.bias', 'cls.predictions.bias', 'cls.predictions.transform.LayerNorm.bias', 'cls.predictions.transform.dense.bias', 'cls.predictions.decoder.weight', 'cls.predictions.transform.LayerNorm.weight']\n",
            "- This IS expected if you are initializing BertForSequenceClassification from the checkpoint of a model trained on another task or with another architecture (e.g. initializing a BertForSequenceClassification model from a BertForPreTraining model).\n",
            "- This IS NOT expected if you are initializing BertForSequenceClassification from the checkpoint of a model that you expect to be exactly identical (initializing a BertForSequenceClassification model from a BertForSequenceClassification model).\n",
            "Some weights of BertForSequenceClassification were not initialized from the model checkpoint at dccuchile/bert-base-spanish-wwm-cased and are newly initialized: ['bert.pooler.dense.bias', 'classifier.weight', 'classifier.bias', 'bert.pooler.dense.weight']\n",
            "You should probably TRAIN this model on a down-stream task to be able to use it for predictions and inference.\n",
            "Some weights of the model checkpoint at dccuchile/bert-base-spanish-wwm-cased were not used when initializing BertForSequenceClassification: ['cls.predictions.transform.dense.weight', 'cls.predictions.decoder.bias', 'cls.predictions.bias', 'cls.predictions.transform.LayerNorm.bias', 'cls.predictions.transform.dense.bias', 'cls.predictions.decoder.weight', 'cls.predictions.transform.LayerNorm.weight']\n",
            "- This IS expected if you are initializing BertForSequenceClassification from the checkpoint of a model trained on another task or with another architecture (e.g. initializing a BertForSequenceClassification model from a BertForPreTraining model).\n",
            "- This IS NOT expected if you are initializing BertForSequenceClassification from the checkpoint of a model that you expect to be exactly identical (initializing a BertForSequenceClassification model from a BertForSequenceClassification model).\n",
            "Some weights of BertForSequenceClassification were not initialized from the model checkpoint at dccuchile/bert-base-spanish-wwm-cased and are newly initialized: ['bert.pooler.dense.bias', 'classifier.weight', 'classifier.bias', 'bert.pooler.dense.weight']\n",
            "You should probably TRAIN this model on a down-stream task to be able to use it for predictions and inference.\n",
            "Some weights of the model checkpoint at dccuchile/bert-base-spanish-wwm-cased were not used when initializing BertForSequenceClassification: ['cls.predictions.transform.dense.weight', 'cls.predictions.decoder.bias', 'cls.predictions.bias', 'cls.predictions.transform.LayerNorm.bias', 'cls.predictions.transform.dense.bias', 'cls.predictions.decoder.weight', 'cls.predictions.transform.LayerNorm.weight']\n",
            "- This IS expected if you are initializing BertForSequenceClassification from the checkpoint of a model trained on another task or with another architecture (e.g. initializing a BertForSequenceClassification model from a BertForPreTraining model).\n",
            "- This IS NOT expected if you are initializing BertForSequenceClassification from the checkpoint of a model that you expect to be exactly identical (initializing a BertForSequenceClassification model from a BertForSequenceClassification model).\n",
            "Some weights of BertForSequenceClassification were not initialized from the model checkpoint at dccuchile/bert-base-spanish-wwm-cased and are newly initialized: ['bert.pooler.dense.bias', 'classifier.weight', 'classifier.bias', 'bert.pooler.dense.weight']\n",
            "You should probably TRAIN this model on a down-stream task to be able to use it for predictions and inference.\n"
          ]
        }
      ]
    },
    {
      "cell_type": "code",
      "source": [
        "# train each BERT\n",
        "\n",
        "device = torch.device('cuda' if torch.cuda.is_available() else 'cpu')\n",
        "\n",
        "epochs = 2\n",
        "\n",
        "print(\"Trainset length: \", len(train_dataloader))\n",
        "for bertNum in range(numModels):\n",
        "  print(\"TRAINING BERT #%d\" % bertNum)\n",
        "\n",
        "  train_dataloader = train_dataloaders[bertNum]\n",
        "  validation_dataloader = validation_dataloaders[bertNum]\n",
        "\n",
        "\n",
        "  print(train_dataloaders[bertNum])\n",
        "\n",
        "  model = BERTs[bertNum]\n",
        "  optimizer = torch.optim.AdamW(model.parameters(), \n",
        "                              lr = 5e-7,\n",
        "                              eps = 1e-08\n",
        "                              )\n",
        "\n",
        "  classWeights = torch.tensor([1., 100.]).float().cuda()\n",
        "  print(classWeights)\n",
        "  lossFn = nn.CrossEntropyLoss(weight=classWeights)\n",
        "\n",
        "  for _ in trange(epochs, desc = 'Epoch'):\n",
        "      \n",
        "      # ========== Training ==========\n",
        "      \n",
        "      # Set model to training mode\n",
        "      model.train()\n",
        "      \n",
        "      # Tracking variables\n",
        "      tr_loss = 0\n",
        "      nb_tr_examples, nb_tr_steps = 0, 0\n",
        "\n",
        "      updator=100\n",
        "      for step, batch in enumerate(train_dataloader):\n",
        "          if (step + 1) % 100 == 0:\n",
        "            print(\"Step: \", step)\n",
        "\n",
        "          batch = tuple(t.to(device) for t in batch)\n",
        "          b_input_ids, b_input_mask, b_labels = batch\n",
        "          optimizer.zero_grad()\n",
        "          # Forward pass\n",
        "          train_output = model(b_input_ids, \n",
        "                              token_type_ids = None, \n",
        "                              attention_mask = b_input_mask, \n",
        "                              labels = b_labels)\n",
        "          # Backward pass\n",
        "          cntLoss = lossFn(train_output.logits, b_labels)\n",
        "          cntLoss.backward()\n",
        "\n",
        "          optimizer.step()\n",
        "          # Update tracking variables\n",
        "          tr_loss += cntLoss\n",
        "          nb_tr_examples += b_input_ids.size(0)\n",
        "          nb_tr_steps += 1\n",
        "\n",
        "      # ========== Validation ==========\n",
        "\n",
        "      # Set model to evaluation mode\n",
        "      model.eval()\n",
        "\n",
        "      # Tracking variables \n",
        "      val_accuracy = []\n",
        "      val_precision = []\n",
        "      val_recall = []\n",
        "      val_specificity = []\n",
        "\n",
        "      for batch in validation_dataloader:\n",
        "          batch = tuple(t.to(device) for t in batch)\n",
        "          b_input_ids, b_input_mask, b_labels = batch\n",
        "          with torch.no_grad():\n",
        "            # Forward pass\n",
        "            eval_output = model(b_input_ids, \n",
        "                                token_type_ids = None, \n",
        "                                attention_mask = b_input_mask)\n",
        "          logits = eval_output.logits.detach().cpu().numpy()\n",
        "          label_ids = b_labels.to('cpu').numpy()\n",
        "          # Calculate validation metrics\n",
        "          b_accuracy, b_precision, b_recall, b_specificity = b_metrics(logits, label_ids)\n",
        "          val_accuracy.append(b_accuracy)\n",
        "          # Update precision only when (tp + fp) !=0; ignore nan\n",
        "          if b_precision != 'nan': val_precision.append(b_precision)\n",
        "          # Update recall only when (tp + fn) !=0; ignore nan\n",
        "          if b_recall != 'nan': val_recall.append(b_recall)\n",
        "          # Update specificity only when (tn + fp) !=0; ignore nan\n",
        "          if b_specificity != 'nan': val_specificity.append(b_specificity)\n",
        "\n",
        "      print('\\n\\t - Train loss: {:.4f}'.format(tr_loss / nb_tr_steps))\n",
        "      print('\\t - Validation Accuracy: {:.4f}'.format(sum(val_accuracy)/len(val_accuracy)))\n",
        "      print('\\t - Validation Precision: {:.4f}'.format(sum(val_precision)/len(val_precision)) if len(val_precision)>0 else '\\t - Validation Precision: NaN')\n",
        "      print('\\t - Validation Recall: {:.4f}'.format(sum(val_recall)/len(val_recall)) if len(val_recall)>0 else '\\t - Validation Recall: NaN')\n",
        "      print('\\t - Validation Specificity: {:.4f}\\n'.format(sum(val_specificity)/len(val_specificity)) if len(val_specificity)>0 else '\\t - Validation Specificity: NaN')"
      ],
      "metadata": {
        "colab": {
          "base_uri": "https://localhost:8080/"
        },
        "id": "AuY1AL-XQpAm",
        "outputId": "8ef383aa-2655-47fe-ea1f-f1c40171341e"
      },
      "execution_count": 18,
      "outputs": [
        {
          "output_type": "stream",
          "name": "stdout",
          "text": [
            "Trainset length:  1403\n",
            "TRAINING BERT #0\n",
            "<torch.utils.data.dataloader.DataLoader object at 0x7f1fb8eac640>\n",
            "tensor([  1., 100.], device='cuda:0')\n"
          ]
        },
        {
          "output_type": "stream",
          "name": "stderr",
          "text": [
            "\rEpoch:   0%|          | 0/2 [00:00<?, ?it/s]"
          ]
        },
        {
          "output_type": "stream",
          "name": "stdout",
          "text": [
            "Step:  99\n",
            "Step:  199\n",
            "Step:  299\n",
            "Step:  399\n",
            "Step:  499\n",
            "Step:  599\n",
            "Step:  699\n",
            "Step:  799\n",
            "Step:  899\n"
          ]
        },
        {
          "output_type": "stream",
          "name": "stderr",
          "text": [
            "\rEpoch:  50%|█████     | 1/2 [04:24<04:24, 264.30s/it]"
          ]
        },
        {
          "output_type": "stream",
          "name": "stdout",
          "text": [
            "\n",
            "\t - Train loss: 0.4118\n",
            "\t - Validation Accuracy: 0.1471\n",
            "\t - Validation Precision: 0.1471\n",
            "\t - Validation Recall: 1.0000\n",
            "\t - Validation Specificity: 0.0000\n",
            "\n",
            "Step:  99\n",
            "Step:  199\n",
            "Step:  299\n",
            "Step:  399\n",
            "Step:  499\n",
            "Step:  599\n",
            "Step:  699\n",
            "Step:  799\n",
            "Step:  899\n"
          ]
        },
        {
          "output_type": "stream",
          "name": "stderr",
          "text": [
            "Epoch: 100%|██████████| 2/2 [08:48<00:00, 264.29s/it]\n"
          ]
        },
        {
          "output_type": "stream",
          "name": "stdout",
          "text": [
            "\n",
            "\t - Train loss: 0.3607\n",
            "\t - Validation Accuracy: 0.1502\n",
            "\t - Validation Precision: 0.1476\n",
            "\t - Validation Recall: 1.0000\n",
            "\t - Validation Specificity: 0.0036\n",
            "\n",
            "TRAINING BERT #1\n",
            "<torch.utils.data.dataloader.DataLoader object at 0x7f1fb890fdf0>\n",
            "tensor([  1., 100.], device='cuda:0')\n"
          ]
        },
        {
          "output_type": "stream",
          "name": "stderr",
          "text": [
            "\rEpoch:   0%|          | 0/2 [00:00<?, ?it/s]"
          ]
        },
        {
          "output_type": "stream",
          "name": "stdout",
          "text": [
            "Step:  99\n",
            "Step:  199\n",
            "Step:  299\n",
            "Step:  399\n",
            "Step:  499\n",
            "Step:  599\n",
            "Step:  699\n",
            "Step:  799\n",
            "Step:  899\n"
          ]
        },
        {
          "output_type": "stream",
          "name": "stderr",
          "text": [
            "\rEpoch:  50%|█████     | 1/2 [04:24<04:24, 264.04s/it]"
          ]
        },
        {
          "output_type": "stream",
          "name": "stdout",
          "text": [
            "\n",
            "\t - Train loss: 0.3840\n",
            "\t - Validation Accuracy: 0.1657\n",
            "\t - Validation Precision: 0.1657\n",
            "\t - Validation Recall: 1.0000\n",
            "\t - Validation Specificity: 0.0000\n",
            "\n",
            "Step:  99\n",
            "Step:  199\n",
            "Step:  299\n",
            "Step:  399\n",
            "Step:  499\n",
            "Step:  599\n",
            "Step:  699\n",
            "Step:  799\n",
            "Step:  899\n"
          ]
        },
        {
          "output_type": "stream",
          "name": "stderr",
          "text": [
            "Epoch: 100%|██████████| 2/2 [08:48<00:00, 264.06s/it]\n"
          ]
        },
        {
          "output_type": "stream",
          "name": "stdout",
          "text": [
            "\n",
            "\t - Train loss: 0.3639\n",
            "\t - Validation Accuracy: 0.1657\n",
            "\t - Validation Precision: 0.1657\n",
            "\t - Validation Recall: 1.0000\n",
            "\t - Validation Specificity: 0.0000\n",
            "\n",
            "TRAINING BERT #2\n",
            "<torch.utils.data.dataloader.DataLoader object at 0x7f1fb890e680>\n",
            "tensor([  1., 100.], device='cuda:0')\n"
          ]
        },
        {
          "output_type": "stream",
          "name": "stderr",
          "text": [
            "\rEpoch:   0%|          | 0/2 [00:00<?, ?it/s]"
          ]
        },
        {
          "output_type": "stream",
          "name": "stdout",
          "text": [
            "Step:  99\n",
            "Step:  199\n",
            "Step:  299\n",
            "Step:  399\n",
            "Step:  499\n",
            "Step:  599\n",
            "Step:  699\n",
            "Step:  799\n",
            "Step:  899\n"
          ]
        },
        {
          "output_type": "stream",
          "name": "stderr",
          "text": [
            "\rEpoch:  50%|█████     | 1/2 [04:23<04:23, 263.81s/it]"
          ]
        },
        {
          "output_type": "stream",
          "name": "stdout",
          "text": [
            "\n",
            "\t - Train loss: 0.4062\n",
            "\t - Validation Accuracy: 0.1559\n",
            "\t - Validation Precision: 0.1559\n",
            "\t - Validation Recall: 1.0000\n",
            "\t - Validation Specificity: 0.0000\n",
            "\n",
            "Step:  99\n",
            "Step:  199\n",
            "Step:  299\n",
            "Step:  399\n",
            "Step:  499\n",
            "Step:  599\n",
            "Step:  699\n",
            "Step:  799\n",
            "Step:  899\n"
          ]
        },
        {
          "output_type": "stream",
          "name": "stderr",
          "text": [
            "Epoch: 100%|██████████| 2/2 [08:47<00:00, 263.99s/it]\n"
          ]
        },
        {
          "output_type": "stream",
          "name": "stdout",
          "text": [
            "\n",
            "\t - Train loss: 0.3517\n",
            "\t - Validation Accuracy: 0.1559\n",
            "\t - Validation Precision: 0.1559\n",
            "\t - Validation Recall: 1.0000\n",
            "\t - Validation Specificity: 0.0000\n",
            "\n",
            "TRAINING BERT #3\n",
            "<torch.utils.data.dataloader.DataLoader object at 0x7f1fb89e17e0>\n",
            "tensor([  1., 100.], device='cuda:0')\n"
          ]
        },
        {
          "output_type": "stream",
          "name": "stderr",
          "text": [
            "\rEpoch:   0%|          | 0/2 [00:00<?, ?it/s]"
          ]
        },
        {
          "output_type": "stream",
          "name": "stdout",
          "text": [
            "Step:  99\n",
            "Step:  199\n",
            "Step:  299\n",
            "Step:  399\n",
            "Step:  499\n",
            "Step:  599\n",
            "Step:  699\n",
            "Step:  799\n",
            "Step:  899\n"
          ]
        },
        {
          "output_type": "stream",
          "name": "stderr",
          "text": [
            "\rEpoch:  50%|█████     | 1/2 [04:24<04:24, 264.02s/it]"
          ]
        },
        {
          "output_type": "stream",
          "name": "stdout",
          "text": [
            "\n",
            "\t - Train loss: 0.3610\n",
            "\t - Validation Accuracy: 0.1558\n",
            "\t - Validation Precision: 0.1558\n",
            "\t - Validation Recall: 1.0000\n",
            "\t - Validation Specificity: 0.0000\n",
            "\n",
            "Step:  99\n",
            "Step:  199\n",
            "Step:  299\n",
            "Step:  399\n",
            "Step:  499\n",
            "Step:  599\n",
            "Step:  699\n",
            "Step:  799\n",
            "Step:  899\n"
          ]
        },
        {
          "output_type": "stream",
          "name": "stderr",
          "text": [
            "Epoch: 100%|██████████| 2/2 [08:48<00:00, 264.13s/it]\n"
          ]
        },
        {
          "output_type": "stream",
          "name": "stdout",
          "text": [
            "\n",
            "\t - Train loss: 0.3026\n",
            "\t - Validation Accuracy: 0.1995\n",
            "\t - Validation Precision: 0.1632\n",
            "\t - Validation Recall: 1.0000\n",
            "\t - Validation Specificity: 0.0519\n",
            "\n",
            "TRAINING BERT #4\n",
            "<torch.utils.data.dataloader.DataLoader object at 0x7f1fb85682e0>\n",
            "tensor([  1., 100.], device='cuda:0')\n"
          ]
        },
        {
          "output_type": "stream",
          "name": "stderr",
          "text": [
            "\rEpoch:   0%|          | 0/2 [00:00<?, ?it/s]"
          ]
        },
        {
          "output_type": "stream",
          "name": "stdout",
          "text": [
            "Step:  99\n",
            "Step:  199\n",
            "Step:  299\n",
            "Step:  399\n",
            "Step:  499\n",
            "Step:  599\n",
            "Step:  699\n",
            "Step:  799\n",
            "Step:  899\n"
          ]
        },
        {
          "output_type": "stream",
          "name": "stderr",
          "text": [
            "\rEpoch:  50%|█████     | 1/2 [04:24<04:24, 264.01s/it]"
          ]
        },
        {
          "output_type": "stream",
          "name": "stdout",
          "text": [
            "\n",
            "\t - Train loss: 0.3666\n",
            "\t - Validation Accuracy: 0.1895\n",
            "\t - Validation Precision: 0.1895\n",
            "\t - Validation Recall: 1.0000\n",
            "\t - Validation Specificity: 0.0000\n",
            "\n",
            "Step:  99\n",
            "Step:  199\n",
            "Step:  299\n",
            "Step:  399\n",
            "Step:  499\n",
            "Step:  599\n",
            "Step:  699\n",
            "Step:  799\n",
            "Step:  899\n"
          ]
        },
        {
          "output_type": "stream",
          "name": "stderr",
          "text": [
            "Epoch: 100%|██████████| 2/2 [08:47<00:00, 263.92s/it]\n"
          ]
        },
        {
          "output_type": "stream",
          "name": "stdout",
          "text": [
            "\n",
            "\t - Train loss: 0.3106\n",
            "\t - Validation Accuracy: 0.1895\n",
            "\t - Validation Precision: 0.1895\n",
            "\t - Validation Recall: 1.0000\n",
            "\t - Validation Specificity: 0.0000\n",
            "\n",
            "TRAINING BERT #5\n",
            "<torch.utils.data.dataloader.DataLoader object at 0x7f1fb8568760>\n",
            "tensor([  1., 100.], device='cuda:0')\n"
          ]
        },
        {
          "output_type": "stream",
          "name": "stderr",
          "text": [
            "\rEpoch:   0%|          | 0/2 [00:00<?, ?it/s]"
          ]
        },
        {
          "output_type": "stream",
          "name": "stdout",
          "text": [
            "Step:  99\n",
            "Step:  199\n",
            "Step:  299\n",
            "Step:  399\n",
            "Step:  499\n",
            "Step:  599\n",
            "Step:  699\n",
            "Step:  799\n",
            "Step:  899\n"
          ]
        },
        {
          "output_type": "stream",
          "name": "stderr",
          "text": [
            "\rEpoch:  50%|█████     | 1/2 [04:24<04:24, 264.17s/it]"
          ]
        },
        {
          "output_type": "stream",
          "name": "stdout",
          "text": [
            "\n",
            "\t - Train loss: 0.3648\n",
            "\t - Validation Accuracy: 0.1859\n",
            "\t - Validation Precision: 0.1859\n",
            "\t - Validation Recall: 1.0000\n",
            "\t - Validation Specificity: 0.0000\n",
            "\n",
            "Step:  99\n",
            "Step:  199\n",
            "Step:  299\n",
            "Step:  399\n",
            "Step:  499\n",
            "Step:  599\n",
            "Step:  699\n",
            "Step:  799\n",
            "Step:  899\n"
          ]
        },
        {
          "output_type": "stream",
          "name": "stderr",
          "text": [
            "Epoch: 100%|██████████| 2/2 [08:48<00:00, 264.22s/it]"
          ]
        },
        {
          "output_type": "stream",
          "name": "stdout",
          "text": [
            "\n",
            "\t - Train loss: 0.2823\n",
            "\t - Validation Accuracy: 0.1859\n",
            "\t - Validation Precision: 0.1859\n",
            "\t - Validation Recall: 1.0000\n",
            "\t - Validation Specificity: 0.0000\n",
            "\n"
          ]
        },
        {
          "output_type": "stream",
          "name": "stderr",
          "text": [
            "\n"
          ]
        }
      ]
    },
    {
      "cell_type": "markdown",
      "source": [
        "# Hierarchical training\n",
        "\n",
        "BERT seems to learn how to classify classes 0 and 5 very well, but cant disstinguish between the rest.\n",
        "\n",
        "We will now try a hierarchical approach, first discriminating between (0,5 and not-0-or-5), and then training a separate model to further classify the not-0-or-5 entries into 1,2,3 and 4 "
      ],
      "metadata": {
        "id": "G2HfA4cOlN5U"
      }
    },
    {
      "cell_type": "code",
      "source": [
        "\"\"\"\n",
        "\n",
        "tree so far:\n",
        "\n",
        "    ___\n",
        "   / | \\\n",
        "  0  5  else\n",
        "        -+-\n",
        "      / | | \\\n",
        "     1  2 3  4\n",
        "\n",
        "FIRST BRANCH:\n",
        "remapping \n",
        "1,2,3,4   -> 0\n",
        "0         -> 1\n",
        "5         -> 2\n",
        "\n",
        "\n",
        "SECOND BRANCH:\n",
        "remapping\n",
        "1         -> 0\n",
        "2         -> 1\n",
        "3         -> 2\n",
        "4         -> 3\n",
        "\n",
        "\"\"\"\n",
        "\n",
        "# convert labels to first branch mappings\n",
        "first_node_labels = torch.tensor(np.zeros_like(labels))\n",
        "first_node_labels[(labels == 0).nonzero()] = 1\n",
        "first_node_labels[(labels == 5).nonzero()] = 2\n",
        "\n",
        "\n",
        "first_node_train_set = TensorDataset(token_id[train_idx], \n",
        "                          attention_masks[train_idx], \n",
        "                          first_node_labels[train_idx])\n",
        "\n",
        "first_node_val_set = TensorDataset(token_id[val_idx], \n",
        "                        attention_masks[val_idx], \n",
        "                        first_node_labels[val_idx])\n",
        "\n",
        "first_node_test_set = TensorDataset(token_id[test_idx], \n",
        "                        attention_masks[test_idx], \n",
        "                        first_node_labels[test_idx])\n",
        "\n",
        "first_node_train_dataloader = DataLoader(\n",
        "            first_node_train_set,\n",
        "            sampler = RandomSampler(first_node_train_set),\n",
        "            batch_size = batch_size\n",
        "        )\n",
        "\n",
        "first_node_validation_dataloader = DataLoader(\n",
        "            first_node_val_set,\n",
        "            sampler = SequentialSampler(first_node_val_set),\n",
        "            batch_size = batch_size\n",
        "        )\n",
        "\n",
        "first_node_test_dataloader = DataLoader(\n",
        "            first_node_test_set,\n",
        "            sampler = SequentialSampler(first_node_test_set),\n",
        "            batch_size = batch_size\n",
        "        )\n",
        "  \n",
        "print(\"first branch counts: \", end='\\t')\n",
        "counts = [0,0,0,0,0,0]\n",
        "for el in tqdm(first_node_labels):\n",
        "  counts[el] += 1\n",
        "print(counts)\n",
        "\n",
        "print(\"lens: \", len(first_node_train_dataloader), len(first_node_validation_dataloader), len(first_node_test_dataloader))\n",
        "print()\n",
        "\n",
        "\n",
        "# get only second node branch mappings\n",
        "# second_node_labels = labels[labels != 0]\n",
        "# second_node_labels = second_node_labels[second_node_labels != 5]\n",
        "\n",
        "# temp = np.copy(second_node_labels)\n",
        "# second_node_labels[(temp == 1).nonzero()] = 0\n",
        "# second_node_labels[(temp == 2).nonzero()] = 1\n",
        "# second_node_labels[(temp == 3).nonzero()] = 2\n",
        "# second_node_labels[(temp == 4).nonzero()] = 3\n",
        "\n",
        "second_node_labels = torch.tensor(np.copy(labels))\n",
        "second_node_labels[(labels == 0).nonzero()] = 9\n",
        "second_node_labels[(labels == 1).nonzero()] = 0\n",
        "second_node_labels[(labels == 2).nonzero()] = 1\n",
        "second_node_labels[(labels == 3).nonzero()] = 2\n",
        "second_node_labels[(labels == 4).nonzero()] = 3\n",
        "second_node_labels[(labels == 5).nonzero()] = 9\n",
        "\n",
        "second_node_labels = second_node_labels[second_node_labels != 9]\n",
        "\n",
        "# get second branch indices\n",
        "second_train_idx, second_temp_idx = train_test_split(\n",
        "    np.arange(len(second_node_labels)),\n",
        "    test_size = valntest_ratio,\n",
        "    shuffle = True,\n",
        "    stratify = second_node_labels)\n",
        "\n",
        "second_val_idx, second_test_idx = train_test_split(\n",
        "    np.arange(len(second_node_labels[second_temp_idx])),\n",
        "    test_size = valtest_split,\n",
        "    shuffle = True,\n",
        "    stratify = second_node_labels[second_temp_idx])\n",
        "\n",
        "\n",
        "second_node_train_set = TensorDataset(token_id[second_train_idx], \n",
        "                          attention_masks[second_train_idx], \n",
        "                          second_node_labels[second_train_idx])\n",
        "\n",
        "second_node_val_set = TensorDataset(token_id[second_val_idx], \n",
        "                        attention_masks[second_val_idx], \n",
        "                        second_node_labels[second_val_idx])\n",
        "\n",
        "second_node_test_set = TensorDataset(token_id[second_test_idx], \n",
        "                        attention_masks[second_test_idx], \n",
        "                        second_node_labels[second_test_idx])\n",
        "\n",
        "second_node_train_dataloader = DataLoader(\n",
        "            second_node_train_set,\n",
        "            sampler = RandomSampler(second_node_train_set),\n",
        "            batch_size = batch_size\n",
        "        )\n",
        "\n",
        "second_node_validation_dataloader = DataLoader(\n",
        "            second_node_val_set,\n",
        "            sampler = SequentialSampler(second_node_val_set),\n",
        "            batch_size = batch_size\n",
        "        )\n",
        "\n",
        "second_node_test_dataloader = DataLoader(\n",
        "            second_node_test_set,\n",
        "            sampler = SequentialSampler(second_node_test_set),\n",
        "            batch_size = batch_size\n",
        "        )\n",
        "\n",
        "print(labels)\n",
        "print(first_node_labels)\n",
        "print(second_node_labels)\n",
        "\n",
        "for i in range(0,50):\n",
        "  print(int(labels[i]), end=' ')\n",
        "\n",
        "print()\n",
        "\n",
        "for i in range(0,50):\n",
        "  print(int(second_node_labels[i]), end=' ')\n"
      ],
      "metadata": {
        "colab": {
          "base_uri": "https://localhost:8080/"
        },
        "id": "VXKWuaPDlyfI",
        "outputId": "7ef519df-41de-40be-8394-b13974d91faf"
      },
      "execution_count": 19,
      "outputs": [
        {
          "output_type": "stream",
          "name": "stdout",
          "text": [
            "first branch counts: \t"
          ]
        },
        {
          "output_type": "stream",
          "name": "stderr",
          "text": [
            "100%|██████████| 21935/21935 [00:00<00:00, 80122.74it/s]"
          ]
        },
        {
          "output_type": "stream",
          "name": "stdout",
          "text": [
            "[14647, 3422, 3866, 0, 0, 0]\n",
            "lens:  960 206 206\n",
            "\n",
            "tensor([3, 1, 1,  ..., 2, 5, 0])\n",
            "tensor([0, 0, 0,  ..., 0, 2, 1])\n",
            "tensor([2, 0, 0,  ..., 1, 2, 1])\n",
            "3 1 1 1 1 3 1 4 3 5 2 0 4 4 5 0 3 0 3 2 1 4 4 3 3 3 3 2 0 5 0 0 4 0 4 0 2 1 0 3 1 5 5 0 0 1 1 5 1 2 \n",
            "2 0 0 0 0 2 0 3 2 1 3 3 2 2 1 0 3 3 2 2 2 2 1 3 3 1 0 2 0 0 0 0 1 1 2 2 2 3 1 1 3 3 0 3 0 1 3 2 3 2 "
          ]
        },
        {
          "output_type": "stream",
          "name": "stderr",
          "text": [
            "\n"
          ]
        }
      ]
    },
    {
      "cell_type": "code",
      "source": [
        "counts = [0,0,0,0]\n",
        "for k in second_node_train_dataloader:\n",
        "  for e in k[-1]:\n",
        "    counts[e] += 1\n",
        "\n",
        "print(counts)"
      ],
      "metadata": {
        "colab": {
          "base_uri": "https://localhost:8080/"
        },
        "id": "HE-iNSIJzqrM",
        "outputId": "e4471942-070f-40c8-a06e-779386ec7730"
      },
      "execution_count": 20,
      "outputs": [
        {
          "output_type": "stream",
          "name": "stdout",
          "text": [
            "[2460, 2502, 2651, 2639]\n"
          ]
        }
      ]
    },
    {
      "cell_type": "code",
      "source": [
        "# train both BERTs on each dataset separately\n",
        "# during inference, things that first_node_bert classifies as '0' are sent to second_node_bert for further classification\n",
        "# training occurs separately\n",
        "\n",
        "# train first bert\n",
        "device = torch.device('cuda' if torch.cuda.is_available() else 'cpu')\n",
        "\n",
        "first_node_bert = BertForSequenceClassification.from_pretrained(\n",
        "    'dccuchile/bert-base-spanish-wwm-cased',\n",
        "    num_labels = 3,\n",
        "    output_attentions = False,\n",
        "    output_hidden_states = False,\n",
        "  ).to(device)\n",
        "\n",
        "model = first_node_bert\n",
        "optimizer = torch.optim.AdamW(model.parameters(), \n",
        "                            lr = 5e-5,\n",
        "                            eps = 1e-08\n",
        "                            )\n",
        "lossFn = nn.CrossEntropyLoss().cuda()\n",
        "epochs = 2\n",
        "\n",
        "for _ in trange(epochs, desc = 'Epoch'):\n",
        "    # ========== Training ==========\n",
        "    \n",
        "    # Set model to training mode\n",
        "    model.train()\n",
        "    \n",
        "    # Tracking variables\n",
        "    tr_loss = 0\n",
        "    nb_tr_examples, nb_tr_steps = 0, 0\n",
        "\n",
        "    updator=100\n",
        "    for step, batch in enumerate(first_node_train_dataloader):\n",
        "        if (step + 1) % 100 == 0:\n",
        "          print(\"Step: \", step)\n",
        "\n",
        "        batch = tuple(t.to(device) for t in batch)\n",
        "        b_input_ids, b_input_mask, b_labels = batch\n",
        "        optimizer.zero_grad()\n",
        "        # Forward pass\n",
        "        train_output = model(b_input_ids, \n",
        "                            token_type_ids = None, \n",
        "                            attention_mask = b_input_mask, \n",
        "                            labels = b_labels)\n",
        "\n",
        "        # Backward pass\n",
        "        cntLoss = lossFn(train_output.logits, b_labels)\n",
        "        cntLoss.backward()\n",
        "\n",
        "        optimizer.step()\n",
        "        # Update tracking variables\n",
        "        tr_loss += cntLoss\n",
        "        nb_tr_examples += b_input_ids.size(0)\n",
        "        nb_tr_steps += 1\n",
        "\n",
        "    # ========== Validation ==========\n",
        "\n",
        "    # Set model to evaluation mode\n",
        "    model.eval()\n",
        "\n",
        "    # Tracking variables \n",
        "    val_accuracy = []\n",
        "    val_precision = []\n",
        "    val_recall = []\n",
        "    val_specificity = []\n",
        "\n",
        "    all_labels = np.array([])\n",
        "    all_preds = np.array([])\n",
        "\n",
        "    for batch in first_node_validation_dataloader:\n",
        "        batch = tuple(t.to(device) for t in batch)\n",
        "        b_input_ids, b_input_mask, b_labels = batch\n",
        "        with torch.no_grad():\n",
        "          # Forward pass\n",
        "          eval_output = model(b_input_ids, \n",
        "                              token_type_ids = None, \n",
        "                              attention_mask = b_input_mask)\n",
        "        logits = eval_output.logits.detach().cpu().numpy()\n",
        "        label_ids = b_labels.to('cpu').numpy()\n",
        "\n",
        "        all_labels = np.append(all_labels, label_ids)\n",
        "        all_preds = np.append(all_preds, np.argmax(logits, axis = 1).flatten())\n",
        "        # Calculate validation metrics\n",
        "        b_accuracy, b_precision, b_recall, b_specificity = b_metrics(logits, label_ids)\n",
        "        val_accuracy.append(b_accuracy)\n",
        "        # Update precision only when (tp + fp) !=0; ignore nan\n",
        "        if b_precision != 'nan': val_precision.append(b_precision)\n",
        "        # Update recall only when (tp + fn) !=0; ignore nan\n",
        "        if b_recall != 'nan': val_recall.append(b_recall)\n",
        "        # Update specificity only when (tn + fp) !=0; ignore nan\n",
        "        if b_specificity != 'nan': val_specificity.append(b_specificity)\n",
        "\n",
        "    print('\\n\\t - Train loss: {:.4f}'.format(tr_loss / nb_tr_steps))\n",
        "    print('\\t - Validation Accuracy: {:.4f}'.format(sum(val_accuracy)/len(val_accuracy)))\n",
        "    print('\\t - Validation Precision: {:.4f}'.format(sum(val_precision)/len(val_precision)) if len(val_precision)>0 else '\\t - Validation Precision: NaN')\n",
        "    print('\\t - Validation Recall: {:.4f}'.format(sum(val_recall)/len(val_recall)) if len(val_recall)>0 else '\\t - Validation Recall: NaN')\n",
        "    print('\\t - Validation Specificity: {:.4f}\\n'.format(sum(val_specificity)/len(val_specificity)) if len(val_specificity)>0 else '\\t - Validation Specificity: NaN')\n",
        "\n",
        "    from sklearn.metrics import classification_report   \n",
        "    print(classification_report(all_labels, all_preds))"
      ],
      "metadata": {
        "colab": {
          "base_uri": "https://localhost:8080/"
        },
        "id": "IJZwPzdPqmzb",
        "outputId": "107e97f6-5dee-4d51-fd36-c466d525ba08"
      },
      "execution_count": 21,
      "outputs": [
        {
          "output_type": "stream",
          "name": "stderr",
          "text": [
            "Some weights of the model checkpoint at dccuchile/bert-base-spanish-wwm-cased were not used when initializing BertForSequenceClassification: ['cls.predictions.transform.dense.weight', 'cls.predictions.decoder.bias', 'cls.predictions.bias', 'cls.predictions.transform.LayerNorm.bias', 'cls.predictions.transform.dense.bias', 'cls.predictions.decoder.weight', 'cls.predictions.transform.LayerNorm.weight']\n",
            "- This IS expected if you are initializing BertForSequenceClassification from the checkpoint of a model trained on another task or with another architecture (e.g. initializing a BertForSequenceClassification model from a BertForPreTraining model).\n",
            "- This IS NOT expected if you are initializing BertForSequenceClassification from the checkpoint of a model that you expect to be exactly identical (initializing a BertForSequenceClassification model from a BertForSequenceClassification model).\n",
            "Some weights of BertForSequenceClassification were not initialized from the model checkpoint at dccuchile/bert-base-spanish-wwm-cased and are newly initialized: ['bert.pooler.dense.bias', 'classifier.weight', 'classifier.bias', 'bert.pooler.dense.weight']\n",
            "You should probably TRAIN this model on a down-stream task to be able to use it for predictions and inference.\n",
            "Epoch:   0%|          | 0/2 [00:00<?, ?it/s]"
          ]
        },
        {
          "output_type": "stream",
          "name": "stdout",
          "text": [
            "Step:  99\n",
            "Step:  199\n",
            "Step:  299\n",
            "Step:  399\n",
            "Step:  499\n",
            "Step:  599\n",
            "Step:  699\n",
            "Step:  799\n",
            "Step:  899\n"
          ]
        },
        {
          "output_type": "stream",
          "name": "stderr",
          "text": [
            "\rEpoch:  50%|█████     | 1/2 [04:24<04:24, 264.10s/it]"
          ]
        },
        {
          "output_type": "stream",
          "name": "stdout",
          "text": [
            "\n",
            "\t - Train loss: 0.5300\n",
            "\t - Validation Accuracy: 0.7186\n",
            "\t - Validation Precision: 0.7964\n",
            "\t - Validation Recall: 0.5041\n",
            "\t - Validation Specificity: 0.9674\n",
            "\n",
            "              precision    recall  f1-score   support\n",
            "\n",
            "         0.0       0.88      0.95      0.91      2194\n",
            "         1.0       0.80      0.58      0.67       485\n",
            "         2.0       0.93      0.87      0.90       611\n",
            "\n",
            "    accuracy                           0.88      3290\n",
            "   macro avg       0.87      0.80      0.83      3290\n",
            "weighted avg       0.88      0.88      0.88      3290\n",
            "\n",
            "Step:  99\n",
            "Step:  199\n",
            "Step:  299\n",
            "Step:  399\n",
            "Step:  499\n",
            "Step:  599\n",
            "Step:  699\n",
            "Step:  799\n",
            "Step:  899\n"
          ]
        },
        {
          "output_type": "stream",
          "name": "stderr",
          "text": [
            "Epoch: 100%|██████████| 2/2 [08:48<00:00, 264.12s/it]"
          ]
        },
        {
          "output_type": "stream",
          "name": "stdout",
          "text": [
            "\n",
            "\t - Train loss: 0.3103\n",
            "\t - Validation Accuracy: 0.7279\n",
            "\t - Validation Precision: 0.9391\n",
            "\t - Validation Recall: 0.4671\n",
            "\t - Validation Specificity: 0.9927\n",
            "\n",
            "              precision    recall  f1-score   support\n",
            "\n",
            "         0.0       0.89      0.98      0.93      2194\n",
            "         1.0       0.94      0.52      0.67       485\n",
            "         2.0       0.93      0.92      0.93       611\n",
            "\n",
            "    accuracy                           0.90      3290\n",
            "   macro avg       0.92      0.81      0.84      3290\n",
            "weighted avg       0.90      0.90      0.89      3290\n",
            "\n"
          ]
        },
        {
          "output_type": "stream",
          "name": "stderr",
          "text": [
            "\n"
          ]
        }
      ]
    },
    {
      "cell_type": "code",
      "source": [
        "# train second bert\n",
        "device = torch.device('cuda' if torch.cuda.is_available() else 'cpu')\n",
        "\n",
        "second_node_bert = BertForSequenceClassification.from_pretrained(\n",
        "    'dccuchile/bert-base-spanish-wwm-cased',\n",
        "    num_labels = 4,\n",
        "    output_attentions = False,\n",
        "    output_hidden_states = False,\n",
        "  ).to(device)\n",
        "\n",
        "model = second_node_bert\n",
        "lossFn = nn.CrossEntropyLoss().cuda()\n",
        "epochs = 4\n",
        "\n",
        "for _ in trange(epochs, desc = 'Epoch'):\n",
        "    # ========== Training ==========\n",
        "    if epochs == 0 or epochs == 1:\n",
        "      optimizer = torch.optim.AdamW(model.parameters(), \n",
        "                                  lr = 1e-5,\n",
        "                                  eps = 1e-08\n",
        "                                  )\n",
        "    elif epochs == 2:\n",
        "      optimizer = torch.optim.AdamW(model.parameters(), \n",
        "                                  lr = 7e-6,\n",
        "                                  eps = 1e-08\n",
        "                                  )\n",
        "    \n",
        "    elif epochs == 3:\n",
        "      optimizer = torch.optim.AdamW(model.parameters(), \n",
        "                                  lr = 3e-6,\n",
        "                                  eps = 1e-08\n",
        "                                  )\n",
        "\n",
        "    # Set model to training mode\n",
        "    model.train()\n",
        "    \n",
        "    # Tracking variables\n",
        "    tr_loss = 0\n",
        "    nb_tr_examples, nb_tr_steps = 0, 0\n",
        "\n",
        "    updator=100\n",
        "    for step, batch in enumerate(second_node_train_dataloader):\n",
        "        if (step + 1) % 100 == 0:\n",
        "          print(\"Step: \", step)\n",
        "\n",
        "        batch = tuple(t.to(device) for t in batch)\n",
        "        b_input_ids, b_input_mask, b_labels = batch\n",
        "        optimizer.zero_grad()\n",
        "        # Forward pass\n",
        "        train_output = model(b_input_ids, \n",
        "                            token_type_ids = None, \n",
        "                            attention_mask = b_input_mask, \n",
        "                            labels = b_labels)\n",
        "\n",
        "        # Backward pass\n",
        "        cntLoss = lossFn(train_output.logits, b_labels)\n",
        "        cntLoss.backward()\n",
        "\n",
        "        optimizer.step()\n",
        "        # Update tracking variables\n",
        "        tr_loss += cntLoss\n",
        "        nb_tr_examples += b_input_ids.size(0)\n",
        "        nb_tr_steps += 1\n",
        "\n",
        "    # ========== Validation ==========\n",
        "\n",
        "    # Set model to evaluation mode\n",
        "    model.eval()\n",
        "\n",
        "    # Tracking variables \n",
        "    val_accuracy = []\n",
        "    val_precision = []\n",
        "    val_recall = []\n",
        "    val_specificity = []\n",
        "\n",
        "    all_labels = np.array([])\n",
        "    all_preds = np.array([])\n",
        "\n",
        "    for batch in second_node_validation_dataloader:\n",
        "        batch = tuple(t.to(device) for t in batch)\n",
        "        b_input_ids, b_input_mask, b_labels = batch\n",
        "        with torch.no_grad():\n",
        "          # Forward pass\n",
        "          eval_output = model(b_input_ids, \n",
        "                              token_type_ids = None, \n",
        "                              attention_mask = b_input_mask)\n",
        "        logits = eval_output.logits.detach().cpu().numpy()\n",
        "        label_ids = b_labels.to('cpu').numpy()\n",
        "\n",
        "        all_labels = np.append(all_labels, label_ids)\n",
        "        all_preds = np.append(all_preds, np.argmax(logits, axis = 1).flatten())\n",
        "        # Calculate validation metrics\n",
        "        b_accuracy, b_precision, b_recall, b_specificity = b_metrics(logits, label_ids)\n",
        "        val_accuracy.append(b_accuracy)\n",
        "        # Update precision only when (tp + fp) !=0; ignore nan\n",
        "        if b_precision != 'nan': val_precision.append(b_precision)\n",
        "        # Update recall only when (tp + fn) !=0; ignore nan\n",
        "        if b_recall != 'nan': val_recall.append(b_recall)\n",
        "        # Update specificity only when (tn + fp) !=0; ignore nan\n",
        "        if b_specificity != 'nan': val_specificity.append(b_specificity)\n",
        "\n",
        "    print('\\n\\t - Train loss: {:.4f}'.format(tr_loss / nb_tr_steps))\n",
        "    print('\\t - Validation Accuracy: {:.4f}'.format(sum(val_accuracy)/len(val_accuracy)))\n",
        "    print('\\t - Validation Precision: {:.4f}'.format(sum(val_precision)/len(val_precision)) if len(val_precision)>0 else '\\t - Validation Precision: NaN')\n",
        "    print('\\t - Validation Recall: {:.4f}'.format(sum(val_recall)/len(val_recall)) if len(val_recall)>0 else '\\t - Validation Recall: NaN')\n",
        "    print('\\t - Validation Specificity: {:.4f}\\n'.format(sum(val_specificity)/len(val_specificity)) if len(val_specificity)>0 else '\\t - Validation Specificity: NaN')\n",
        "\n",
        "    from sklearn.metrics import classification_report   \n",
        "    print(classification_report(all_labels, all_preds))"
      ],
      "metadata": {
        "colab": {
          "base_uri": "https://localhost:8080/"
        },
        "id": "4yqnjtQ2vqJU",
        "outputId": "0f643689-e1e0-48f2-e1bb-66ae64b753b7"
      },
      "execution_count": 22,
      "outputs": [
        {
          "output_type": "stream",
          "name": "stderr",
          "text": [
            "Some weights of the model checkpoint at dccuchile/bert-base-spanish-wwm-cased were not used when initializing BertForSequenceClassification: ['cls.predictions.transform.dense.weight', 'cls.predictions.decoder.bias', 'cls.predictions.bias', 'cls.predictions.transform.LayerNorm.bias', 'cls.predictions.transform.dense.bias', 'cls.predictions.decoder.weight', 'cls.predictions.transform.LayerNorm.weight']\n",
            "- This IS expected if you are initializing BertForSequenceClassification from the checkpoint of a model trained on another task or with another architecture (e.g. initializing a BertForSequenceClassification model from a BertForPreTraining model).\n",
            "- This IS NOT expected if you are initializing BertForSequenceClassification from the checkpoint of a model that you expect to be exactly identical (initializing a BertForSequenceClassification model from a BertForSequenceClassification model).\n",
            "Some weights of BertForSequenceClassification were not initialized from the model checkpoint at dccuchile/bert-base-spanish-wwm-cased and are newly initialized: ['bert.pooler.dense.bias', 'classifier.weight', 'classifier.bias', 'bert.pooler.dense.weight']\n",
            "You should probably TRAIN this model on a down-stream task to be able to use it for predictions and inference.\n",
            "Epoch:   0%|          | 0/4 [00:00<?, ?it/s]"
          ]
        },
        {
          "output_type": "stream",
          "name": "stdout",
          "text": [
            "Step:  99\n",
            "Step:  199\n",
            "Step:  299\n",
            "Step:  399\n",
            "Step:  499\n",
            "Step:  599\n"
          ]
        },
        {
          "output_type": "stream",
          "name": "stderr",
          "text": [
            "/usr/local/lib/python3.10/dist-packages/sklearn/metrics/_classification.py:1344: UndefinedMetricWarning: Precision and F-score are ill-defined and being set to 0.0 in labels with no predicted samples. Use `zero_division` parameter to control this behavior.\n",
            "  _warn_prf(average, modifier, msg_start, len(result))\n",
            "/usr/local/lib/python3.10/dist-packages/sklearn/metrics/_classification.py:1344: UndefinedMetricWarning: Precision and F-score are ill-defined and being set to 0.0 in labels with no predicted samples. Use `zero_division` parameter to control this behavior.\n",
            "  _warn_prf(average, modifier, msg_start, len(result))\n",
            "/usr/local/lib/python3.10/dist-packages/sklearn/metrics/_classification.py:1344: UndefinedMetricWarning: Precision and F-score are ill-defined and being set to 0.0 in labels with no predicted samples. Use `zero_division` parameter to control this behavior.\n",
            "  _warn_prf(average, modifier, msg_start, len(result))\n",
            "\rEpoch:  25%|██▌       | 1/4 [02:34<07:44, 154.86s/it]"
          ]
        },
        {
          "output_type": "stream",
          "name": "stdout",
          "text": [
            "\n",
            "\t - Train loss: 1.4080\n",
            "\t - Validation Accuracy: 0.1395\n",
            "\t - Validation Precision: 0.2124\n",
            "\t - Validation Recall: 0.0243\n",
            "\t - Validation Specificity: 0.8210\n",
            "\n",
            "              precision    recall  f1-score   support\n",
            "\n",
            "         0.0       0.25      0.52      0.34       559\n",
            "         1.0       0.22      0.04      0.06       492\n",
            "         2.0       0.25      0.44      0.32       546\n",
            "         3.0       0.00      0.00      0.00       600\n",
            "\n",
            "    accuracy                           0.25      2197\n",
            "   macro avg       0.18      0.25      0.18      2197\n",
            "weighted avg       0.18      0.25      0.18      2197\n",
            "\n",
            "Step:  99\n",
            "Step:  199\n",
            "Step:  299\n",
            "Step:  399\n",
            "Step:  499\n",
            "Step:  599\n"
          ]
        },
        {
          "output_type": "stream",
          "name": "stderr",
          "text": [
            "/usr/local/lib/python3.10/dist-packages/sklearn/metrics/_classification.py:1344: UndefinedMetricWarning: Precision and F-score are ill-defined and being set to 0.0 in labels with no predicted samples. Use `zero_division` parameter to control this behavior.\n",
            "  _warn_prf(average, modifier, msg_start, len(result))\n",
            "/usr/local/lib/python3.10/dist-packages/sklearn/metrics/_classification.py:1344: UndefinedMetricWarning: Precision and F-score are ill-defined and being set to 0.0 in labels with no predicted samples. Use `zero_division` parameter to control this behavior.\n",
            "  _warn_prf(average, modifier, msg_start, len(result))\n",
            "/usr/local/lib/python3.10/dist-packages/sklearn/metrics/_classification.py:1344: UndefinedMetricWarning: Precision and F-score are ill-defined and being set to 0.0 in labels with no predicted samples. Use `zero_division` parameter to control this behavior.\n",
            "  _warn_prf(average, modifier, msg_start, len(result))\n",
            "\rEpoch:  50%|█████     | 2/4 [05:09<05:09, 154.73s/it]"
          ]
        },
        {
          "output_type": "stream",
          "name": "stdout",
          "text": [
            "\n",
            "\t - Train loss: 1.4095\n",
            "\t - Validation Accuracy: 0.1395\n",
            "\t - Validation Precision: 0.2124\n",
            "\t - Validation Recall: 0.0243\n",
            "\t - Validation Specificity: 0.8210\n",
            "\n",
            "              precision    recall  f1-score   support\n",
            "\n",
            "         0.0       0.25      0.52      0.34       559\n",
            "         1.0       0.22      0.04      0.06       492\n",
            "         2.0       0.25      0.44      0.32       546\n",
            "         3.0       0.00      0.00      0.00       600\n",
            "\n",
            "    accuracy                           0.25      2197\n",
            "   macro avg       0.18      0.25      0.18      2197\n",
            "weighted avg       0.18      0.25      0.18      2197\n",
            "\n",
            "Step:  99\n",
            "Step:  199\n",
            "Step:  299\n",
            "Step:  399\n",
            "Step:  499\n",
            "Step:  599\n"
          ]
        },
        {
          "output_type": "stream",
          "name": "stderr",
          "text": [
            "/usr/local/lib/python3.10/dist-packages/sklearn/metrics/_classification.py:1344: UndefinedMetricWarning: Precision and F-score are ill-defined and being set to 0.0 in labels with no predicted samples. Use `zero_division` parameter to control this behavior.\n",
            "  _warn_prf(average, modifier, msg_start, len(result))\n",
            "/usr/local/lib/python3.10/dist-packages/sklearn/metrics/_classification.py:1344: UndefinedMetricWarning: Precision and F-score are ill-defined and being set to 0.0 in labels with no predicted samples. Use `zero_division` parameter to control this behavior.\n",
            "  _warn_prf(average, modifier, msg_start, len(result))\n",
            "/usr/local/lib/python3.10/dist-packages/sklearn/metrics/_classification.py:1344: UndefinedMetricWarning: Precision and F-score are ill-defined and being set to 0.0 in labels with no predicted samples. Use `zero_division` parameter to control this behavior.\n",
            "  _warn_prf(average, modifier, msg_start, len(result))\n",
            "\rEpoch:  75%|███████▌  | 3/4 [07:44<02:34, 154.64s/it]"
          ]
        },
        {
          "output_type": "stream",
          "name": "stdout",
          "text": [
            "\n",
            "\t - Train loss: 1.4098\n",
            "\t - Validation Accuracy: 0.1395\n",
            "\t - Validation Precision: 0.2124\n",
            "\t - Validation Recall: 0.0243\n",
            "\t - Validation Specificity: 0.8210\n",
            "\n",
            "              precision    recall  f1-score   support\n",
            "\n",
            "         0.0       0.25      0.52      0.34       559\n",
            "         1.0       0.22      0.04      0.06       492\n",
            "         2.0       0.25      0.44      0.32       546\n",
            "         3.0       0.00      0.00      0.00       600\n",
            "\n",
            "    accuracy                           0.25      2197\n",
            "   macro avg       0.18      0.25      0.18      2197\n",
            "weighted avg       0.18      0.25      0.18      2197\n",
            "\n",
            "Step:  99\n",
            "Step:  199\n",
            "Step:  299\n",
            "Step:  399\n",
            "Step:  499\n",
            "Step:  599\n"
          ]
        },
        {
          "output_type": "stream",
          "name": "stderr",
          "text": [
            "/usr/local/lib/python3.10/dist-packages/sklearn/metrics/_classification.py:1344: UndefinedMetricWarning: Precision and F-score are ill-defined and being set to 0.0 in labels with no predicted samples. Use `zero_division` parameter to control this behavior.\n",
            "  _warn_prf(average, modifier, msg_start, len(result))\n",
            "/usr/local/lib/python3.10/dist-packages/sklearn/metrics/_classification.py:1344: UndefinedMetricWarning: Precision and F-score are ill-defined and being set to 0.0 in labels with no predicted samples. Use `zero_division` parameter to control this behavior.\n",
            "  _warn_prf(average, modifier, msg_start, len(result))\n",
            "/usr/local/lib/python3.10/dist-packages/sklearn/metrics/_classification.py:1344: UndefinedMetricWarning: Precision and F-score are ill-defined and being set to 0.0 in labels with no predicted samples. Use `zero_division` parameter to control this behavior.\n",
            "  _warn_prf(average, modifier, msg_start, len(result))\n",
            "Epoch: 100%|██████████| 4/4 [10:18<00:00, 154.58s/it]"
          ]
        },
        {
          "output_type": "stream",
          "name": "stdout",
          "text": [
            "\n",
            "\t - Train loss: 1.4091\n",
            "\t - Validation Accuracy: 0.1395\n",
            "\t - Validation Precision: 0.2124\n",
            "\t - Validation Recall: 0.0243\n",
            "\t - Validation Specificity: 0.8210\n",
            "\n",
            "              precision    recall  f1-score   support\n",
            "\n",
            "         0.0       0.25      0.52      0.34       559\n",
            "         1.0       0.22      0.04      0.06       492\n",
            "         2.0       0.25      0.44      0.32       546\n",
            "         3.0       0.00      0.00      0.00       600\n",
            "\n",
            "    accuracy                           0.25      2197\n",
            "   macro avg       0.18      0.25      0.18      2197\n",
            "weighted avg       0.18      0.25      0.18      2197\n",
            "\n"
          ]
        },
        {
          "output_type": "stream",
          "name": "stderr",
          "text": [
            "\n"
          ]
        }
      ]
    }
  ]
}